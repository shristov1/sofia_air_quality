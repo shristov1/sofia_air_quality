{
 "cells": [
  {
   "cell_type": "code",
   "execution_count": 9,
   "metadata": {},
   "outputs": [],
   "source": [
    "import pandas as pd\n",
    "import seaborn as sns\n",
    "import matplotlib.pyplot as plt\n",
    "from download_climate_data import download_data\n",
    "import os\n",
    "import datetime"
   ]
  },
  {
   "cell_type": "markdown",
   "metadata": {},
   "source": [
    "We are only interested in sensors with the following parameters: (sensor_name = sds011, sensor_id = 6127) and (sensor_name = bme280, sensor_id = 6128)."
   ]
  },
  {
   "cell_type": "code",
   "execution_count": 197,
   "metadata": {},
   "outputs": [],
   "source": [
    "def part_day(x):\n",
    "    \"\"\" Returns part of day based on the timestamp hour \"\"\"\n",
    "    x = x.hour\n",
    "    if (x > 4) and (x <= 8):\n",
    "        return 1\n",
    "    elif (x > 8) and (x <= 12):\n",
    "        return 2\n",
    "    elif (x > 12) and (x <= 14):\n",
    "        return 3\n",
    "    elif (x > 14) and (x <= 18):\n",
    "        return 4\n",
    "    elif (x > 18) and (x <= 22):\n",
    "        return 5\n",
    "    else:\n",
    "        return 6"
   ]
  },
  {
   "cell_type": "code",
   "execution_count": 198,
   "metadata": {},
   "outputs": [],
   "source": [
    "def season(x):\n",
    "    \"\"\"Returns season based on month\"\"\"\n",
    "    x = x.month\n",
    "    if (x > 3) and (x <= 6):\n",
    "        return 1\n",
    "    elif (x > 6) and (x <= 9):\n",
    "        return 2\n",
    "    elif (x > 9) and (x <= 11):\n",
    "        return 3\n",
    "    else:\n",
    "        return 4"
   ]
  },
  {
   "cell_type": "code",
   "execution_count": 212,
   "metadata": {},
   "outputs": [],
   "source": [
    "def is_workday(x):\n",
    "    \"\"\" Returns if day is workday\"\"\"\n",
    "    if x <= 4:\n",
    "        return 1\n",
    "    else:\n",
    "        return 0"
   ]
  },
  {
   "cell_type": "code",
   "execution_count": 232,
   "metadata": {},
   "outputs": [],
   "source": [
    "def mean_print_plot(df, category: str, data_col1: str, data_col2: str) -> None:\n",
    "    \"\"\"Function which prints the mean of each category in a data column and plots the difference between the 2 datasets\n",
    "    \n",
    "    Parameters: \n",
    "    df: data frame\n",
    "    category: category name\n",
    "    data_col1: data to calculate mean on\n",
    "    data_col2: data to calculate mean on\n",
    "    \n",
    "    Returns: \n",
    "    None\n",
    "    \n",
    "    \"\"\"\n",
    "    \n",
    "    print(f\"P1 data stats: {df.groupby([category]).mean()[data_col1].sort_index()}\")\n",
    "    print('------------------------------------------------')\n",
    "    print(f\"P2 data stats: {df.groupby([category]).mean()[data_col2].sort_index()}\")\n",
    "    \n",
    "    plt.plot(df.groupby([category]).mean()[data_col1].sort_index(), label='P1')\n",
    "    plt.plot(df.groupby([category]).mean()[data_col2].sort_index(), label='P2')\n",
    "    plt.title(f'Mean of {data_col1} and {data_col2} per {category} category')\n",
    "    plt.legend()\n",
    "    plt.grid()"
   ]
  },
  {
   "cell_type": "code",
   "execution_count": 291,
   "metadata": {},
   "outputs": [],
   "source": [
    "def is_p1_high(x):\n",
    "    if x > 35:\n",
    "        return 1\n",
    "    else:\n",
    "        return 0"
   ]
  },
  {
   "cell_type": "code",
   "execution_count": 200,
   "metadata": {},
   "outputs": [],
   "source": [
    "def is_holiday(x):\n",
    "    \"\"\" Returns if it is holiday if date is 3 days around a holiday\"\"\"\n",
    "    for holiday in HOLIDAYS:\n",
    "        if (x >= holiday-datetime.timedelta(days=3)) and (x <= holiday+datetime.timedelta(days=3)):\n",
    "            return 1\n",
    "        else:\n",
    "            return 0"
   ]
  },
  {
   "cell_type": "markdown",
   "metadata": {},
   "source": [
    "Also, we are going to create a list with all public holidays:  \n",
    "Date\tHoliday\tOfficial Name  \n",
    "1 January\tNew Year's Day   \n",
    "3 March\tLiberation Day  \n",
    "1 May\tInternational Workers' Day  \n",
    "6 May\tSaint George's Day  \n",
    "24 May\tBulgarian Education and Culture and Slavonic Literature Day  \n",
    "6 September\tUnification Day  \n",
    "22 September\tIndependence Day  \n",
    "24 December\tChristmas Eve  \n",
    "25 & 26 December\tChristmas Day  \n",
    "Moveable\tOrthodox Good Friday, Holy Saturday & Easter  "
   ]
  },
  {
   "cell_type": "code",
   "execution_count": 220,
   "metadata": {},
   "outputs": [],
   "source": [
    "HOLIDAYS = [datetime.date(2020,4,19), datetime.date(2021,1,1), datetime.date(2021,3,3),datetime.date(2020,5,1),\n",
    "            datetime.date(2020,5,6),datetime.date(2020,5,24),datetime.date(2020,9,6),\n",
    "            datetime.date(2020,9,22),datetime.date(2020,12,24),datetime.date(2020,12,25),datetime.date(2020,12,26)]"
   ]
  },
  {
   "cell_type": "code",
   "execution_count": 7,
   "metadata": {},
   "outputs": [],
   "source": [
    "START_DATE = datetime.date(2020,4,1)   # start time for the analysis"
   ]
  },
  {
   "cell_type": "markdown",
   "metadata": {},
   "source": [
    "### Data download now"
   ]
  },
  {
   "cell_type": "code",
   "execution_count": 13,
   "metadata": {},
   "outputs": [
    {
     "name": "stdout",
     "output_type": "stream",
     "text": [
      "Downloading: 2020-04-01\n",
      "Downloading: 2020-04-02\n",
      "Downloading: 2020-04-03\n",
      "Downloading: 2020-04-04\n",
      "Downloading: 2020-04-05\n",
      "Downloading: 2020-04-06\n",
      "Downloading: 2020-04-07\n",
      "Downloading: 2020-04-08\n",
      "Downloading: 2020-04-09\n",
      "Downloading: 2020-04-10\n",
      "Downloading: 2020-04-11\n",
      "Downloading: 2020-04-12\n",
      "Downloading: 2020-04-13\n",
      "Downloading: 2020-04-14\n",
      "Downloading: 2020-04-15\n",
      "Downloading: 2020-04-16\n",
      "Downloading: 2020-04-17\n",
      "Downloading: 2020-04-18\n",
      "Downloading: 2020-04-19\n",
      "Downloading: 2020-04-20\n",
      "Downloading: 2020-04-21\n",
      "Downloading: 2020-04-22\n",
      "Downloading: 2020-04-23\n",
      "Downloading: 2020-04-24\n",
      "Downloading: 2020-04-25\n",
      "Downloading: 2020-04-26\n",
      "Downloading: 2020-04-27\n",
      "Downloading: 2020-04-28\n",
      "Downloading: 2020-04-29\n",
      "Downloading: 2020-04-30\n",
      "Downloading: 2020-05-01\n",
      "Downloading: 2020-05-02\n",
      "Downloading: 2020-05-03\n",
      "Downloading: 2020-05-04\n",
      "Downloading: 2020-05-05\n",
      "Downloading: 2020-05-06\n",
      "Downloading: 2020-05-07\n",
      "Downloading: 2020-05-08\n",
      "Downloading: 2020-05-09\n",
      "Downloading: 2020-05-10\n",
      "Downloading: 2020-05-11\n",
      "Downloading: 2020-05-12\n",
      "Downloading: 2020-05-13\n",
      "Downloading: 2020-05-14\n",
      "Downloading: 2020-05-15\n",
      "Downloading: 2020-05-16\n",
      "Downloading: 2020-05-17\n",
      "Downloading: 2020-05-18\n",
      "Downloading: 2020-05-19\n",
      "Downloading: 2020-05-20\n",
      "Downloading: 2020-05-21\n",
      "Downloading: 2020-05-22\n",
      "Downloading: 2020-05-23\n",
      "Downloading: 2020-05-24\n",
      "Downloading: 2020-05-25\n",
      "Downloading: 2020-05-26\n",
      "Downloading: 2020-05-27\n",
      "Downloading: 2020-05-28\n",
      "Downloading: 2020-05-29\n",
      "Downloading: 2020-05-30\n",
      "Downloading: 2020-05-31\n",
      "Downloading: 2020-06-01\n",
      "Downloading: 2020-06-02\n",
      "Downloading: 2020-06-03\n",
      "Downloading: 2020-06-04\n",
      "Downloading: 2020-06-05\n",
      "Downloading: 2020-06-06\n",
      "Downloading: 2020-06-07\n",
      "Downloading: 2020-06-08\n",
      "Downloading: 2020-06-09\n",
      "Downloading: 2020-06-10\n",
      "Downloading: 2020-06-11\n",
      "Downloading: 2020-06-12\n",
      "Downloading: 2020-06-13\n",
      "Downloading: 2020-06-14\n",
      "Downloading: 2020-06-15\n",
      "Downloading: 2020-06-16\n",
      "Downloading: 2020-06-17\n",
      "Downloading: 2020-06-18\n",
      "Downloading: 2020-06-19\n",
      "Downloading: 2020-06-20\n",
      "Downloading: 2020-06-21\n",
      "Downloading: 2020-06-22\n",
      "Downloading: 2020-06-23\n",
      "Downloading: 2020-06-24\n",
      "Downloading: 2020-06-25\n",
      "Downloading: 2020-06-26\n",
      "Downloading: 2020-06-27\n",
      "Downloading: 2020-06-28\n",
      "Downloading: 2020-06-29\n",
      "Downloading: 2020-06-30\n",
      "Downloading: 2020-07-01\n",
      "Downloading: 2020-07-02\n",
      "Downloading: 2020-07-03\n",
      "Downloading: 2020-07-04\n",
      "Downloading: 2020-07-05\n",
      "Downloading: 2020-07-06\n",
      "Downloading: 2020-07-07\n",
      "Downloading: 2020-07-08\n",
      "Downloading: 2020-07-09\n",
      "Downloading: 2020-07-10\n",
      "Downloading: 2020-07-11\n",
      "Downloading: 2020-07-12\n",
      "Downloading: 2020-07-13\n",
      "Downloading: 2020-07-14\n",
      "Downloading: 2020-07-15\n",
      "Downloading: 2020-07-16\n",
      "Downloading: 2020-07-17\n",
      "Downloading: 2020-07-18\n",
      "Downloading: 2020-07-19\n",
      "Downloading: 2020-07-20\n",
      "Downloading: 2020-07-21\n",
      "Downloading: 2020-07-22\n",
      "Downloading: 2020-07-23\n",
      "Downloading: 2020-07-24\n",
      "Downloading: 2020-07-25\n",
      "Downloading: 2020-07-26\n",
      "Downloading: 2020-07-27\n",
      "Downloading: 2020-07-28\n",
      "Downloading: 2020-07-29\n",
      "Downloading: 2020-07-30\n",
      "Downloading: 2020-07-31\n",
      "Downloading: 2020-08-01\n",
      "Downloading: 2020-08-02\n",
      "Downloading: 2020-08-03\n",
      "Downloading: 2020-08-04\n",
      "Downloading: 2020-08-05\n",
      "Downloading: 2020-08-06\n",
      "Downloading: 2020-08-07\n",
      "Downloading: 2020-08-08\n",
      "Downloading: 2020-08-09\n",
      "Downloading: 2020-08-10\n",
      "Downloading: 2020-08-11\n",
      "Downloading: 2020-08-12\n",
      "Downloading: 2020-08-13\n",
      "Downloading: 2020-08-14\n",
      "Downloading: 2020-08-15\n",
      "Downloading: 2020-08-16\n",
      "Downloading: 2020-08-17\n",
      "Downloading: 2020-08-18\n",
      "Downloading: 2020-08-19\n",
      "Downloading: 2020-08-20\n",
      "Downloading: 2020-08-21\n",
      "Downloading: 2020-08-22\n",
      "Downloading: 2020-08-23\n",
      "Downloading: 2020-08-24\n",
      "Downloading: 2020-08-25\n",
      "Downloading: 2020-08-26\n",
      "Downloading: 2020-08-27\n",
      "Downloading: 2020-08-28\n",
      "Downloading: 2020-08-29\n",
      "Downloading: 2020-08-30\n",
      "Downloading: 2020-08-31\n",
      "Downloading: 2020-09-01\n",
      "Downloading: 2020-09-02\n",
      "Downloading: 2020-09-03\n",
      "Downloading: 2020-09-04\n",
      "Downloading: 2020-09-05\n",
      "Downloading: 2020-09-06\n",
      "Downloading: 2020-09-07\n",
      "Downloading: 2020-09-08\n",
      "Downloading: 2020-09-09\n",
      "Downloading: 2020-09-10\n",
      "Downloading: 2020-09-11\n",
      "Downloading: 2020-09-12\n",
      "Downloading: 2020-09-13\n",
      "Downloading: 2020-09-14\n",
      "Downloading: 2020-09-15\n",
      "Downloading: 2020-09-16\n",
      "Downloading: 2020-09-17\n",
      "Downloading: 2020-09-18\n",
      "Downloading: 2020-09-19\n",
      "Downloading: 2020-09-20\n",
      "Downloading: 2020-09-21\n",
      "Downloading: 2020-09-22\n",
      "Downloading: 2020-09-23\n",
      "Downloading: 2020-09-24\n",
      "Downloading: 2020-09-25\n",
      "Downloading: 2020-09-26\n",
      "Downloading: 2020-09-27\n",
      "Downloading: 2020-09-28\n",
      "Downloading: 2020-09-29\n",
      "Downloading: 2020-09-30\n",
      "Downloading: 2020-10-01\n",
      "Downloading: 2020-10-02\n",
      "Downloading: 2020-10-03\n",
      "Downloading: 2020-10-04\n",
      "Downloading: 2020-10-05\n",
      "Downloading: 2020-10-06\n",
      "Downloading: 2020-10-07\n",
      "Downloading: 2020-10-08\n",
      "Downloading: 2020-10-09\n",
      "Downloading: 2020-10-10\n",
      "Downloading: 2020-10-11\n",
      "Downloading: 2020-10-12\n",
      "Downloading: 2020-10-13\n",
      "Downloading: 2020-10-14\n",
      "Downloading: 2020-10-15\n",
      "Downloading: 2020-10-16\n",
      "Downloading: 2020-10-17\n",
      "Downloading: 2020-10-18\n",
      "Downloading: 2020-10-19\n",
      "Downloading: 2020-10-20\n",
      "Downloading: 2020-10-21\n",
      "Downloading: 2020-10-22\n",
      "Downloading: 2020-10-23\n",
      "Downloading: 2020-10-24\n",
      "Downloading: 2020-10-25\n",
      "Downloading: 2020-10-26\n",
      "Downloading: 2020-10-27\n",
      "Downloading: 2020-10-28\n",
      "Downloading: 2020-10-29\n",
      "Downloading: 2020-10-30\n",
      "Downloading: 2020-10-31\n",
      "Downloading: 2020-11-01\n",
      "Downloading: 2020-11-02\n",
      "Downloading: 2020-11-03\n",
      "Downloading: 2020-11-04\n",
      "Downloading: 2020-11-05\n",
      "Downloading: 2020-11-06\n",
      "Downloading: 2020-11-07\n",
      "Downloading: 2020-11-08\n",
      "Downloading: 2020-11-09\n",
      "Downloading: 2020-11-10\n",
      "Downloading: 2020-11-11\n",
      "Downloading: 2020-11-12\n",
      "Downloading: 2020-11-13\n",
      "Downloading: 2020-11-14\n",
      "Downloading: 2020-11-15\n",
      "Downloading: 2020-11-16\n",
      "Downloading: 2020-11-17\n",
      "Downloading: 2020-11-18\n",
      "Downloading: 2020-11-19\n",
      "Downloading: 2020-11-20\n",
      "Downloading: 2020-11-21\n",
      "Downloading: 2020-11-22\n",
      "Downloading: 2020-11-23\n",
      "Downloading: 2020-11-24\n",
      "Downloading: 2020-11-25\n",
      "Downloading: 2020-11-26\n",
      "Downloading: 2020-11-27\n",
      "Downloading: 2020-11-28\n",
      "Downloading: 2020-11-29\n",
      "Downloading: 2020-11-30\n",
      "Downloading: 2020-12-01\n",
      "Downloading: 2020-12-02\n",
      "Downloading: 2020-12-03\n",
      "Downloading: 2020-12-04\n",
      "Downloading: 2020-12-05\n",
      "Downloading: 2020-12-06\n",
      "Downloading: 2020-12-07\n",
      "Downloading: 2020-12-08\n",
      "Downloading: 2020-12-09\n",
      "Downloading: 2020-12-10\n",
      "Downloading: 2020-12-11\n",
      "Downloading: 2020-12-12\n",
      "Downloading: 2020-12-13\n",
      "Downloading: 2020-12-14\n",
      "Downloading: 2020-12-15\n",
      "Downloading: 2020-12-16\n",
      "Downloading: 2020-12-17\n",
      "Downloading: 2020-12-18\n",
      "Downloading: 2020-12-19\n",
      "Downloading: 2020-12-20\n",
      "Downloading: 2020-12-21\n",
      "Downloading: 2020-12-22\n",
      "Downloading: 2020-12-23\n",
      "Downloading: 2020-12-24\n",
      "Downloading: 2020-12-25\n",
      "Downloading: 2020-12-26\n",
      "Downloading: 2020-12-27\n",
      "Downloading: 2020-12-28\n",
      "Downloading: 2020-12-29\n",
      "Downloading: 2020-12-30\n",
      "Downloading: 2020-12-31\n",
      "Downloading: 2021-01-01\n",
      "Downloading: 2021-01-02\n",
      "Downloading: 2021-01-03\n",
      "Downloading: 2021-01-04\n",
      "Downloading: 2021-01-05\n",
      "Downloading: 2021-01-06\n",
      "Downloading: 2021-01-07\n",
      "Downloading: 2021-01-08\n",
      "Downloading: 2021-01-09\n",
      "Downloading: 2021-01-10\n",
      "Downloading: 2021-01-11\n",
      "Downloading: 2021-01-12\n",
      "Downloading: 2021-01-13\n",
      "Downloading: 2021-01-14\n",
      "Downloading: 2021-01-15\n",
      "Downloading: 2021-01-16\n",
      "Downloading: 2021-01-17\n",
      "Downloading: 2021-01-18\n",
      "Downloading: 2021-01-19\n",
      "Downloading: 2021-01-20\n",
      "Downloading: 2021-01-21\n",
      "Downloading: 2021-01-22\n",
      "Downloading: 2021-01-23\n",
      "Downloading: 2021-01-24\n",
      "Downloading: 2021-01-25\n",
      "Downloading: 2021-01-26\n",
      "Downloading: 2021-01-27\n",
      "Downloading: 2021-01-28\n",
      "Downloading: 2021-01-29\n",
      "Downloading: 2021-01-30\n",
      "Downloading: 2021-01-31\n",
      "Downloading: 2021-02-01\n",
      "Downloading: 2021-02-02\n",
      "Downloading: 2021-02-03\n",
      "Downloading: 2021-02-04\n",
      "Downloading: 2021-02-05\n",
      "Downloading: 2021-02-06\n",
      "Downloading: 2021-02-07\n",
      "Downloading: 2021-02-08\n",
      "Downloading: 2021-02-09\n",
      "Downloading: 2021-02-10\n",
      "Downloading: 2021-02-11\n",
      "Downloading: 2021-02-12\n",
      "Downloading: 2021-02-13\n",
      "Downloading: 2021-02-14\n",
      "Downloading: 2021-02-15\n",
      "Downloading: 2021-02-16\n",
      "Downloading: 2021-02-17\n",
      "Downloading: 2021-02-18\n",
      "Downloading: 2021-02-19\n",
      "Downloading: 2021-02-20\n",
      "Downloading: 2021-02-21\n",
      "Downloading: 2021-02-22\n",
      "Downloading: 2021-02-23\n",
      "Downloading: 2021-02-24\n",
      "Downloading: 2021-02-25\n",
      "Downloading: 2021-02-26\n",
      "Downloading: 2021-02-27\n",
      "Downloading: 2021-02-28\n",
      "Downloading: 2021-03-01\n",
      "Downloading: 2021-03-02\n",
      "Downloading: 2021-03-03\n",
      "Downloading: 2021-03-04\n",
      "Downloading: 2021-03-05\n",
      "Downloading: 2021-03-06\n",
      "Downloading: 2021-03-07\n",
      "Downloading: 2021-03-08\n",
      "Downloading: 2021-03-09\n",
      "Downloading: 2021-03-10\n",
      "Downloading: 2021-03-11\n",
      "Downloading: 2021-03-12\n",
      "Downloading: 2021-03-13\n",
      "Downloading: 2021-03-14\n",
      "Downloading: 2021-03-15\n",
      "Downloading: 2021-03-16\n",
      "Downloading: 2021-03-17\n",
      "Downloading: 2021-03-18\n",
      "Downloading: 2021-03-19\n",
      "Downloading: 2021-03-20\n",
      "Downloading: 2021-03-21\n",
      "Downloading: 2021-03-22\n",
      "Downloading: 2021-03-23\n",
      "Downloading: 2021-03-24\n",
      "Downloading: 2021-03-25\n",
      "Downloading: 2021-03-26\n",
      "Downloading: 2021-03-27\n",
      "Downloading: 2021-03-28\n",
      "Downloading: 2021-03-29\n",
      "Downloading: 2021-03-30\n",
      "Downloading: 2021-03-31\n",
      "Downloading: 2021-04-01\n",
      "Downloading: 2021-04-02\n",
      "Downloading: 2021-04-03\n",
      "Downloading: 2021-04-04\n",
      "Downloading: 2021-04-05\n",
      "Downloading: 2021-04-06\n",
      "Downloading: 2021-04-07\n",
      "Downloading: 2021-04-08\n",
      "Downloading: 2021-04-09\n",
      "Downloading: 2021-04-10\n",
      "Downloading: 2021-04-11\n",
      "Downloading: 2021-04-12\n",
      "Downloading: 2021-04-13\n",
      "Downloading: 2021-04-14\n",
      "Downloading: 2021-04-15\n",
      "Downloading: 2021-04-16\n",
      "Downloading: 2020-04-01\n"
     ]
    },
    {
     "name": "stdout",
     "output_type": "stream",
     "text": [
      "Downloading: 2020-04-02\n",
      "Downloading: 2020-04-03\n",
      "Downloading: 2020-04-04\n",
      "Downloading: 2020-04-05\n",
      "Downloading: 2020-04-06\n",
      "Downloading: 2020-04-07\n",
      "Downloading: 2020-04-08\n",
      "Downloading: 2020-04-09\n",
      "Downloading: 2020-04-10\n",
      "Downloading: 2020-04-11\n",
      "Downloading: 2020-04-12\n",
      "Downloading: 2020-04-13\n",
      "Downloading: 2020-04-14\n",
      "Downloading: 2020-04-15\n",
      "Downloading: 2020-04-16\n",
      "Downloading: 2020-04-17\n",
      "Downloading: 2020-04-18\n",
      "Downloading: 2020-04-19\n",
      "Downloading: 2020-04-20\n",
      "Downloading: 2020-04-21\n",
      "Downloading: 2020-04-22\n",
      "Downloading: 2020-04-23\n",
      "Downloading: 2020-04-24\n",
      "Downloading: 2020-04-25\n",
      "Downloading: 2020-04-26\n",
      "Downloading: 2020-04-27\n",
      "Downloading: 2020-04-28\n",
      "Downloading: 2020-04-29\n",
      "Downloading: 2020-04-30\n",
      "Downloading: 2020-05-01\n",
      "Downloading: 2020-05-02\n",
      "Downloading: 2020-05-03\n",
      "Downloading: 2020-05-04\n",
      "Downloading: 2020-05-05\n",
      "Downloading: 2020-05-06\n",
      "Downloading: 2020-05-07\n",
      "Downloading: 2020-05-08\n",
      "Downloading: 2020-05-09\n",
      "Downloading: 2020-05-10\n",
      "Downloading: 2020-05-11\n",
      "Downloading: 2020-05-12\n",
      "Downloading: 2020-05-13\n",
      "Downloading: 2020-05-14\n",
      "Downloading: 2020-05-15\n",
      "Downloading: 2020-05-16\n",
      "Downloading: 2020-05-17\n",
      "Downloading: 2020-05-18\n",
      "Downloading: 2020-05-19\n",
      "Downloading: 2020-05-20\n",
      "Downloading: 2020-05-21\n",
      "Downloading: 2020-05-22\n",
      "Downloading: 2020-05-23\n",
      "Downloading: 2020-05-24\n",
      "Downloading: 2020-05-25\n",
      "Downloading: 2020-05-26\n",
      "Downloading: 2020-05-27\n",
      "Downloading: 2020-05-28\n",
      "Downloading: 2020-05-29\n",
      "Downloading: 2020-05-30\n",
      "Downloading: 2020-05-31\n",
      "Downloading: 2020-06-01\n",
      "Downloading: 2020-06-02\n",
      "Downloading: 2020-06-03\n",
      "Downloading: 2020-06-04\n",
      "Downloading: 2020-06-05\n",
      "Downloading: 2020-06-06\n",
      "Downloading: 2020-06-07\n",
      "Downloading: 2020-06-08\n",
      "Downloading: 2020-06-09\n",
      "Downloading: 2020-06-10\n",
      "Downloading: 2020-06-11\n",
      "Downloading: 2020-06-12\n",
      "Downloading: 2020-06-13\n",
      "Downloading: 2020-06-14\n",
      "Downloading: 2020-06-15\n",
      "Downloading: 2020-06-16\n",
      "Downloading: 2020-06-17\n",
      "Downloading: 2020-06-18\n",
      "Downloading: 2020-06-19\n",
      "Downloading: 2020-06-20\n",
      "Downloading: 2020-06-21\n",
      "Downloading: 2020-06-22\n",
      "Downloading: 2020-06-23\n",
      "Downloading: 2020-06-24\n",
      "Downloading: 2020-06-25\n",
      "Downloading: 2020-06-26\n",
      "Downloading: 2020-06-27\n",
      "Downloading: 2020-06-28\n",
      "Downloading: 2020-06-29\n",
      "Downloading: 2020-06-30\n",
      "Downloading: 2020-07-01\n",
      "Downloading: 2020-07-02\n",
      "Downloading: 2020-07-03\n",
      "Downloading: 2020-07-04\n",
      "Downloading: 2020-07-05\n",
      "Downloading: 2020-07-06\n",
      "Downloading: 2020-07-07\n",
      "Downloading: 2020-07-08\n",
      "Downloading: 2020-07-09\n",
      "Downloading: 2020-07-10\n",
      "Downloading: 2020-07-11\n",
      "Downloading: 2020-07-12\n",
      "Downloading: 2020-07-13\n",
      "Downloading: 2020-07-14\n",
      "Downloading: 2020-07-15\n",
      "Downloading: 2020-07-16\n",
      "Downloading: 2020-07-17\n",
      "Downloading: 2020-07-18\n",
      "Downloading: 2020-07-19\n",
      "Downloading: 2020-07-20\n",
      "Downloading: 2020-07-21\n",
      "Downloading: 2020-07-22\n",
      "Downloading: 2020-07-23\n",
      "Downloading: 2020-07-24\n",
      "Downloading: 2020-07-25\n",
      "Downloading: 2020-07-26\n",
      "Downloading: 2020-07-27\n",
      "Downloading: 2020-07-28\n",
      "Downloading: 2020-07-29\n",
      "Downloading: 2020-07-30\n",
      "Downloading: 2020-07-31\n",
      "Downloading: 2020-08-01\n",
      "Downloading: 2020-08-02\n",
      "Downloading: 2020-08-03\n",
      "Downloading: 2020-08-04\n",
      "Downloading: 2020-08-05\n",
      "Downloading: 2020-08-06\n",
      "Downloading: 2020-08-07\n",
      "Downloading: 2020-08-08\n",
      "Downloading: 2020-08-09\n",
      "Downloading: 2020-08-10\n",
      "Downloading: 2020-08-11\n",
      "Downloading: 2020-08-12\n",
      "Downloading: 2020-08-13\n",
      "Downloading: 2020-08-14\n",
      "Downloading: 2020-08-15\n",
      "Downloading: 2020-08-16\n",
      "Downloading: 2020-08-17\n",
      "Downloading: 2020-08-18\n",
      "Downloading: 2020-08-19\n",
      "Downloading: 2020-08-20\n",
      "Downloading: 2020-08-21\n",
      "Downloading: 2020-08-22\n",
      "Downloading: 2020-08-23\n",
      "Downloading: 2020-08-24\n",
      "Downloading: 2020-08-25\n",
      "Downloading: 2020-08-26\n",
      "Downloading: 2020-08-27\n",
      "Downloading: 2020-08-28\n",
      "Downloading: 2020-08-29\n",
      "Downloading: 2020-08-30\n",
      "Downloading: 2020-08-31\n",
      "Downloading: 2020-09-01\n",
      "Downloading: 2020-09-02\n",
      "Downloading: 2020-09-03\n",
      "Downloading: 2020-09-04\n",
      "Downloading: 2020-09-05\n",
      "Downloading: 2020-09-06\n",
      "Downloading: 2020-09-07\n",
      "Downloading: 2020-09-08\n",
      "Downloading: 2020-09-09\n",
      "Downloading: 2020-09-10\n",
      "Downloading: 2020-09-11\n",
      "Downloading: 2020-09-12\n",
      "Downloading: 2020-09-13\n",
      "Downloading: 2020-09-14\n",
      "Downloading: 2020-09-15\n",
      "Downloading: 2020-09-16\n",
      "Downloading: 2020-09-17\n",
      "Downloading: 2020-09-18\n",
      "Downloading: 2020-09-19\n",
      "Downloading: 2020-09-20\n",
      "Downloading: 2020-09-21\n",
      "Downloading: 2020-09-22\n",
      "Downloading: 2020-09-23\n",
      "Downloading: 2020-09-24\n",
      "Downloading: 2020-09-25\n",
      "Downloading: 2020-09-26\n",
      "Downloading: 2020-09-27\n",
      "Downloading: 2020-09-28\n",
      "Downloading: 2020-09-29\n",
      "Downloading: 2020-09-30\n",
      "Downloading: 2020-10-01\n",
      "Downloading: 2020-10-02\n",
      "Downloading: 2020-10-03\n",
      "Downloading: 2020-10-04\n",
      "Downloading: 2020-10-05\n",
      "Downloading: 2020-10-06\n",
      "Downloading: 2020-10-07\n",
      "Downloading: 2020-10-08\n",
      "Downloading: 2020-10-09\n",
      "Downloading: 2020-10-10\n",
      "Downloading: 2020-10-11\n",
      "Downloading: 2020-10-12\n",
      "Downloading: 2020-10-13\n",
      "Downloading: 2020-10-14\n",
      "Downloading: 2020-10-15\n",
      "Downloading: 2020-10-16\n",
      "Downloading: 2020-10-17\n",
      "Downloading: 2020-10-18\n",
      "Downloading: 2020-10-19\n",
      "Downloading: 2020-10-20\n",
      "Downloading: 2020-10-21\n",
      "Downloading: 2020-10-22\n",
      "Downloading: 2020-10-23\n",
      "Downloading: 2020-10-24\n",
      "Downloading: 2020-10-25\n",
      "Downloading: 2020-10-26\n",
      "Downloading: 2020-10-27\n",
      "Downloading: 2020-10-28\n",
      "Downloading: 2020-10-29\n",
      "Downloading: 2020-10-30\n",
      "Downloading: 2020-10-31\n",
      "Downloading: 2020-11-01\n",
      "Downloading: 2020-11-02\n",
      "Downloading: 2020-11-03\n",
      "Downloading: 2020-11-04\n",
      "Downloading: 2020-11-05\n",
      "Downloading: 2020-11-06\n",
      "Downloading: 2020-11-07\n",
      "Downloading: 2020-11-08\n",
      "Downloading: 2020-11-09\n",
      "Downloading: 2020-11-10\n",
      "Downloading: 2020-11-11\n",
      "Downloading: 2020-11-12\n",
      "Downloading: 2020-11-13\n",
      "Downloading: 2020-11-14\n",
      "Downloading: 2020-11-15\n",
      "Downloading: 2020-11-16\n",
      "Downloading: 2020-11-17\n",
      "Downloading: 2020-11-18\n",
      "Downloading: 2020-11-19\n",
      "Downloading: 2020-11-20\n",
      "Downloading: 2020-11-21\n",
      "Downloading: 2020-11-22\n",
      "Downloading: 2020-11-23\n",
      "Downloading: 2020-11-24\n",
      "Downloading: 2020-11-25\n",
      "Downloading: 2020-11-26\n",
      "Downloading: 2020-11-27\n",
      "Downloading: 2020-11-28\n",
      "Downloading: 2020-11-29\n",
      "Downloading: 2020-11-30\n",
      "Downloading: 2020-12-01\n",
      "Downloading: 2020-12-02\n",
      "Downloading: 2020-12-03\n",
      "Downloading: 2020-12-04\n",
      "Downloading: 2020-12-05\n",
      "Downloading: 2020-12-06\n",
      "Downloading: 2020-12-07\n",
      "Downloading: 2020-12-08\n",
      "Downloading: 2020-12-09\n",
      "Downloading: 2020-12-10\n",
      "Downloading: 2020-12-11\n",
      "Downloading: 2020-12-12\n",
      "Downloading: 2020-12-13\n",
      "Downloading: 2020-12-14\n",
      "Downloading: 2020-12-15\n",
      "Downloading: 2020-12-16\n",
      "Downloading: 2020-12-17\n",
      "Downloading: 2020-12-18\n",
      "Downloading: 2020-12-19\n",
      "Downloading: 2020-12-20\n",
      "Downloading: 2020-12-21\n",
      "Downloading: 2020-12-22\n",
      "Downloading: 2020-12-23\n",
      "Downloading: 2020-12-24\n",
      "Downloading: 2020-12-25\n",
      "Downloading: 2020-12-26\n",
      "Downloading: 2020-12-27\n",
      "Downloading: 2020-12-28\n",
      "Downloading: 2020-12-29\n",
      "Downloading: 2020-12-30\n",
      "Downloading: 2020-12-31\n",
      "Downloading: 2021-01-01\n",
      "Downloading: 2021-01-02\n",
      "Downloading: 2021-01-03\n",
      "Downloading: 2021-01-04\n",
      "Downloading: 2021-01-05\n",
      "Downloading: 2021-01-06\n",
      "Downloading: 2021-01-07\n",
      "Downloading: 2021-01-08\n",
      "Downloading: 2021-01-09\n",
      "Downloading: 2021-01-10\n",
      "Downloading: 2021-01-11\n",
      "Downloading: 2021-01-12\n",
      "Downloading: 2021-01-13\n",
      "Downloading: 2021-01-14\n",
      "Downloading: 2021-01-15\n",
      "Downloading: 2021-01-16\n",
      "Downloading: 2021-01-17\n",
      "Downloading: 2021-01-18\n",
      "Downloading: 2021-01-19\n",
      "Downloading: 2021-01-20\n",
      "Downloading: 2021-01-21\n",
      "Downloading: 2021-01-22\n",
      "Downloading: 2021-01-23\n",
      "Downloading: 2021-01-24\n",
      "Downloading: 2021-01-25\n",
      "Downloading: 2021-01-26\n",
      "Downloading: 2021-01-27\n",
      "Downloading: 2021-01-28\n",
      "Downloading: 2021-01-29\n",
      "Downloading: 2021-01-30\n",
      "Downloading: 2021-01-31\n",
      "Downloading: 2021-02-01\n",
      "Downloading: 2021-02-02\n",
      "Downloading: 2021-02-03\n",
      "Downloading: 2021-02-04\n",
      "Downloading: 2021-02-05\n",
      "Downloading: 2021-02-06\n",
      "Downloading: 2021-02-07\n",
      "Downloading: 2021-02-08\n",
      "Downloading: 2021-02-09\n",
      "Downloading: 2021-02-10\n",
      "Downloading: 2021-02-11\n",
      "Downloading: 2021-02-12\n",
      "Downloading: 2021-02-13\n",
      "Downloading: 2021-02-14\n",
      "Downloading: 2021-02-15\n",
      "Downloading: 2021-02-16\n",
      "Downloading: 2021-02-17\n",
      "Downloading: 2021-02-18\n",
      "Downloading: 2021-02-19\n",
      "Downloading: 2021-02-20\n",
      "Downloading: 2021-02-21\n",
      "Downloading: 2021-02-22\n",
      "Downloading: 2021-02-23\n",
      "Downloading: 2021-02-24\n",
      "Downloading: 2021-02-25\n",
      "Downloading: 2021-02-26\n",
      "Downloading: 2021-02-27\n",
      "Downloading: 2021-02-28\n",
      "Downloading: 2021-03-01\n",
      "Downloading: 2021-03-02\n",
      "Downloading: 2021-03-03\n",
      "Downloading: 2021-03-04\n",
      "Downloading: 2021-03-05\n",
      "Downloading: 2021-03-06\n",
      "Downloading: 2021-03-07\n",
      "Downloading: 2021-03-08\n",
      "Downloading: 2021-03-09\n"
     ]
    },
    {
     "name": "stdout",
     "output_type": "stream",
     "text": [
      "Downloading: 2021-03-10\n",
      "Downloading: 2021-03-11\n",
      "Downloading: 2021-03-12\n",
      "Downloading: 2021-03-13\n",
      "Downloading: 2021-03-14\n",
      "Downloading: 2021-03-15\n",
      "Downloading: 2021-03-16\n",
      "Downloading: 2021-03-17\n",
      "Downloading: 2021-03-18\n",
      "Downloading: 2021-03-19\n",
      "Downloading: 2021-03-20\n",
      "Downloading: 2021-03-21\n",
      "Downloading: 2021-03-22\n",
      "Downloading: 2021-03-23\n",
      "Downloading: 2021-03-24\n",
      "Downloading: 2021-03-25\n",
      "Downloading: 2021-03-26\n",
      "Downloading: 2021-03-27\n",
      "Downloading: 2021-03-28\n",
      "Downloading: 2021-03-29\n",
      "Downloading: 2021-03-30\n",
      "Downloading: 2021-03-31\n",
      "Downloading: 2021-04-01\n",
      "Downloading: 2021-04-02\n",
      "Downloading: 2021-04-03\n",
      "Downloading: 2021-04-04\n",
      "Downloading: 2021-04-05\n",
      "Downloading: 2021-04-06\n",
      "Downloading: 2021-04-07\n",
      "Downloading: 2021-04-08\n",
      "Downloading: 2021-04-09\n",
      "Downloading: 2021-04-10\n",
      "Downloading: 2021-04-11\n",
      "Downloading: 2021-04-12\n",
      "Downloading: 2021-04-13\n",
      "Downloading: 2021-04-14\n",
      "Downloading: 2021-04-15\n",
      "Downloading: 2021-04-16\n"
     ]
    }
   ],
   "source": [
    "download_data(sensor_name='sds011', sensor_id=6127)\n",
    "download_data(sensor_name='bme280', sensor_id=6128)"
   ]
  },
  {
   "cell_type": "markdown",
   "metadata": {},
   "source": [
    "#### We have all the data, let us now load the data in dataframe"
   ]
  },
  {
   "cell_type": "code",
   "execution_count": 17,
   "metadata": {},
   "outputs": [],
   "source": [
    "file_list = os.listdir('./data/')"
   ]
  },
  {
   "cell_type": "code",
   "execution_count": 19,
   "metadata": {},
   "outputs": [],
   "source": [
    "date_list = set([file.split('_')[0] for file in file_list]) # get unique dates"
   ]
  },
  {
   "cell_type": "code",
   "execution_count": 21,
   "metadata": {},
   "outputs": [],
   "source": [
    "df = pd.DataFrame()"
   ]
  },
  {
   "cell_type": "code",
   "execution_count": 107,
   "metadata": {},
   "outputs": [],
   "source": [
    "for date in date_list:\n",
    "    for file in file_list:\n",
    "        if file.find(date) != -1:\n",
    "            if file.find('bme280') != -1:\n",
    "                df_temp_1 = pd.read_csv('./data/'+file, sep=';')\n",
    "                df_temp_1.timestamp = pd.to_datetime(df_temp_1.timestamp, errors='ignore', infer_datetime_format=True)\n",
    "            elif file.find('sds011') != -1:\n",
    "                df_temp_2 = pd.read_csv('./data/'+file, sep=';')\n",
    "                df_temp_2.timestamp = pd.to_datetime(df_temp_2.timestamp, errors='ignore', infer_datetime_format=True)\n",
    "            \n",
    "        df_1 = pd.merge_asof(df_temp_1, df_temp_2, on='timestamp', direction='nearest', tolerance=datetime.timedelta(seconds=20), allow_exact_matches=False)\n",
    "        df_1.drop(['altitude', 'pressure', 'durP2', 'ratioP2', 'durP1', 'ratioP1', \"ratioP2\",\n",
    "                  'sensor_id_x', 'sensor_type_x', 'location_x', 'lat_x', 'lon_x', 'pressure_sealevel',\n",
    "                  'sensor_id_y', 'sensor_type_y', 'location_y', 'lat_y','lon_y'], axis=1, inplace=True);\n",
    "        df_1.dropna(inplace=True)\n",
    "    df = pd.concat([df, df_1])"
   ]
  },
  {
   "cell_type": "code",
   "execution_count": 180,
   "metadata": {},
   "outputs": [],
   "source": [
    "df.reset_index(inplace=True)\n",
    "df.drop('index', axis=1, inplace=True)"
   ]
  },
  {
   "cell_type": "code",
   "execution_count": 224,
   "metadata": {},
   "outputs": [],
   "source": [
    "df['IsHoliday'] = df['timestamp'].apply(is_holiday) \n",
    "df['PartDay'] = df['timestamp'].apply(part_day)"
   ]
  },
  {
   "cell_type": "code",
   "execution_count": 208,
   "metadata": {},
   "outputs": [],
   "source": [
    "df['WeekDay'] = df['timestamp'].dt.dayofweek"
   ]
  },
  {
   "cell_type": "code",
   "execution_count": 213,
   "metadata": {},
   "outputs": [],
   "source": [
    "df['IsWorking'] = df['WeekDay'].apply(is_workday)"
   ]
  },
  {
   "cell_type": "code",
   "execution_count": 217,
   "metadata": {},
   "outputs": [],
   "source": [
    "df['Season'] = df['timestamp'].apply(season)"
   ]
  },
  {
   "cell_type": "markdown",
   "metadata": {},
   "source": [
    "Check if the P1 and P2 values are higher in any part of the day or if it is a holiday."
   ]
  },
  {
   "cell_type": "code",
   "execution_count": 233,
   "metadata": {},
   "outputs": [
    {
     "name": "stdout",
     "output_type": "stream",
     "text": [
      "P1 data stats: IsHoliday\n",
      "0    22.140972\n",
      "1    11.290025\n",
      "Name: P1, dtype: float64\n",
      "------------------------------------------------\n",
      "P2 data stats: IsHoliday\n",
      "0    11.068588\n",
      "1     6.689738\n",
      "Name: P2, dtype: float64\n"
     ]
    },
    {
     "data": {
      "image/png": "[encoded data removed]",
      "text/plain": [
       "<Figure size 432x288 with 1 Axes>"
      ]
     },
     "metadata": {
      "needs_background": "light"
     },
     "output_type": "display_data"
    }
   ],
   "source": [
    "mean_print_plot(df, category='IsHoliday', data_col1='P1', data_col2='P2')"
   ]
  },
  {
   "cell_type": "code",
   "execution_count": 236,
   "metadata": {},
   "outputs": [
    {
     "name": "stdout",
     "output_type": "stream",
     "text": [
      "P1 data stats: WeekDay\n",
      "0    20.923175\n",
      "1    21.798023\n",
      "2    22.379729\n",
      "3    19.217035\n",
      "4    24.584643\n",
      "5    24.521887\n",
      "6    20.408726\n",
      "Name: P1, dtype: float64\n",
      "------------------------------------------------\n",
      "P2 data stats: WeekDay\n",
      "0    10.808763\n",
      "1    10.862912\n",
      "2    10.874274\n",
      "3     9.698477\n",
      "4    12.087680\n",
      "5    12.027748\n",
      "6    10.652785\n",
      "Name: P2, dtype: float64\n"
     ]
    },
    {
     "data": {
      "image/png": "[encoded data removed]",
      "text/plain": [
       "<Figure size 432x288 with 1 Axes>"
      ]
     },
     "metadata": {
      "needs_background": "light"
     },
     "output_type": "display_data"
    }
   ],
   "source": [
    "mean_print_plot(df, category='WeekDay', data_col1='P1', data_col2='P2')"
   ]
  },
  {
   "cell_type": "code",
   "execution_count": 237,
   "metadata": {},
   "outputs": [
    {
     "name": "stdout",
     "output_type": "stream",
     "text": [
      "P1 data stats: PartDay\n",
      "1    26.982850\n",
      "2    18.058295\n",
      "3    16.040996\n",
      "4    24.726342\n",
      "5    23.737789\n",
      "6    19.952869\n",
      "Name: P1, dtype: float64\n",
      "------------------------------------------------\n",
      "P2 data stats: PartDay\n",
      "1    13.078755\n",
      "2     9.806793\n",
      "3     8.683181\n",
      "4    12.124245\n",
      "5    11.635798\n",
      "6     9.897735\n",
      "Name: P2, dtype: float64\n"
     ]
    },
    {
     "data": {
      "image/png": "[encoded data removed]",
      "text/plain": [
       "<Figure size 432x288 with 1 Axes>"
      ]
     },
     "metadata": {
      "needs_background": "light"
     },
     "output_type": "display_data"
    }
   ],
   "source": [
    "mean_print_plot(df, category='PartDay', data_col1='P1', data_col2='P2')"
   ]
  },
  {
   "cell_type": "code",
   "execution_count": 238,
   "metadata": {},
   "outputs": [
    {
     "name": "stdout",
     "output_type": "stream",
     "text": [
      "P1 data stats: Season\n",
      "1    14.863447\n",
      "2    10.960895\n",
      "3    30.822060\n",
      "4    33.120027\n",
      "Name: P1, dtype: float64\n",
      "------------------------------------------------\n",
      "P2 data stats: Season\n",
      "1     7.860538\n",
      "2     7.603711\n",
      "3    14.641096\n",
      "4    14.769914\n",
      "Name: P2, dtype: float64\n"
     ]
    },
    {
     "data": {
      "image/png": "[encoded data removed]",
      "text/plain": [
       "<Figure size 432x288 with 1 Axes>"
      ]
     },
     "metadata": {
      "needs_background": "light"
     },
     "output_type": "display_data"
    }
   ],
   "source": [
    "mean_print_plot(df, category='Season', data_col1='P1', data_col2='P2')"
   ]
  },
  {
   "cell_type": "markdown",
   "metadata": {},
   "source": [
    "### As we see there are correlations between the season, week day, time of day and holidays and the air quality. \n",
    "##### I will now check with a seaborn correlation plot"
   ]
  },
  {
   "cell_type": "code",
   "execution_count": 240,
   "metadata": {},
   "outputs": [
    {
     "data": {
      "text/plain": [
       "<AxesSubplot:>"
      ]
     },
     "execution_count": 240,
     "metadata": {},
     "output_type": "execute_result"
    },
    {
     "data": {
      "image/png": "[encoded data removed]",
      "text/plain": [
       "<Figure size 432x288 with 2 Axes>"
      ]
     },
     "metadata": {
      "needs_background": "light"
     },
     "output_type": "display_data"
    }
   ],
   "source": [
    "sns.heatmap(df.corr(), annot=True)"
   ]
  },
  {
   "cell_type": "markdown",
   "metadata": {},
   "source": [
    "Strangly enough there seems to be a correlation also between the humidity and the air quality, but not that much with temperature."
   ]
  },
  {
   "cell_type": "markdown",
   "metadata": {},
   "source": [
    "### Regression\n",
    "##### I think that this problem may be best generalized with a random forest model. First I will start with a regressor, then I will use a classifier"
   ]
  },
  {
   "cell_type": "code",
   "execution_count": 332,
   "metadata": {},
   "outputs": [],
   "source": [
    "from sklearn.ensemble import RandomForestRegressor\n",
    "from sklearn.svm import SVR\n",
    "from sklearn.model_selection import train_test_split\n",
    "from sklearn.metrics import accuracy_score, classification_report, confusion_matrix\n",
    "from sklearn.preprocessing import StandardScaler"
   ]
  },
  {
   "cell_type": "code",
   "execution_count": 333,
   "metadata": {},
   "outputs": [],
   "source": [
    "X = df[['temperature', 'humidity', 'IsHoliday', 'WeekDay', 'Season']]\n",
    "y = df['P1']"
   ]
  },
  {
   "cell_type": "code",
   "execution_count": 334,
   "metadata": {},
   "outputs": [],
   "source": [
    "X_train, X_test, y_train, y_test = train_test_split(X, y, test_size = 0.3)"
   ]
  },
  {
   "cell_type": "code",
   "execution_count": null,
   "metadata": {},
   "outputs": [],
   "source": [
    "sc_regr = StandardScaler()\n",
    "X_train = sc_regr.fit_transform(sc_regr)\n",
    "X_test = sc_regr.transform(sc_regr)"
   ]
  },
  {
   "cell_type": "code",
   "execution_count": 335,
   "metadata": {},
   "outputs": [],
   "source": [
    "regr = RandomForestRegressor()\n",
    "regr_svm = SVR()"
   ]
  },
  {
   "cell_type": "code",
   "execution_count": 336,
   "metadata": {},
   "outputs": [
    {
     "data": {
      "text/plain": [
       "SVR()"
      ]
     },
     "execution_count": 336,
     "metadata": {},
     "output_type": "execute_result"
    }
   ],
   "source": [
    "regr.fit(X_train, y_train)\n",
    "regr_svm.fit(X_train, y_train)"
   ]
  },
  {
   "cell_type": "code",
   "execution_count": 339,
   "metadata": {},
   "outputs": [
    {
     "data": {
      "text/plain": [
       "array([14.71371667])"
      ]
     },
     "execution_count": 339,
     "metadata": {},
     "output_type": "execute_result"
    }
   ],
   "source": [
    "regr.predict([today])"
   ]
  },
  {
   "cell_type": "code",
   "execution_count": 340,
   "metadata": {},
   "outputs": [
    {
     "data": {
      "text/plain": [
       "array([24.00271396])"
      ]
     },
     "execution_count": 340,
     "metadata": {},
     "output_type": "execute_result"
    }
   ],
   "source": [
    "regr_svm.predict([today])"
   ]
  },
  {
   "cell_type": "code",
   "execution_count": 342,
   "metadata": {},
   "outputs": [],
   "source": [
    "y_pred_svm = regr_svm.predict(X_test)"
   ]
  },
  {
   "cell_type": "code",
   "execution_count": 349,
   "metadata": {},
   "outputs": [
    {
     "data": {
      "text/plain": [
       "[<matplotlib.lines.Line2D at 0x7fa544db1160>]"
      ]
     },
     "execution_count": 349,
     "metadata": {},
     "output_type": "execute_result"
    },
    {
     "data": {
      "image/png": "[encoded data removed]",
      "text/plain": [
       "<Figure size 432x288 with 1 Axes>"
      ]
     },
     "metadata": {
      "needs_background": "light"
     },
     "output_type": "display_data"
    }
   ],
   "source": [
    "plt.plot(y_test)\n",
    "plt.plot(y_pred_svm)"
   ]
  },
  {
   "cell_type": "code",
   "execution_count": 292,
   "metadata": {},
   "outputs": [],
   "source": [
    "df['HighP1'] = df['P1'].apply(is_p1_high)"
   ]
  },
  {
   "cell_type": "markdown",
   "metadata": {},
   "source": [
    "### Now I will run a classification RF model"
   ]
  },
  {
   "cell_type": "code",
   "execution_count": 274,
   "metadata": {},
   "outputs": [],
   "source": [
    "from sklearn.ensemble import RandomForestClassifier"
   ]
  },
  {
   "cell_type": "code",
   "execution_count": 293,
   "metadata": {},
   "outputs": [],
   "source": [
    "y = df['HighP1']"
   ]
  },
  {
   "cell_type": "code",
   "execution_count": 294,
   "metadata": {},
   "outputs": [],
   "source": [
    "X_train, X_test, y_train, y_test = train_test_split(X, y, test_size = 0.3)"
   ]
  },
  {
   "cell_type": "code",
   "execution_count": 295,
   "metadata": {},
   "outputs": [],
   "source": [
    "classifier = RandomForestClassifier()"
   ]
  },
  {
   "cell_type": "code",
   "execution_count": 296,
   "metadata": {},
   "outputs": [
    {
     "data": {
      "text/plain": [
       "RandomForestClassifier()"
      ]
     },
     "execution_count": 296,
     "metadata": {},
     "output_type": "execute_result"
    }
   ],
   "source": [
    "classifier.fit(X_train, y_train)"
   ]
  },
  {
   "cell_type": "code",
   "execution_count": 297,
   "metadata": {},
   "outputs": [],
   "source": [
    "y_pred = classifier.predict(X_test)"
   ]
  },
  {
   "cell_type": "code",
   "execution_count": 298,
   "metadata": {},
   "outputs": [
    {
     "name": "stdout",
     "output_type": "stream",
     "text": [
      "0.8860242914979757\n"
     ]
    }
   ],
   "source": [
    "print(accuracy_score(y_test, y_pred))"
   ]
  },
  {
   "cell_type": "code",
   "execution_count": 301,
   "metadata": {},
   "outputs": [
    {
     "name": "stdout",
     "output_type": "stream",
     "text": [
      "[[24205  1458]\n",
      " [ 2061  3151]]\n"
     ]
    }
   ],
   "source": [
    "print(confusion_matrix(y_test,y_pred))"
   ]
  },
  {
   "cell_type": "code",
   "execution_count": 299,
   "metadata": {},
   "outputs": [
    {
     "name": "stdout",
     "output_type": "stream",
     "text": [
      "              precision    recall  f1-score   support\n",
      "\n",
      "           0       0.92      0.94      0.93     25663\n",
      "           1       0.68      0.60      0.64      5212\n",
      "\n",
      "    accuracy                           0.89     30875\n",
      "   macro avg       0.80      0.77      0.79     30875\n",
      "weighted avg       0.88      0.89      0.88     30875\n",
      "\n"
     ]
    }
   ],
   "source": [
    "print(classification_report(y_test, y_pred))"
   ]
  },
  {
   "cell_type": "code",
   "execution_count": 307,
   "metadata": {},
   "outputs": [
    {
     "data": {
      "text/plain": [
       "array([16.3107])"
      ]
     },
     "execution_count": 307,
     "metadata": {},
     "output_type": "execute_result"
    }
   ],
   "source": [
    "today = [1, 100, 0, 6, 1]\n",
    "classifier.predict_proba([today])\n",
    "regr.predict([today])"
   ]
  },
  {
   "cell_type": "code",
   "execution_count": 310,
   "metadata": {},
   "outputs": [
    {
     "data": {
      "text/plain": [
       "array([0.58098859, 0.21763928, 0.00060336, 0.13613931, 0.06462947])"
      ]
     },
     "execution_count": 310,
     "metadata": {},
     "output_type": "execute_result"
    }
   ],
   "source": [
    "regr.feature_importances_"
   ]
  },
  {
   "cell_type": "code",
   "execution_count": 311,
   "metadata": {},
   "outputs": [
    {
     "data": {
      "text/plain": [
       "array([0.56722672, 0.24078604, 0.0011193 , 0.08231988, 0.10854807])"
      ]
     },
     "execution_count": 311,
     "metadata": {},
     "output_type": "execute_result"
    }
   ],
   "source": [
    "classifier.feature_importances_"
   ]
  },
  {
   "cell_type": "markdown",
   "metadata": {},
   "source": [
    "Results are not great - this may be due to overfitting of the clean air data as we have roughly 5 times more data for that case"
   ]
  },
  {
   "cell_type": "code",
   "execution_count": 331,
   "metadata": {},
   "outputs": [],
   "source": [
    "from sklearn.svm import SVC\n",
    "from sklearn.preprocessing import StandardScaler"
   ]
  },
  {
   "cell_type": "code",
   "execution_count": 320,
   "metadata": {},
   "outputs": [],
   "source": [
    "sc = StandardScaler()"
   ]
  },
  {
   "cell_type": "code",
   "execution_count": 329,
   "metadata": {},
   "outputs": [],
   "source": [
    "classifier_svc = SVC()"
   ]
  },
  {
   "cell_type": "code",
   "execution_count": 321,
   "metadata": {},
   "outputs": [],
   "source": [
    "X_train = sc.fit_transform(X_train)\n",
    "X_test = sc.transform(X_test)"
   ]
  },
  {
   "cell_type": "code",
   "execution_count": 345,
   "metadata": {},
   "outputs": [
    {
     "ename": "ValueError",
     "evalue": "Unknown label type: 'continuous'",
     "output_type": "error",
     "traceback": [
      "\u001b[0;31m---------------------------------------------------------------------------\u001b[0m",
      "\u001b[0;31mValueError\u001b[0m                                Traceback (most recent call last)",
      "\u001b[0;32m<ipython-input-345-3e4a0eb71d5c>\u001b[0m in \u001b[0;36m<module>\u001b[0;34m\u001b[0m\n\u001b[0;32m----> 1\u001b[0;31m \u001b[0mclassifier_svc\u001b[0m\u001b[0;34m.\u001b[0m\u001b[0mfit\u001b[0m\u001b[0;34m(\u001b[0m\u001b[0mX_train\u001b[0m\u001b[0;34m,\u001b[0m \u001b[0my_train\u001b[0m\u001b[0;34m)\u001b[0m\u001b[0;34m\u001b[0m\u001b[0;34m\u001b[0m\u001b[0m\n\u001b[0m",
      "\u001b[0;32m~/opt/anaconda3/lib/python3.8/site-packages/sklearn/svm/_base.py\u001b[0m in \u001b[0;36mfit\u001b[0;34m(self, X, y, sample_weight)\u001b[0m\n\u001b[1;32m    162\u001b[0m                                        accept_large_sparse=False)\n\u001b[1;32m    163\u001b[0m \u001b[0;34m\u001b[0m\u001b[0m\n\u001b[0;32m--> 164\u001b[0;31m         \u001b[0my\u001b[0m \u001b[0;34m=\u001b[0m \u001b[0mself\u001b[0m\u001b[0;34m.\u001b[0m\u001b[0m_validate_targets\u001b[0m\u001b[0;34m(\u001b[0m\u001b[0my\u001b[0m\u001b[0;34m)\u001b[0m\u001b[0;34m\u001b[0m\u001b[0;34m\u001b[0m\u001b[0m\n\u001b[0m\u001b[1;32m    165\u001b[0m \u001b[0;34m\u001b[0m\u001b[0m\n\u001b[1;32m    166\u001b[0m         sample_weight = np.asarray([]\n",
      "\u001b[0;32m~/opt/anaconda3/lib/python3.8/site-packages/sklearn/svm/_base.py\u001b[0m in \u001b[0;36m_validate_targets\u001b[0;34m(self, y)\u001b[0m\n\u001b[1;32m    542\u001b[0m     \u001b[0;32mdef\u001b[0m \u001b[0m_validate_targets\u001b[0m\u001b[0;34m(\u001b[0m\u001b[0mself\u001b[0m\u001b[0;34m,\u001b[0m \u001b[0my\u001b[0m\u001b[0;34m)\u001b[0m\u001b[0;34m:\u001b[0m\u001b[0;34m\u001b[0m\u001b[0;34m\u001b[0m\u001b[0m\n\u001b[1;32m    543\u001b[0m         \u001b[0my_\u001b[0m \u001b[0;34m=\u001b[0m \u001b[0mcolumn_or_1d\u001b[0m\u001b[0;34m(\u001b[0m\u001b[0my\u001b[0m\u001b[0;34m,\u001b[0m \u001b[0mwarn\u001b[0m\u001b[0;34m=\u001b[0m\u001b[0;32mTrue\u001b[0m\u001b[0;34m)\u001b[0m\u001b[0;34m\u001b[0m\u001b[0;34m\u001b[0m\u001b[0m\n\u001b[0;32m--> 544\u001b[0;31m         \u001b[0mcheck_classification_targets\u001b[0m\u001b[0;34m(\u001b[0m\u001b[0my\u001b[0m\u001b[0;34m)\u001b[0m\u001b[0;34m\u001b[0m\u001b[0;34m\u001b[0m\u001b[0m\n\u001b[0m\u001b[1;32m    545\u001b[0m         \u001b[0mcls\u001b[0m\u001b[0;34m,\u001b[0m \u001b[0my\u001b[0m \u001b[0;34m=\u001b[0m \u001b[0mnp\u001b[0m\u001b[0;34m.\u001b[0m\u001b[0munique\u001b[0m\u001b[0;34m(\u001b[0m\u001b[0my_\u001b[0m\u001b[0;34m,\u001b[0m \u001b[0mreturn_inverse\u001b[0m\u001b[0;34m=\u001b[0m\u001b[0;32mTrue\u001b[0m\u001b[0;34m)\u001b[0m\u001b[0;34m\u001b[0m\u001b[0;34m\u001b[0m\u001b[0m\n\u001b[1;32m    546\u001b[0m         self.class_weight_ = compute_class_weight(self.class_weight,\n",
      "\u001b[0;32m~/opt/anaconda3/lib/python3.8/site-packages/sklearn/utils/multiclass.py\u001b[0m in \u001b[0;36mcheck_classification_targets\u001b[0;34m(y)\u001b[0m\n\u001b[1;32m    170\u001b[0m     if y_type not in ['binary', 'multiclass', 'multiclass-multioutput',\n\u001b[1;32m    171\u001b[0m                       'multilabel-indicator', 'multilabel-sequences']:\n\u001b[0;32m--> 172\u001b[0;31m         \u001b[0;32mraise\u001b[0m \u001b[0mValueError\u001b[0m\u001b[0;34m(\u001b[0m\u001b[0;34m\"Unknown label type: %r\"\u001b[0m \u001b[0;34m%\u001b[0m \u001b[0my_type\u001b[0m\u001b[0;34m)\u001b[0m\u001b[0;34m\u001b[0m\u001b[0;34m\u001b[0m\u001b[0m\n\u001b[0m\u001b[1;32m    173\u001b[0m \u001b[0;34m\u001b[0m\u001b[0m\n\u001b[1;32m    174\u001b[0m \u001b[0;34m\u001b[0m\u001b[0m\n",
      "\u001b[0;31mValueError\u001b[0m: Unknown label type: 'continuous'"
     ]
    }
   ],
   "source": [
    "classifier_svc.fit(X_train, y_train)"
   ]
  },
  {
   "cell_type": "code",
   "execution_count": 346,
   "metadata": {
    "scrolled": true
   },
   "outputs": [
    {
     "ename": "AttributeError",
     "evalue": "'SVC' object has no attribute 'shape_fit_'",
     "output_type": "error",
     "traceback": [
      "\u001b[0;31m---------------------------------------------------------------------------\u001b[0m",
      "\u001b[0;31mAttributeError\u001b[0m                            Traceback (most recent call last)",
      "\u001b[0;32m<ipython-input-346-131d81dd94c7>\u001b[0m in \u001b[0;36m<module>\u001b[0;34m\u001b[0m\n\u001b[0;32m----> 1\u001b[0;31m \u001b[0my_pred_svc\u001b[0m \u001b[0;34m=\u001b[0m \u001b[0mclassifier_svc\u001b[0m\u001b[0;34m.\u001b[0m\u001b[0mpredict\u001b[0m\u001b[0;34m(\u001b[0m\u001b[0mX_test\u001b[0m\u001b[0;34m)\u001b[0m\u001b[0;34m\u001b[0m\u001b[0;34m\u001b[0m\u001b[0m\n\u001b[0m",
      "\u001b[0;32m~/opt/anaconda3/lib/python3.8/site-packages/sklearn/svm/_base.py\u001b[0m in \u001b[0;36mpredict\u001b[0;34m(self, X)\u001b[0m\n\u001b[1;32m    613\u001b[0m             \u001b[0my\u001b[0m \u001b[0;34m=\u001b[0m \u001b[0mnp\u001b[0m\u001b[0;34m.\u001b[0m\u001b[0margmax\u001b[0m\u001b[0;34m(\u001b[0m\u001b[0mself\u001b[0m\u001b[0;34m.\u001b[0m\u001b[0mdecision_function\u001b[0m\u001b[0;34m(\u001b[0m\u001b[0mX\u001b[0m\u001b[0;34m)\u001b[0m\u001b[0;34m,\u001b[0m \u001b[0maxis\u001b[0m\u001b[0;34m=\u001b[0m\u001b[0;36m1\u001b[0m\u001b[0;34m)\u001b[0m\u001b[0;34m\u001b[0m\u001b[0;34m\u001b[0m\u001b[0m\n\u001b[1;32m    614\u001b[0m         \u001b[0;32melse\u001b[0m\u001b[0;34m:\u001b[0m\u001b[0;34m\u001b[0m\u001b[0;34m\u001b[0m\u001b[0m\n\u001b[0;32m--> 615\u001b[0;31m             \u001b[0my\u001b[0m \u001b[0;34m=\u001b[0m \u001b[0msuper\u001b[0m\u001b[0;34m(\u001b[0m\u001b[0;34m)\u001b[0m\u001b[0;34m.\u001b[0m\u001b[0mpredict\u001b[0m\u001b[0;34m(\u001b[0m\u001b[0mX\u001b[0m\u001b[0;34m)\u001b[0m\u001b[0;34m\u001b[0m\u001b[0;34m\u001b[0m\u001b[0m\n\u001b[0m\u001b[1;32m    616\u001b[0m         \u001b[0;32mreturn\u001b[0m \u001b[0mself\u001b[0m\u001b[0;34m.\u001b[0m\u001b[0mclasses_\u001b[0m\u001b[0;34m.\u001b[0m\u001b[0mtake\u001b[0m\u001b[0;34m(\u001b[0m\u001b[0mnp\u001b[0m\u001b[0;34m.\u001b[0m\u001b[0masarray\u001b[0m\u001b[0;34m(\u001b[0m\u001b[0my\u001b[0m\u001b[0;34m,\u001b[0m \u001b[0mdtype\u001b[0m\u001b[0;34m=\u001b[0m\u001b[0mnp\u001b[0m\u001b[0;34m.\u001b[0m\u001b[0mintp\u001b[0m\u001b[0;34m)\u001b[0m\u001b[0;34m)\u001b[0m\u001b[0;34m\u001b[0m\u001b[0;34m\u001b[0m\u001b[0m\n\u001b[1;32m    617\u001b[0m \u001b[0;34m\u001b[0m\u001b[0m\n",
      "\u001b[0;32m~/opt/anaconda3/lib/python3.8/site-packages/sklearn/svm/_base.py\u001b[0m in \u001b[0;36mpredict\u001b[0;34m(self, X)\u001b[0m\n\u001b[1;32m    331\u001b[0m         \u001b[0my_pred\u001b[0m \u001b[0;34m:\u001b[0m \u001b[0mndarray\u001b[0m \u001b[0mof\u001b[0m \u001b[0mshape\u001b[0m \u001b[0;34m(\u001b[0m\u001b[0mn_samples\u001b[0m\u001b[0;34m,\u001b[0m\u001b[0;34m)\u001b[0m\u001b[0;34m\u001b[0m\u001b[0;34m\u001b[0m\u001b[0m\n\u001b[1;32m    332\u001b[0m         \"\"\"\n\u001b[0;32m--> 333\u001b[0;31m         \u001b[0mX\u001b[0m \u001b[0;34m=\u001b[0m \u001b[0mself\u001b[0m\u001b[0;34m.\u001b[0m\u001b[0m_validate_for_predict\u001b[0m\u001b[0;34m(\u001b[0m\u001b[0mX\u001b[0m\u001b[0;34m)\u001b[0m\u001b[0;34m\u001b[0m\u001b[0;34m\u001b[0m\u001b[0m\n\u001b[0m\u001b[1;32m    334\u001b[0m         \u001b[0mpredict\u001b[0m \u001b[0;34m=\u001b[0m \u001b[0mself\u001b[0m\u001b[0;34m.\u001b[0m\u001b[0m_sparse_predict\u001b[0m \u001b[0;32mif\u001b[0m \u001b[0mself\u001b[0m\u001b[0;34m.\u001b[0m\u001b[0m_sparse\u001b[0m \u001b[0;32melse\u001b[0m \u001b[0mself\u001b[0m\u001b[0;34m.\u001b[0m\u001b[0m_dense_predict\u001b[0m\u001b[0;34m\u001b[0m\u001b[0;34m\u001b[0m\u001b[0m\n\u001b[1;32m    335\u001b[0m         \u001b[0;32mreturn\u001b[0m \u001b[0mpredict\u001b[0m\u001b[0;34m(\u001b[0m\u001b[0mX\u001b[0m\u001b[0;34m)\u001b[0m\u001b[0;34m\u001b[0m\u001b[0;34m\u001b[0m\u001b[0m\n",
      "\u001b[0;32m~/opt/anaconda3/lib/python3.8/site-packages/sklearn/svm/_base.py\u001b[0m in \u001b[0;36m_validate_for_predict\u001b[0;34m(self, X)\u001b[0m\n\u001b[1;32m    481\u001b[0m                                  \u001b[0;34m\"the number of samples at training time\"\u001b[0m \u001b[0;34m%\u001b[0m\u001b[0;34m\u001b[0m\u001b[0;34m\u001b[0m\u001b[0m\n\u001b[1;32m    482\u001b[0m                                  (X.shape[1], self.shape_fit_[0]))\n\u001b[0;32m--> 483\u001b[0;31m         \u001b[0;32melif\u001b[0m \u001b[0;32mnot\u001b[0m \u001b[0mcallable\u001b[0m\u001b[0;34m(\u001b[0m\u001b[0mself\u001b[0m\u001b[0;34m.\u001b[0m\u001b[0mkernel\u001b[0m\u001b[0;34m)\u001b[0m \u001b[0;32mand\u001b[0m \u001b[0mX\u001b[0m\u001b[0;34m.\u001b[0m\u001b[0mshape\u001b[0m\u001b[0;34m[\u001b[0m\u001b[0;36m1\u001b[0m\u001b[0;34m]\u001b[0m \u001b[0;34m!=\u001b[0m \u001b[0mself\u001b[0m\u001b[0;34m.\u001b[0m\u001b[0mshape_fit_\u001b[0m\u001b[0;34m[\u001b[0m\u001b[0;36m1\u001b[0m\u001b[0;34m]\u001b[0m\u001b[0;34m:\u001b[0m\u001b[0;34m\u001b[0m\u001b[0;34m\u001b[0m\u001b[0m\n\u001b[0m\u001b[1;32m    484\u001b[0m             raise ValueError(\"X.shape[1] = %d should be equal to %d, \"\n\u001b[1;32m    485\u001b[0m                              \u001b[0;34m\"the number of features at training time\"\u001b[0m \u001b[0;34m%\u001b[0m\u001b[0;34m\u001b[0m\u001b[0;34m\u001b[0m\u001b[0m\n",
      "\u001b[0;31mAttributeError\u001b[0m: 'SVC' object has no attribute 'shape_fit_'"
     ]
    }
   ],
   "source": [
    "y_pred_svc = classifier_svc.predict(X_test)"
   ]
  },
  {
   "cell_type": "code",
   "execution_count": null,
   "metadata": {},
   "outputs": [],
   "source": [
    "print(classification_report(y_test, y_pred_svc))"
   ]
  },
  {
   "cell_type": "code",
   "execution_count": null,
   "metadata": {},
   "outputs": [],
   "source": [
    "classifier_svc.predict([today])"
   ]
  },
  {
   "cell_type": "code",
   "execution_count": null,
   "metadata": {},
   "outputs": [],
   "source": []
  }
 ],
 "metadata": {
  "kernelspec": {
   "display_name": "Python 3",
   "language": "python",
   "name": "python3"
  },
  "language_info": {
   "codemirror_mode": {
    "name": "ipython",
    "version": 3
   },
   "file_extension": ".py",
   "mimetype": "text/x-python",
   "name": "python",
   "nbconvert_exporter": "python",
   "pygments_lexer": "ipython3",
   "version": "3.8.5"
  }
 },
 "nbformat": 4,
 "nbformat_minor": 4
}
