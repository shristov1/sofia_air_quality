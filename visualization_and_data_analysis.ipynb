{
 "cells": [
  {
   "cell_type": "code",
   "execution_count": 203,
   "metadata": {},
   "outputs": [],
   "source": [
    "import pandas as pd\n",
    "import seaborn as sns\n",
    "import matplotlib.pyplot as plt\n",
    "from download_climate_data import download_data\n",
    "import os\n",
    "import datetime"
   ]
  },
  {
   "cell_type": "markdown",
   "metadata": {},
   "source": [
    "We are only interested in sensors with the following parameters: (sensor_name = sds011, sensor_id = 6127) and (sensor_name = bme280, sensor_id = 6128)."
   ]
  },
  {
   "cell_type": "code",
   "execution_count": 2,
   "metadata": {},
   "outputs": [],
   "source": [
    "def part_day(x):\n",
    "    \"\"\" Returns part of day based on the timestamp hour \"\"\"\n",
    "    x = x.hour\n",
    "    if (x > 4) and (x <= 8):\n",
    "        return 1\n",
    "    elif (x > 8) and (x <= 12):\n",
    "        return 2\n",
    "    elif (x > 12) and (x <= 14):\n",
    "        return 3\n",
    "    elif (x > 14) and (x <= 18):\n",
    "        return 4\n",
    "    elif (x > 18) and (x <= 22):\n",
    "        return 5\n",
    "    else:\n",
    "        return 6"
   ]
  },
  {
   "cell_type": "code",
   "execution_count": 3,
   "metadata": {},
   "outputs": [],
   "source": [
    "def season(x):\n",
    "    \"\"\"Returns season based on month\"\"\"\n",
    "    x = x.month\n",
    "    if (x > 3) and (x <= 6):\n",
    "        return 1\n",
    "    elif (x > 6) and (x <= 9):\n",
    "        return 2\n",
    "    elif (x > 9) and (x <= 11):\n",
    "        return 3\n",
    "    else:\n",
    "        return 4"
   ]
  },
  {
   "cell_type": "code",
   "execution_count": 4,
   "metadata": {},
   "outputs": [],
   "source": [
    "def is_workday(x):\n",
    "    \"\"\" Returns if day is workday\"\"\"\n",
    "    if x <= 4:\n",
    "        return 1\n",
    "    else:\n",
    "        return 0"
   ]
  },
  {
   "cell_type": "code",
   "execution_count": 5,
   "metadata": {},
   "outputs": [],
   "source": [
    "def mean_print_plot(df, category: str, data_col1: str, data_col2: str) -> None:\n",
    "    \"\"\"Function which prints the mean of each category in a data column and plots the difference between the 2 datasets\n",
    "    \n",
    "    Parameters: \n",
    "    df: data frame\n",
    "    category: category name\n",
    "    data_col1: data to calculate mean on\n",
    "    data_col2: data to calculate mean on\n",
    "    \n",
    "    Returns: \n",
    "    None\n",
    "    \n",
    "    \"\"\"\n",
    "    \n",
    "    print(f\"P1 data stats: {df.groupby([category]).mean()[data_col1].sort_index()}\")\n",
    "    print('------------------------------------------------')\n",
    "    print(f\"P2 data stats: {df.groupby([category]).mean()[data_col2].sort_index()}\")\n",
    "    \n",
    "    plt.plot(df.groupby([category]).mean()[data_col1].sort_index(), label='P1')\n",
    "    plt.plot(df.groupby([category]).mean()[data_col2].sort_index(), label='P2')\n",
    "    plt.title(f'Mean of {data_col1} and {data_col2} per {category} category')\n",
    "    plt.legend()\n",
    "    plt.grid()"
   ]
  },
  {
   "cell_type": "code",
   "execution_count": 6,
   "metadata": {},
   "outputs": [],
   "source": [
    "def is_p1_high(x):\n",
    "    if x > 35:\n",
    "        return 1\n",
    "    else:\n",
    "        return 0"
   ]
  },
  {
   "cell_type": "code",
   "execution_count": 7,
   "metadata": {},
   "outputs": [],
   "source": [
    "def is_holiday(x):\n",
    "    \"\"\" Returns if it is holiday if date is 3 days around a holiday\"\"\"\n",
    "    for holiday in HOLIDAYS:\n",
    "        if (x >= holiday-datetime.timedelta(days=3)) and (x <= holiday + datetime.timedelta(days=3)):\n",
    "            return 1\n",
    "        else:\n",
    "            return 0"
   ]
  },
  {
   "cell_type": "markdown",
   "metadata": {},
   "source": [
    "Also, we are going to create a list with all public holidays:  \n",
    "Date\tHoliday\tOfficial Name  \n",
    "1 January\tNew Year's Day   \n",
    "3 March\tLiberation Day  \n",
    "1 May\tInternational Workers' Day  \n",
    "6 May\tSaint George's Day  \n",
    "24 May\tBulgarian Education and Culture and Slavonic Literature Day  \n",
    "6 September\tUnification Day  \n",
    "22 September\tIndependence Day  \n",
    "24 December\tChristmas Eve  \n",
    "25 & 26 December\tChristmas Day  \n",
    "Moveable\tOrthodox Good Friday, Holy Saturday & Easter  "
   ]
  },
  {
   "cell_type": "code",
   "execution_count": 8,
   "metadata": {},
   "outputs": [],
   "source": [
    "HOLIDAYS = [datetime.date(2020,4,19), datetime.date(2021,1,1), datetime.date(2021,3,3),datetime.date(2020,5,1),\n",
    "            datetime.date(2020,5,6),datetime.date(2020,5,24),datetime.date(2020,9,6),\n",
    "            datetime.date(2020,9,22),datetime.date(2020,12,24),datetime.date(2020,12,25),datetime.date(2020,12,26)]"
   ]
  },
  {
   "cell_type": "code",
   "execution_count": 224,
   "metadata": {},
   "outputs": [],
   "source": [
    "START_DATE = datetime.date(2020,4,1)   # start time for the analysis"
   ]
  },
  {
   "cell_type": "markdown",
   "metadata": {},
   "source": [
    "### Data download now"
   ]
  },
  {
   "cell_type": "code",
   "execution_count": 225,
   "metadata": {},
   "outputs": [
    {
     "name": "stdout",
     "output_type": "stream",
     "text": [
      "Downloading: 2020-04-01\n",
      "Downloading: 2020-04-02\n",
      "Downloading: 2020-04-03\n",
      "Downloading: 2020-04-04\n",
      "Downloading: 2020-04-05\n",
      "Downloading: 2020-04-06\n",
      "Downloading: 2020-04-07\n",
      "Downloading: 2020-04-08\n",
      "Downloading: 2020-04-09\n",
      "Downloading: 2020-04-10\n",
      "Downloading: 2020-04-11\n",
      "Downloading: 2020-04-12\n",
      "Downloading: 2020-04-13\n",
      "Downloading: 2020-04-14\n",
      "Downloading: 2020-04-15\n",
      "Downloading: 2020-04-16\n",
      "Downloading: 2020-04-17\n",
      "Downloading: 2020-04-18\n",
      "Downloading: 2020-04-19\n",
      "Downloading: 2020-04-20\n",
      "Downloading: 2020-04-21\n",
      "Downloading: 2020-04-22\n",
      "Downloading: 2020-04-23\n",
      "Downloading: 2020-04-24\n",
      "Downloading: 2020-04-25\n",
      "Downloading: 2020-04-26\n",
      "Downloading: 2020-04-27\n",
      "Downloading: 2020-04-28\n",
      "Downloading: 2020-04-29\n",
      "Downloading: 2020-04-30\n",
      "Downloading: 2020-05-01\n",
      "Downloading: 2020-05-02\n",
      "Downloading: 2020-05-03\n",
      "Downloading: 2020-05-04\n",
      "Downloading: 2020-05-05\n",
      "Downloading: 2020-05-06\n",
      "Downloading: 2020-05-07\n",
      "Downloading: 2020-05-08\n",
      "Downloading: 2020-05-09\n",
      "Downloading: 2020-05-10\n",
      "Downloading: 2020-05-11\n",
      "Downloading: 2020-05-12\n",
      "Downloading: 2020-05-13\n",
      "Downloading: 2020-05-14\n",
      "Downloading: 2020-05-15\n",
      "Downloading: 2020-05-16\n",
      "Downloading: 2020-05-17\n",
      "Downloading: 2020-05-18\n",
      "Downloading: 2020-05-19\n",
      "Downloading: 2020-05-20\n",
      "Downloading: 2020-05-21\n",
      "Downloading: 2020-05-22\n",
      "Downloading: 2020-05-23\n",
      "Downloading: 2020-05-24\n",
      "Downloading: 2020-05-25\n",
      "Downloading: 2020-05-26\n",
      "Downloading: 2020-05-27\n",
      "Downloading: 2020-05-28\n",
      "Downloading: 2020-05-29\n",
      "Downloading: 2020-05-30\n",
      "Downloading: 2020-05-31\n",
      "Downloading: 2020-06-01\n",
      "Downloading: 2020-06-02\n",
      "Downloading: 2020-06-03\n",
      "Downloading: 2020-06-04\n",
      "Downloading: 2020-06-05\n",
      "Downloading: 2020-06-06\n",
      "Downloading: 2020-06-07\n",
      "Downloading: 2020-06-08\n",
      "Downloading: 2020-06-09\n",
      "Downloading: 2020-06-10\n",
      "Downloading: 2020-06-11\n",
      "Downloading: 2020-06-12\n",
      "Downloading: 2020-06-13\n",
      "Downloading: 2020-06-14\n",
      "Downloading: 2020-06-15\n",
      "Downloading: 2020-06-16\n",
      "Downloading: 2020-06-17\n",
      "Downloading: 2020-06-18\n",
      "Downloading: 2020-06-19\n",
      "Downloading: 2020-06-20\n",
      "Downloading: 2020-06-21\n",
      "Downloading: 2020-06-22\n",
      "Downloading: 2020-06-23\n",
      "Downloading: 2020-06-24\n",
      "Downloading: 2020-06-25\n",
      "Downloading: 2020-06-26\n",
      "Downloading: 2020-06-27\n",
      "Downloading: 2020-06-28\n",
      "Downloading: 2020-06-29\n",
      "Downloading: 2020-06-30\n",
      "Downloading: 2020-07-01\n",
      "Downloading: 2020-07-02\n",
      "Downloading: 2020-07-03\n",
      "Downloading: 2020-07-04\n",
      "Downloading: 2020-07-05\n",
      "Downloading: 2020-07-06\n",
      "Downloading: 2020-07-07\n",
      "Downloading: 2020-07-08\n",
      "Downloading: 2020-07-09\n",
      "Downloading: 2020-07-10\n",
      "Downloading: 2020-07-11\n",
      "Downloading: 2020-07-12\n",
      "Downloading: 2020-07-13\n",
      "Downloading: 2020-07-14\n",
      "Downloading: 2020-07-15\n",
      "Downloading: 2020-07-16\n",
      "Downloading: 2020-07-17\n",
      "Downloading: 2020-07-18\n",
      "Downloading: 2020-07-19\n",
      "Downloading: 2020-07-20\n",
      "Downloading: 2020-07-21\n",
      "Downloading: 2020-07-22\n",
      "Downloading: 2020-07-23\n",
      "Downloading: 2020-07-24\n",
      "Downloading: 2020-07-25\n",
      "Downloading: 2020-07-26\n",
      "Downloading: 2020-07-27\n",
      "Downloading: 2020-07-28\n",
      "Downloading: 2020-07-29\n",
      "Downloading: 2020-07-30\n",
      "Downloading: 2020-07-31\n",
      "Downloading: 2020-08-01\n",
      "Downloading: 2020-08-02\n",
      "Downloading: 2020-08-03\n",
      "Downloading: 2020-08-04\n",
      "Downloading: 2020-08-05\n",
      "Downloading: 2020-08-06\n",
      "Downloading: 2020-08-07\n",
      "Downloading: 2020-08-08\n",
      "Downloading: 2020-08-09\n",
      "Downloading: 2020-08-10\n",
      "Downloading: 2020-08-11\n",
      "Downloading: 2020-08-12\n",
      "Downloading: 2020-08-13\n",
      "Downloading: 2020-08-14\n",
      "Downloading: 2020-08-15\n",
      "Downloading: 2020-08-16\n",
      "Downloading: 2020-08-17\n",
      "Downloading: 2020-08-18\n",
      "Downloading: 2020-08-19\n",
      "Downloading: 2020-08-20\n",
      "Downloading: 2020-08-21\n",
      "Downloading: 2020-08-22\n",
      "Downloading: 2020-08-23\n",
      "Downloading: 2020-08-24\n",
      "Downloading: 2020-08-25\n",
      "Downloading: 2020-08-26\n",
      "Downloading: 2020-08-27\n",
      "Downloading: 2020-08-28\n",
      "Downloading: 2020-08-29\n",
      "Downloading: 2020-08-30\n",
      "Downloading: 2020-08-31\n",
      "Downloading: 2020-09-01\n",
      "Downloading: 2020-09-02\n",
      "Downloading: 2020-09-03\n",
      "Downloading: 2020-09-04\n",
      "Downloading: 2020-09-05\n",
      "Downloading: 2020-09-06\n",
      "Downloading: 2020-09-07\n",
      "Downloading: 2020-09-08\n",
      "Downloading: 2020-09-09\n",
      "Downloading: 2020-09-10\n",
      "Downloading: 2020-09-11\n",
      "Downloading: 2020-09-12\n",
      "Downloading: 2020-09-13\n",
      "Downloading: 2020-09-14\n",
      "Downloading: 2020-09-15\n",
      "Downloading: 2020-09-16\n",
      "Downloading: 2020-09-17\n",
      "Downloading: 2020-09-18\n",
      "Downloading: 2020-09-19\n",
      "Downloading: 2020-09-20\n",
      "Downloading: 2020-09-21\n",
      "Downloading: 2020-09-22\n",
      "Downloading: 2020-09-23\n",
      "Downloading: 2020-09-24\n",
      "Downloading: 2020-09-25\n",
      "Downloading: 2020-09-26\n",
      "Downloading: 2020-09-27\n",
      "Downloading: 2020-09-28\n",
      "Downloading: 2020-09-29\n",
      "Downloading: 2020-09-30\n",
      "Downloading: 2020-10-01\n",
      "Downloading: 2020-10-02\n",
      "Downloading: 2020-10-03\n",
      "Downloading: 2020-10-04\n",
      "Downloading: 2020-10-05\n",
      "Downloading: 2020-10-06\n",
      "Downloading: 2020-10-07\n",
      "Downloading: 2020-10-08\n",
      "Downloading: 2020-10-09\n",
      "Downloading: 2020-10-10\n",
      "Downloading: 2020-10-11\n",
      "Downloading: 2020-10-12\n",
      "Downloading: 2020-10-13\n",
      "Downloading: 2020-10-14\n",
      "Downloading: 2020-10-15\n",
      "Downloading: 2020-10-16\n",
      "Downloading: 2020-10-17\n",
      "Downloading: 2020-10-18\n",
      "Downloading: 2020-10-19\n",
      "Downloading: 2020-10-20\n",
      "Downloading: 2020-10-21\n",
      "Downloading: 2020-10-22\n",
      "Downloading: 2020-10-23\n",
      "Downloading: 2020-10-24\n",
      "Downloading: 2020-10-25\n",
      "Downloading: 2020-10-26\n",
      "Downloading: 2020-10-27\n",
      "Downloading: 2020-10-28\n",
      "Downloading: 2020-10-29\n",
      "Downloading: 2020-10-30\n",
      "Downloading: 2020-10-31\n",
      "Downloading: 2020-11-01\n",
      "Downloading: 2020-11-02\n",
      "Downloading: 2020-11-03\n",
      "Downloading: 2020-11-04\n",
      "Downloading: 2020-11-05\n",
      "Downloading: 2020-11-06\n",
      "Downloading: 2020-11-07\n",
      "Downloading: 2020-11-08\n",
      "Downloading: 2020-11-09\n",
      "Downloading: 2020-11-10\n",
      "Downloading: 2020-11-11\n",
      "Downloading: 2020-11-12\n",
      "Downloading: 2020-11-13\n",
      "Downloading: 2020-11-14\n",
      "Downloading: 2020-11-15\n",
      "Downloading: 2020-11-16\n",
      "Downloading: 2020-11-17\n",
      "Downloading: 2020-11-18\n",
      "Downloading: 2020-11-19\n",
      "Downloading: 2020-11-20\n",
      "Downloading: 2020-11-21\n",
      "Downloading: 2020-11-22\n",
      "Downloading: 2020-11-23\n",
      "Downloading: 2020-11-24\n",
      "Downloading: 2020-11-25\n",
      "Downloading: 2020-11-26\n",
      "Downloading: 2020-11-27\n",
      "Downloading: 2020-11-28\n",
      "Downloading: 2020-11-29\n",
      "Downloading: 2020-11-30\n",
      "Downloading: 2020-12-01\n",
      "Downloading: 2020-12-02\n",
      "Downloading: 2020-12-03\n",
      "Downloading: 2020-12-04\n",
      "Downloading: 2020-12-05\n",
      "Downloading: 2020-12-06\n",
      "Downloading: 2020-12-07\n",
      "Downloading: 2020-12-08\n",
      "Downloading: 2020-12-09\n",
      "Downloading: 2020-12-10\n",
      "Downloading: 2020-12-11\n",
      "Downloading: 2020-12-12\n",
      "Downloading: 2020-12-13\n",
      "Downloading: 2020-12-14\n",
      "Downloading: 2020-12-15\n",
      "Downloading: 2020-12-16\n",
      "Downloading: 2020-12-17\n",
      "Downloading: 2020-12-18\n",
      "Downloading: 2020-12-19\n",
      "Downloading: 2020-12-20\n",
      "Downloading: 2020-12-21\n",
      "Downloading: 2020-12-22\n",
      "Downloading: 2020-12-23\n",
      "Downloading: 2020-12-24\n",
      "Downloading: 2020-12-25\n",
      "Downloading: 2020-12-26\n",
      "Downloading: 2020-12-27\n",
      "Downloading: 2020-12-28\n",
      "Downloading: 2020-12-29\n",
      "Downloading: 2020-12-30\n",
      "Downloading: 2020-12-31\n",
      "Downloading: 2021-01-01\n",
      "Downloading: 2021-01-02\n",
      "Downloading: 2021-01-03\n",
      "Downloading: 2021-01-04\n",
      "Downloading: 2021-01-05\n",
      "Downloading: 2021-01-06\n",
      "Downloading: 2021-01-07\n",
      "Downloading: 2021-01-08\n",
      "Downloading: 2021-01-09\n",
      "Downloading: 2021-01-10\n",
      "Downloading: 2021-01-11\n",
      "Downloading: 2021-01-12\n",
      "Downloading: 2021-01-13\n",
      "Downloading: 2021-01-14\n",
      "Downloading: 2021-01-15\n",
      "Downloading: 2021-01-16\n",
      "Downloading: 2021-01-17\n",
      "Downloading: 2021-01-18\n",
      "Downloading: 2021-01-19\n",
      "Downloading: 2021-01-20\n",
      "Downloading: 2021-01-21\n",
      "Downloading: 2021-01-22\n",
      "Downloading: 2021-01-23\n",
      "Downloading: 2021-01-24\n",
      "Downloading: 2021-01-25\n",
      "Downloading: 2021-01-26\n",
      "Downloading: 2021-01-27\n",
      "Downloading: 2021-01-28\n",
      "Downloading: 2021-01-29\n",
      "Downloading: 2021-01-30\n",
      "Downloading: 2021-01-31\n",
      "Downloading: 2021-02-01\n",
      "Downloading: 2021-02-02\n",
      "Downloading: 2021-02-03\n",
      "Downloading: 2021-02-04\n",
      "Downloading: 2021-02-05\n",
      "Downloading: 2021-02-06\n",
      "Downloading: 2021-02-07\n",
      "Downloading: 2021-02-08\n",
      "Downloading: 2021-02-09\n",
      "Downloading: 2021-02-10\n",
      "Downloading: 2021-02-11\n",
      "Downloading: 2021-02-12\n",
      "Downloading: 2021-02-13\n",
      "Downloading: 2021-02-14\n",
      "Downloading: 2021-02-15\n",
      "Downloading: 2021-02-16\n",
      "Downloading: 2021-02-17\n",
      "Downloading: 2021-02-18\n",
      "Downloading: 2021-02-19\n",
      "Downloading: 2021-02-20\n",
      "Downloading: 2021-02-21\n",
      "Downloading: 2021-02-22\n",
      "Downloading: 2021-02-23\n",
      "Downloading: 2021-02-24\n",
      "Downloading: 2021-02-25\n",
      "Downloading: 2021-02-26\n",
      "Downloading: 2021-02-27\n",
      "Downloading: 2021-02-28\n",
      "Downloading: 2021-03-01\n",
      "Downloading: 2021-03-02\n",
      "Downloading: 2021-03-03\n",
      "Downloading: 2021-03-04\n",
      "Downloading: 2021-03-05\n",
      "Downloading: 2021-03-06\n",
      "Downloading: 2021-03-07\n",
      "Downloading: 2021-03-08\n",
      "Downloading: 2021-03-09\n",
      "Downloading: 2021-03-10\n",
      "Downloading: 2021-03-11\n",
      "Downloading: 2021-03-12\n",
      "Downloading: 2021-03-13\n",
      "Downloading: 2021-03-14\n",
      "Downloading: 2021-03-15\n",
      "Downloading: 2021-03-16\n",
      "Downloading: 2021-03-17\n",
      "Downloading: 2021-03-18\n",
      "Downloading: 2021-03-19\n",
      "Downloading: 2021-03-20\n",
      "Downloading: 2021-03-21\n",
      "Downloading: 2021-03-22\n",
      "Downloading: 2021-03-23\n",
      "Downloading: 2021-03-24\n",
      "Downloading: 2021-03-25\n",
      "Downloading: 2021-03-26\n",
      "Downloading: 2021-03-27\n",
      "Downloading: 2021-03-28\n",
      "Downloading: 2021-03-29\n",
      "Downloading: 2021-03-30\n",
      "Downloading: 2021-03-31\n",
      "Downloading: 2021-04-01\n",
      "Downloading: 2021-04-02\n",
      "Downloading: 2021-04-03\n",
      "Downloading: 2021-04-04\n",
      "Downloading: 2021-04-05\n",
      "Downloading: 2021-04-06\n",
      "Downloading: 2021-04-07\n",
      "Downloading: 2021-04-08\n",
      "Downloading: 2021-04-09\n",
      "Downloading: 2021-04-10\n",
      "Downloading: 2021-04-11\n",
      "Downloading: 2021-04-12\n",
      "Downloading: 2021-04-13\n",
      "Downloading: 2021-04-14\n",
      "Downloading: 2021-04-15\n",
      "Downloading: 2021-04-16\n",
      "Downloading: 2021-04-17\n",
      "Downloading: 2021-04-18\n",
      "Downloading: 2020-04-01\n",
      "Downloading: 2020-04-02\n",
      "Downloading: 2020-04-03\n",
      "Downloading: 2020-04-04\n",
      "Downloading: 2020-04-05\n",
      "Downloading: 2020-04-06\n",
      "Downloading: 2020-04-07\n",
      "Downloading: 2020-04-08\n",
      "Downloading: 2020-04-09\n",
      "Downloading: 2020-04-10\n",
      "Downloading: 2020-04-11\n",
      "Downloading: 2020-04-12\n",
      "Downloading: 2020-04-13\n",
      "Downloading: 2020-04-14\n",
      "Downloading: 2020-04-15\n",
      "Downloading: 2020-04-16\n",
      "Downloading: 2020-04-17\n",
      "Downloading: 2020-04-18\n",
      "Downloading: 2020-04-19\n",
      "Downloading: 2020-04-20\n",
      "Downloading: 2020-04-21\n",
      "Downloading: 2020-04-22\n",
      "Downloading: 2020-04-23\n",
      "Downloading: 2020-04-24\n",
      "Downloading: 2020-04-25\n",
      "Downloading: 2020-04-26\n",
      "Downloading: 2020-04-27\n",
      "Downloading: 2020-04-28\n",
      "Downloading: 2020-04-29\n",
      "Downloading: 2020-04-30\n",
      "Downloading: 2020-05-01\n",
      "Downloading: 2020-05-02\n",
      "Downloading: 2020-05-03\n",
      "Downloading: 2020-05-04\n",
      "Downloading: 2020-05-05\n",
      "Downloading: 2020-05-06\n",
      "Downloading: 2020-05-07\n",
      "Downloading: 2020-05-08\n",
      "Downloading: 2020-05-09\n",
      "Downloading: 2020-05-10\n",
      "Downloading: 2020-05-11\n",
      "Downloading: 2020-05-12\n",
      "Downloading: 2020-05-13\n",
      "Downloading: 2020-05-14\n",
      "Downloading: 2020-05-15\n",
      "Downloading: 2020-05-16\n",
      "Downloading: 2020-05-17\n",
      "Downloading: 2020-05-18\n",
      "Downloading: 2020-05-19\n",
      "Downloading: 2020-05-20\n",
      "Downloading: 2020-05-21\n",
      "Downloading: 2020-05-22\n",
      "Downloading: 2020-05-23\n",
      "Downloading: 2020-05-24\n",
      "Downloading: 2020-05-25\n",
      "Downloading: 2020-05-26\n",
      "Downloading: 2020-05-27\n",
      "Downloading: 2020-05-28\n",
      "Downloading: 2020-05-29\n",
      "Downloading: 2020-05-30\n",
      "Downloading: 2020-05-31\n",
      "Downloading: 2020-06-01\n",
      "Downloading: 2020-06-02\n",
      "Downloading: 2020-06-03\n",
      "Downloading: 2020-06-04\n",
      "Downloading: 2020-06-05\n",
      "Downloading: 2020-06-06\n",
      "Downloading: 2020-06-07\n",
      "Downloading: 2020-06-08\n",
      "Downloading: 2020-06-09\n",
      "Downloading: 2020-06-10\n",
      "Downloading: 2020-06-11\n",
      "Downloading: 2020-06-12\n",
      "Downloading: 2020-06-13\n",
      "Downloading: 2020-06-14\n",
      "Downloading: 2020-06-15\n",
      "Downloading: 2020-06-16\n",
      "Downloading: 2020-06-17\n",
      "Downloading: 2020-06-18\n",
      "Downloading: 2020-06-19\n",
      "Downloading: 2020-06-20\n",
      "Downloading: 2020-06-21\n",
      "Downloading: 2020-06-22\n",
      "Downloading: 2020-06-23\n",
      "Downloading: 2020-06-24\n",
      "Downloading: 2020-06-25\n",
      "Downloading: 2020-06-26\n",
      "Downloading: 2020-06-27\n",
      "Downloading: 2020-06-28\n",
      "Downloading: 2020-06-29\n",
      "Downloading: 2020-06-30\n",
      "Downloading: 2020-07-01\n",
      "Downloading: 2020-07-02\n",
      "Downloading: 2020-07-03\n",
      "Downloading: 2020-07-04\n",
      "Downloading: 2020-07-05\n",
      "Downloading: 2020-07-06\n",
      "Downloading: 2020-07-07\n",
      "Downloading: 2020-07-08\n",
      "Downloading: 2020-07-09\n",
      "Downloading: 2020-07-10\n",
      "Downloading: 2020-07-11\n",
      "Downloading: 2020-07-12\n",
      "Downloading: 2020-07-13\n",
      "Downloading: 2020-07-14\n",
      "Downloading: 2020-07-15\n",
      "Downloading: 2020-07-16\n",
      "Downloading: 2020-07-17\n",
      "Downloading: 2020-07-18\n",
      "Downloading: 2020-07-19\n",
      "Downloading: 2020-07-20\n",
      "Downloading: 2020-07-21\n",
      "Downloading: 2020-07-22\n",
      "Downloading: 2020-07-23\n",
      "Downloading: 2020-07-24\n",
      "Downloading: 2020-07-25\n",
      "Downloading: 2020-07-26\n",
      "Downloading: 2020-07-27\n",
      "Downloading: 2020-07-28\n",
      "Downloading: 2020-07-29\n",
      "Downloading: 2020-07-30\n",
      "Downloading: 2020-07-31\n",
      "Downloading: 2020-08-01\n",
      "Downloading: 2020-08-02\n",
      "Downloading: 2020-08-03\n",
      "Downloading: 2020-08-04\n",
      "Downloading: 2020-08-05\n",
      "Downloading: 2020-08-06\n",
      "Downloading: 2020-08-07\n",
      "Downloading: 2020-08-08\n",
      "Downloading: 2020-08-09\n",
      "Downloading: 2020-08-10\n",
      "Downloading: 2020-08-11\n",
      "Downloading: 2020-08-12\n",
      "Downloading: 2020-08-13\n",
      "Downloading: 2020-08-14\n",
      "Downloading: 2020-08-15\n",
      "Downloading: 2020-08-16\n",
      "Downloading: 2020-08-17\n",
      "Downloading: 2020-08-18\n",
      "Downloading: 2020-08-19\n",
      "Downloading: 2020-08-20\n",
      "Downloading: 2020-08-21\n",
      "Downloading: 2020-08-22\n",
      "Downloading: 2020-08-23\n",
      "Downloading: 2020-08-24\n",
      "Downloading: 2020-08-25\n",
      "Downloading: 2020-08-26\n",
      "Downloading: 2020-08-27\n",
      "Downloading: 2020-08-28\n",
      "Downloading: 2020-08-29\n",
      "Downloading: 2020-08-30\n",
      "Downloading: 2020-08-31\n",
      "Downloading: 2020-09-01\n",
      "Downloading: 2020-09-02\n",
      "Downloading: 2020-09-03\n",
      "Downloading: 2020-09-04\n",
      "Downloading: 2020-09-05\n",
      "Downloading: 2020-09-06\n",
      "Downloading: 2020-09-07\n",
      "Downloading: 2020-09-08\n",
      "Downloading: 2020-09-09\n",
      "Downloading: 2020-09-10\n",
      "Downloading: 2020-09-11\n",
      "Downloading: 2020-09-12\n",
      "Downloading: 2020-09-13\n",
      "Downloading: 2020-09-14\n",
      "Downloading: 2020-09-15\n",
      "Downloading: 2020-09-16\n",
      "Downloading: 2020-09-17\n",
      "Downloading: 2020-09-18\n",
      "Downloading: 2020-09-19\n",
      "Downloading: 2020-09-20\n",
      "Downloading: 2020-09-21\n",
      "Downloading: 2020-09-22\n",
      "Downloading: 2020-09-23\n",
      "Downloading: 2020-09-24\n",
      "Downloading: 2020-09-25\n",
      "Downloading: 2020-09-26\n",
      "Downloading: 2020-09-27\n",
      "Downloading: 2020-09-28\n",
      "Downloading: 2020-09-29\n",
      "Downloading: 2020-09-30\n",
      "Downloading: 2020-10-01\n",
      "Downloading: 2020-10-02\n",
      "Downloading: 2020-10-03\n",
      "Downloading: 2020-10-04\n",
      "Downloading: 2020-10-05\n",
      "Downloading: 2020-10-06\n",
      "Downloading: 2020-10-07\n",
      "Downloading: 2020-10-08\n",
      "Downloading: 2020-10-09\n",
      "Downloading: 2020-10-10\n",
      "Downloading: 2020-10-11\n",
      "Downloading: 2020-10-12\n",
      "Downloading: 2020-10-13\n",
      "Downloading: 2020-10-14\n",
      "Downloading: 2020-10-15\n",
      "Downloading: 2020-10-16\n",
      "Downloading: 2020-10-17\n",
      "Downloading: 2020-10-18\n",
      "Downloading: 2020-10-19\n",
      "Downloading: 2020-10-20\n",
      "Downloading: 2020-10-21\n",
      "Downloading: 2020-10-22\n",
      "Downloading: 2020-10-23\n",
      "Downloading: 2020-10-24\n",
      "Downloading: 2020-10-25\n",
      "Downloading: 2020-10-26\n",
      "Downloading: 2020-10-27\n",
      "Downloading: 2020-10-28\n",
      "Downloading: 2020-10-29\n",
      "Downloading: 2020-10-30\n",
      "Downloading: 2020-10-31\n",
      "Downloading: 2020-11-01\n",
      "Downloading: 2020-11-02\n",
      "Downloading: 2020-11-03\n",
      "Downloading: 2020-11-04\n",
      "Downloading: 2020-11-05\n",
      "Downloading: 2020-11-06\n",
      "Downloading: 2020-11-07\n",
      "Downloading: 2020-11-08\n",
      "Downloading: 2020-11-09\n",
      "Downloading: 2020-11-10\n",
      "Downloading: 2020-11-11\n",
      "Downloading: 2020-11-12\n",
      "Downloading: 2020-11-13\n",
      "Downloading: 2020-11-14\n",
      "Downloading: 2020-11-15\n",
      "Downloading: 2020-11-16\n",
      "Downloading: 2020-11-17\n",
      "Downloading: 2020-11-18\n",
      "Downloading: 2020-11-19\n",
      "Downloading: 2020-11-20\n",
      "Downloading: 2020-11-21\n",
      "Downloading: 2020-11-22\n",
      "Downloading: 2020-11-23\n",
      "Downloading: 2020-11-24\n",
      "Downloading: 2020-11-25\n",
      "Downloading: 2020-11-26\n",
      "Downloading: 2020-11-27\n",
      "Downloading: 2020-11-28\n",
      "Downloading: 2020-11-29\n",
      "Downloading: 2020-11-30\n",
      "Downloading: 2020-12-01\n",
      "Downloading: 2020-12-02\n",
      "Downloading: 2020-12-03\n",
      "Downloading: 2020-12-04\n",
      "Downloading: 2020-12-05\n",
      "Downloading: 2020-12-06\n",
      "Downloading: 2020-12-07\n",
      "Downloading: 2020-12-08\n",
      "Downloading: 2020-12-09\n",
      "Downloading: 2020-12-10\n",
      "Downloading: 2020-12-11\n",
      "Downloading: 2020-12-12\n",
      "Downloading: 2020-12-13\n",
      "Downloading: 2020-12-14\n",
      "Downloading: 2020-12-15\n",
      "Downloading: 2020-12-16\n",
      "Downloading: 2020-12-17\n",
      "Downloading: 2020-12-18\n",
      "Downloading: 2020-12-19\n",
      "Downloading: 2020-12-20\n",
      "Downloading: 2020-12-21\n",
      "Downloading: 2020-12-22\n",
      "Downloading: 2020-12-23\n",
      "Downloading: 2020-12-24\n",
      "Downloading: 2020-12-25\n",
      "Downloading: 2020-12-26\n",
      "Downloading: 2020-12-27\n",
      "Downloading: 2020-12-28\n",
      "Downloading: 2020-12-29\n",
      "Downloading: 2020-12-30\n",
      "Downloading: 2020-12-31\n",
      "Downloading: 2021-01-01\n",
      "Downloading: 2021-01-02\n",
      "Downloading: 2021-01-03\n",
      "Downloading: 2021-01-04\n",
      "Downloading: 2021-01-05\n",
      "Downloading: 2021-01-06\n",
      "Downloading: 2021-01-07\n",
      "Downloading: 2021-01-08\n",
      "Downloading: 2021-01-09\n",
      "Downloading: 2021-01-10\n",
      "Downloading: 2021-01-11\n",
      "Downloading: 2021-01-12\n",
      "Downloading: 2021-01-13\n",
      "Downloading: 2021-01-14\n",
      "Downloading: 2021-01-15\n",
      "Downloading: 2021-01-16\n",
      "Downloading: 2021-01-17\n",
      "Downloading: 2021-01-18\n",
      "Downloading: 2021-01-19\n",
      "Downloading: 2021-01-20\n",
      "Downloading: 2021-01-21\n",
      "Downloading: 2021-01-22\n",
      "Downloading: 2021-01-23\n",
      "Downloading: 2021-01-24\n",
      "Downloading: 2021-01-25\n",
      "Downloading: 2021-01-26\n",
      "Downloading: 2021-01-27\n",
      "Downloading: 2021-01-28\n",
      "Downloading: 2021-01-29\n",
      "Downloading: 2021-01-30\n",
      "Downloading: 2021-01-31\n",
      "Downloading: 2021-02-01\n",
      "Downloading: 2021-02-02\n",
      "Downloading: 2021-02-03\n",
      "Downloading: 2021-02-04\n",
      "Downloading: 2021-02-05\n",
      "Downloading: 2021-02-06\n",
      "Downloading: 2021-02-07\n",
      "Downloading: 2021-02-08\n",
      "Downloading: 2021-02-09\n",
      "Downloading: 2021-02-10\n",
      "Downloading: 2021-02-11\n",
      "Downloading: 2021-02-12\n",
      "Downloading: 2021-02-13\n",
      "Downloading: 2021-02-14\n",
      "Downloading: 2021-02-15\n",
      "Downloading: 2021-02-16\n",
      "Downloading: 2021-02-17\n",
      "Downloading: 2021-02-18\n",
      "Downloading: 2021-02-19\n",
      "Downloading: 2021-02-20\n",
      "Downloading: 2021-02-21\n",
      "Downloading: 2021-02-22\n",
      "Downloading: 2021-02-23\n",
      "Downloading: 2021-02-24\n",
      "Downloading: 2021-02-25\n",
      "Downloading: 2021-02-26\n",
      "Downloading: 2021-02-27\n",
      "Downloading: 2021-02-28\n",
      "Downloading: 2021-03-01\n",
      "Downloading: 2021-03-02\n",
      "Downloading: 2021-03-03\n",
      "Downloading: 2021-03-04\n",
      "Downloading: 2021-03-05\n",
      "Downloading: 2021-03-06\n",
      "Downloading: 2021-03-07\n",
      "Downloading: 2021-03-08\n",
      "Downloading: 2021-03-09\n",
      "Downloading: 2021-03-10\n",
      "Downloading: 2021-03-11\n",
      "Downloading: 2021-03-12\n",
      "Downloading: 2021-03-13\n",
      "Downloading: 2021-03-14\n",
      "Downloading: 2021-03-15\n",
      "Downloading: 2021-03-16\n",
      "Downloading: 2021-03-17\n",
      "Downloading: 2021-03-18\n",
      "Downloading: 2021-03-19\n",
      "Downloading: 2021-03-20\n",
      "Downloading: 2021-03-21\n",
      "Downloading: 2021-03-22\n",
      "Downloading: 2021-03-23\n",
      "Downloading: 2021-03-24\n",
      "Downloading: 2021-03-25\n",
      "Downloading: 2021-03-26\n",
      "Downloading: 2021-03-27\n",
      "Downloading: 2021-03-28\n",
      "Downloading: 2021-03-29\n",
      "Downloading: 2021-03-30\n",
      "Downloading: 2021-03-31\n",
      "Downloading: 2021-04-01\n",
      "Downloading: 2021-04-02\n",
      "Downloading: 2021-04-03\n",
      "Downloading: 2021-04-04\n",
      "Downloading: 2021-04-05\n",
      "Downloading: 2021-04-06\n",
      "Downloading: 2021-04-07\n",
      "Downloading: 2021-04-08\n",
      "Downloading: 2021-04-09\n",
      "Downloading: 2021-04-10\n",
      "Downloading: 2021-04-11\n",
      "Downloading: 2021-04-12\n",
      "Downloading: 2021-04-13\n",
      "Downloading: 2021-04-14\n",
      "Downloading: 2021-04-15\n",
      "Downloading: 2021-04-16\n",
      "Downloading: 2021-04-17\n",
      "Downloading: 2021-04-18\n"
     ]
    }
   ],
   "source": [
    "download_data(sensor_name='sds011', sensor_id=6127)\n",
    "download_data(sensor_name='bme280', sensor_id=6128)"
   ]
  },
  {
   "cell_type": "markdown",
   "metadata": {},
   "source": [
    "#### We have all the data, let us now load the data in dataframe"
   ]
  },
  {
   "cell_type": "code",
   "execution_count": 11,
   "metadata": {},
   "outputs": [],
   "source": [
    "file_list = os.listdir('./data/')"
   ]
  },
  {
   "cell_type": "code",
   "execution_count": 12,
   "metadata": {},
   "outputs": [],
   "source": [
    "date_list = set([file.split('_')[0] for file in file_list]) # get unique dates"
   ]
  },
  {
   "cell_type": "code",
   "execution_count": 13,
   "metadata": {},
   "outputs": [],
   "source": [
    "df = pd.DataFrame()"
   ]
  },
  {
   "cell_type": "code",
   "execution_count": 25,
   "metadata": {},
   "outputs": [],
   "source": [
    "for date in date_list:\n",
    "    for file in file_list:\n",
    "        if file.find(date) != -1:\n",
    "            if file.find('bme280') != -1:\n",
    "                df_temp_1 = pd.read_csv('./data/'+file, sep=';')\n",
    "                df_temp_1.timestamp = pd.to_datetime(df_temp_1.timestamp, errors='ignore', infer_datetime_format=True)\n",
    "            elif file.find('sds011') != -1:\n",
    "                df_temp_2 = pd.read_csv('./data/'+file, sep=';')\n",
    "                df_temp_2.timestamp = pd.to_datetime(df_temp_2.timestamp, errors='ignore', infer_datetime_format=True)\n",
    "            \n",
    "        df_1 = pd.merge_asof(df_temp_1, df_temp_2, on='timestamp', direction='nearest', tolerance=datetime.timedelta(seconds=20), allow_exact_matches=False)\n",
    "        df_1.drop(['altitude', 'pressure', 'durP2', 'ratioP2', 'durP1', 'ratioP1', \"ratioP2\",\n",
    "                  'sensor_id_x', 'sensor_type_x', 'location_x', 'lat_x', 'lon_x', 'pressure_sealevel',\n",
    "                  'sensor_id_y', 'sensor_type_y', 'location_y', 'lat_y','lon_y'], axis=1, inplace=True);\n",
    "        df_1.dropna(inplace=True)\n",
    "    df = pd.concat([df, df_1])"
   ]
  },
  {
   "cell_type": "code",
   "execution_count": 26,
   "metadata": {},
   "outputs": [],
   "source": [
    "df.reset_index(inplace=True)\n",
    "df.drop('index', axis=1, inplace=True)"
   ]
  },
  {
   "cell_type": "code",
   "execution_count": 27,
   "metadata": {},
   "outputs": [],
   "source": [
    "df['IsHoliday'] = df['timestamp'].apply(is_holiday) \n",
    "df['PartDay'] = df['timestamp'].apply(part_day)"
   ]
  },
  {
   "cell_type": "code",
   "execution_count": 28,
   "metadata": {},
   "outputs": [],
   "source": [
    "df['WeekDay'] = df['timestamp'].dt.dayofweek"
   ]
  },
  {
   "cell_type": "code",
   "execution_count": 29,
   "metadata": {},
   "outputs": [],
   "source": [
    "df['IsWorking'] = df['WeekDay'].apply(is_workday)"
   ]
  },
  {
   "cell_type": "code",
   "execution_count": 30,
   "metadata": {},
   "outputs": [],
   "source": [
    "df['Season'] = df['timestamp'].apply(season)"
   ]
  },
  {
   "cell_type": "markdown",
   "metadata": {},
   "source": [
    "Check if the P1 and P2 values are higher in any part of the day or if it is a holiday."
   ]
  },
  {
   "cell_type": "code",
   "execution_count": 163,
   "metadata": {},
   "outputs": [
    {
     "name": "stdout",
     "output_type": "stream",
     "text": [
      "P1 data stats: IsHoliday\n",
      "0    21.902981\n",
      "1    11.290025\n",
      "Name: P1, dtype: float64\n",
      "------------------------------------------------\n",
      "P2 data stats: IsHoliday\n",
      "0    10.971089\n",
      "1     6.689738\n",
      "Name: P2, dtype: float64\n"
     ]
    },
    {
     "data": {
      "text/plain": [
       "([<matplotlib.axis.XTick at 0x7fb53469bf40>,\n",
       "  <matplotlib.axis.XTick at 0x7fb53469bf10>],\n",
       " [Text(0.0, 0, 'Normal day'), Text(1.0000000000000002, 0, 'Holiday')])"
      ]
     },
     "execution_count": 163,
     "metadata": {},
     "output_type": "execute_result"
    },
    {
     "data": {
      "image/png": "[encoded data removed]",
      "text/plain": [
       "<Figure size 432x288 with 1 Axes>"
      ]
     },
     "metadata": {
      "needs_background": "light"
     },
     "output_type": "display_data"
    }
   ],
   "source": [
    "mean_print_plot(df, category='IsHoliday', data_col1='P1', data_col2='P2')\n",
    "locs, ticks = plt.xticks()\n",
    "plt.xticks([locs[1], locs[-2]], ['Normal day', 'Holiday'])"
   ]
  },
  {
   "cell_type": "code",
   "execution_count": 157,
   "metadata": {},
   "outputs": [
    {
     "name": "stdout",
     "output_type": "stream",
     "text": [
      "P1 data stats: WeekDay\n",
      "0    20.923175\n",
      "1    21.798023\n",
      "2    22.379729\n",
      "3    19.217035\n",
      "4    22.818081\n",
      "5    24.521938\n",
      "6    20.779478\n",
      "Name: P1, dtype: float64\n",
      "------------------------------------------------\n",
      "P2 data stats: WeekDay\n",
      "0    10.808763\n",
      "1    10.862912\n",
      "2    10.874274\n",
      "3     9.698477\n",
      "4    11.364189\n",
      "5    12.019899\n",
      "6    10.807247\n",
      "Name: P2, dtype: float64\n"
     ]
    },
    {
     "data": {
      "text/plain": [
       "([<matplotlib.axis.XTick at 0x7fb702e3f310>,\n",
       "  <matplotlib.axis.XTick at 0x7fb702e3f1c0>,\n",
       "  <matplotlib.axis.XTick at 0x7fb7178748b0>,\n",
       "  <matplotlib.axis.XTick at 0x7fb71b443fa0>,\n",
       "  <matplotlib.axis.XTick at 0x7fb71b4433d0>,\n",
       "  <matplotlib.axis.XTick at 0x7fb71b443310>,\n",
       "  <matplotlib.axis.XTick at 0x7fb71c2fe850>,\n",
       "  <matplotlib.axis.XTick at 0x7fb71c2f6580>,\n",
       "  <matplotlib.axis.XTick at 0x7fb71c2fed00>],\n",
       " [Text(-1.0, 0, ''),\n",
       "  Text(0.0, 0, 'Mon'),\n",
       "  Text(1.0, 0, 'Tue'),\n",
       "  Text(2.0, 0, 'Wed'),\n",
       "  Text(3.0, 0, 'Thu'),\n",
       "  Text(4.0, 0, 'Fri'),\n",
       "  Text(5.0, 0, 'Sat'),\n",
       "  Text(6.0, 0, 'Sun'),\n",
       "  Text(7.0, 0, '')])"
      ]
     },
     "execution_count": 157,
     "metadata": {},
     "output_type": "execute_result"
    },
    {
     "data": {
      "image/png": "[encoded data removed]",
      "text/plain": [
       "<Figure size 432x288 with 1 Axes>"
      ]
     },
     "metadata": {
      "needs_background": "light"
     },
     "output_type": "display_data"
    }
   ],
   "source": [
    "mean_print_plot(df, category='WeekDay', data_col1='P1', data_col2='P2')\n",
    "locs, ticks = plt.xticks()\n",
    "plt.xticks(locs, ['', 'Mon','Tue', 'Wed', 'Thu', 'Fri', 'Sat', 'Sun', ''])"
   ]
  },
  {
   "cell_type": "code",
   "execution_count": 230,
   "metadata": {},
   "outputs": [
    {
     "name": "stdout",
     "output_type": "stream",
     "text": [
      "P1 data stats: Season\n",
      "1    13.689664\n",
      "2    11.637685\n",
      "3    24.443991\n",
      "4    29.279461\n",
      "Name: P1, dtype: float64\n",
      "------------------------------------------------\n",
      "P2 data stats: Season\n",
      "1     7.241151\n",
      "2     7.707919\n",
      "3    11.423877\n",
      "4    12.849945\n",
      "Name: P2, dtype: float64\n"
     ]
    },
    {
     "data": {
      "image/png": "[encoded data removed]",
      "text/plain": [
       "<Figure size 432x288 with 1 Axes>"
      ]
     },
     "metadata": {
      "needs_background": "light"
     },
     "output_type": "display_data"
    }
   ],
   "source": [
    "df_blah = df.loc[df['PartDay']==6]\n",
    "mean_print_plot(df_blah, category='Season', data_col1='P1', data_col2 = 'P2')"
   ]
  },
  {
   "cell_type": "code",
   "execution_count": 155,
   "metadata": {},
   "outputs": [
    {
     "name": "stdout",
     "output_type": "stream",
     "text": [
      "P1 data stats: PartDay\n",
      "1    26.333939\n",
      "2    17.852379\n",
      "3    16.090872\n",
      "4    24.714647\n",
      "5    23.705592\n",
      "6    19.640751\n",
      "Name: P1, dtype: float64\n",
      "------------------------------------------------\n",
      "P2 data stats: PartDay\n",
      "1    12.849758\n",
      "2     9.692042\n",
      "3     8.684842\n",
      "4    12.110483\n",
      "5    11.617310\n",
      "6     9.777295\n",
      "Name: P2, dtype: float64\n"
     ]
    },
    {
     "data": {
      "text/plain": [
       "([<matplotlib.axis.XTick at 0x7fb71796dbb0>,\n",
       "  <matplotlib.axis.XTick at 0x7fb71796dca0>,\n",
       "  <matplotlib.axis.XTick at 0x7fb7178765b0>,\n",
       "  <matplotlib.axis.XTick at 0x7fb717d21f40>,\n",
       "  <matplotlib.axis.XTick at 0x7fb717d213a0>,\n",
       "  <matplotlib.axis.XTick at 0x7fb7176d99d0>,\n",
       "  <matplotlib.axis.XTick at 0x7fb7176d9190>,\n",
       "  <matplotlib.axis.XTick at 0x7fb71786c070>],\n",
       " [Text(0.0, 0, ' '),\n",
       "  Text(1.0, 0, 'Early Morning'),\n",
       "  Text(2.0, 0, 'Morning'),\n",
       "  Text(3.0, 0, 'Noon'),\n",
       "  Text(4.0, 0, 'Afternoon'),\n",
       "  Text(5.0, 0, 'Evening'),\n",
       "  Text(6.0, 0, 'Night'),\n",
       "  Text(7.0, 0, '')])"
      ]
     },
     "execution_count": 155,
     "metadata": {},
     "output_type": "execute_result"
    },
    {
     "data": {
      "image/png": "[encoded data removed]",
      "text/plain": [
       "<Figure size 432x288 with 1 Axes>"
      ]
     },
     "metadata": {
      "needs_background": "light"
     },
     "output_type": "display_data"
    }
   ],
   "source": [
    "mean_print_plot(df, category='PartDay', data_col1='P1', data_col2='P2')\n",
    "locs, ticks = plt.xticks()\n",
    "plt.xticks(locs, [' ','Early Morning', 'Morning', 'Noon', 'Afternoon', 'Evening', 'Night', ''])"
   ]
  },
  {
   "cell_type": "code",
   "execution_count": 151,
   "metadata": {},
   "outputs": [
    {
     "data": {
      "text/plain": [
       "array([0., 1., 2., 3., 4., 5., 6., 7.])"
      ]
     },
     "execution_count": 151,
     "metadata": {},
     "output_type": "execute_result"
    }
   ],
   "source": []
  },
  {
   "cell_type": "code",
   "execution_count": 160,
   "metadata": {},
   "outputs": [
    {
     "name": "stdout",
     "output_type": "stream",
     "text": [
      "P1 data stats: Season\n",
      "1    13.725050\n",
      "2    10.960895\n",
      "3    30.822060\n",
      "4    33.120027\n",
      "Name: P1, dtype: float64\n",
      "------------------------------------------------\n",
      "P2 data stats: Season\n",
      "1     7.389153\n",
      "2     7.603711\n",
      "3    14.641096\n",
      "4    14.769914\n",
      "Name: P2, dtype: float64\n"
     ]
    },
    {
     "data": {
      "text/plain": [
       "([<matplotlib.axis.XTick at 0x7fb7178f03a0>,\n",
       "  <matplotlib.axis.XTick at 0x7fb53437e6d0>,\n",
       "  <matplotlib.axis.XTick at 0x7fb717944070>,\n",
       "  <matplotlib.axis.XTick at 0x7fb5344453d0>],\n",
       " [Text(1.0, 0, 'Spring'),\n",
       "  Text(2.0, 0, 'Summer'),\n",
       "  Text(3.0, 0, 'Autumn'),\n",
       "  Text(4.0, 0, 'Winter')])"
      ]
     },
     "execution_count": 160,
     "metadata": {},
     "output_type": "execute_result"
    },
    {
     "data": {
      "image/png": "[encoded data removed]",
      "text/plain": [
       "<Figure size 432x288 with 1 Axes>"
      ]
     },
     "metadata": {
      "needs_background": "light"
     },
     "output_type": "display_data"
    }
   ],
   "source": [
    "mean_print_plot(df, category='Season', data_col1='P1', data_col2='P2')\n",
    "locs, ticks = plt.xticks()\n",
    "plt.xticks(locs[1:-1:2], ['Spring', 'Summer', 'Autumn', 'Winter'])"
   ]
  },
  {
   "cell_type": "markdown",
   "metadata": {},
   "source": [
    "### As we see there are correlations between the season, week day, time of day and holidays and the air quality. \n",
    "##### I will now check with a seaborn correlation plot"
   ]
  },
  {
   "cell_type": "code",
   "execution_count": 35,
   "metadata": {},
   "outputs": [
    {
     "data": {
      "text/plain": [
       "<AxesSubplot:>"
      ]
     },
     "execution_count": 35,
     "metadata": {},
     "output_type": "execute_result"
    },
    {
     "data": {
      "image/png": "[encoded data removed]",
      "text/plain": [
       "<Figure size 432x288 with 2 Axes>"
      ]
     },
     "metadata": {
      "needs_background": "light"
     },
     "output_type": "display_data"
    }
   ],
   "source": [
    "sns.heatmap(df.corr(), annot=True)"
   ]
  },
  {
   "cell_type": "markdown",
   "metadata": {},
   "source": [
    "Strangly enough there seems to be a correlation also between the humidity and the air quality, but not that much with temperature."
   ]
  },
  {
   "cell_type": "markdown",
   "metadata": {},
   "source": [
    "### Regression\n",
    "##### I think that this problem may be best generalized with a random forest model. First I will start with a regressor, then I will use a classifier"
   ]
  },
  {
   "cell_type": "code",
   "execution_count": 36,
   "metadata": {},
   "outputs": [],
   "source": [
    "from sklearn.ensemble import RandomForestRegressor\n",
    "from sklearn.svm import SVR\n",
    "from sklearn.model_selection import train_test_split\n",
    "from sklearn.metrics import accuracy_score, classification_report, confusion_matrix\n",
    "from sklearn.preprocessing import StandardScaler"
   ]
  },
  {
   "cell_type": "code",
   "execution_count": 143,
   "metadata": {},
   "outputs": [],
   "source": [
    "X = df[['temperature', 'humidity', 'IsHoliday', 'WeekDay', 'Season']]\n",
    "y = df['P1']\n",
    "today = [12, 47, 0, 1, 1]"
   ]
  },
  {
   "cell_type": "code",
   "execution_count": 129,
   "metadata": {},
   "outputs": [],
   "source": [
    "X_train, X_test, y_train, y_test = train_test_split(X, y, test_size = 0.3)"
   ]
  },
  {
   "cell_type": "code",
   "execution_count": 130,
   "metadata": {},
   "outputs": [],
   "source": [
    "sc_regr = StandardScaler()\n",
    "X_train = sc_regr.fit_transform(X_train)\n",
    "X_test = sc_regr.transform(X_test)\n"
   ]
  },
  {
   "cell_type": "code",
   "execution_count": 144,
   "metadata": {},
   "outputs": [],
   "source": [
    "today = sc_regr.transform([today])"
   ]
  },
  {
   "cell_type": "code",
   "execution_count": 40,
   "metadata": {},
   "outputs": [],
   "source": [
    "regr = RandomForestRegressor()\n",
    "regr_svm = SVR()"
   ]
  },
  {
   "cell_type": "code",
   "execution_count": 41,
   "metadata": {},
   "outputs": [
    {
     "data": {
      "text/plain": [
       "SVR()"
      ]
     },
     "execution_count": 41,
     "metadata": {},
     "output_type": "execute_result"
    }
   ],
   "source": [
    "regr.fit(X_train, y_train)\n",
    "regr_svm.fit(X_train, y_train)"
   ]
  },
  {
   "cell_type": "code",
   "execution_count": 42,
   "metadata": {},
   "outputs": [
    {
     "data": {
      "text/plain": [
       "array([32.49653])"
      ]
     },
     "execution_count": 42,
     "metadata": {},
     "output_type": "execute_result"
    }
   ],
   "source": [
    "regr.predict(today)"
   ]
  },
  {
   "cell_type": "code",
   "execution_count": 43,
   "metadata": {},
   "outputs": [
    {
     "data": {
      "text/plain": [
       "array([28.02530818])"
      ]
     },
     "execution_count": 43,
     "metadata": {},
     "output_type": "execute_result"
    }
   ],
   "source": [
    "regr_svm.predict(today)"
   ]
  },
  {
   "cell_type": "code",
   "execution_count": 44,
   "metadata": {},
   "outputs": [],
   "source": [
    "y_pred_svm = regr_svm.predict(X_test)"
   ]
  },
  {
   "cell_type": "markdown",
   "metadata": {},
   "source": [
    "Regression ANN:"
   ]
  },
  {
   "cell_type": "code",
   "execution_count": 124,
   "metadata": {},
   "outputs": [],
   "source": [
    "import tensorflow as tf"
   ]
  },
  {
   "cell_type": "code",
   "execution_count": 125,
   "metadata": {},
   "outputs": [],
   "source": [
    "ann_regr = tf.keras.models.Sequential()"
   ]
  },
  {
   "cell_type": "code",
   "execution_count": 126,
   "metadata": {},
   "outputs": [],
   "source": [
    "ann_regr.add(tf.keras.layers.Dense(units = 5, activation='relu'))\n",
    "ann_regr.add(tf.keras.layers.Dense(units = 8, activation='relu'))\n",
    "ann_regr.add(tf.keras.layers.Dense(units=1))"
   ]
  },
  {
   "cell_type": "code",
   "execution_count": 127,
   "metadata": {},
   "outputs": [],
   "source": [
    "ann_regr.compile(optimizer='adam', loss='mean_squared_error')"
   ]
  },
  {
   "cell_type": "code",
   "execution_count": 131,
   "metadata": {},
   "outputs": [
    {
     "name": "stdout",
     "output_type": "stream",
     "text": [
      "Epoch 1/100\n",
      "1600/1600 [==============================] - 2s 1ms/step - loss: 1152.9218\n",
      "Epoch 2/100\n",
      "1600/1600 [==============================] - 2s 940us/step - loss: 737.9810\n",
      "Epoch 3/100\n",
      "1600/1600 [==============================] - 2s 981us/step - loss: 708.2553\n",
      "Epoch 4/100\n",
      "1600/1600 [==============================] - 2s 971us/step - loss: 743.6075\n",
      "Epoch 5/100\n",
      "1600/1600 [==============================] - 2s 983us/step - loss: 704.6582\n",
      "Epoch 6/100\n",
      "1600/1600 [==============================] - 2s 1ms/step - loss: 724.3096\n",
      "Epoch 7/100\n",
      "1600/1600 [==============================] - 2s 1ms/step - loss: 699.7277\n",
      "Epoch 8/100\n",
      "1600/1600 [==============================] - 3s 2ms/step - loss: 694.1408\n",
      "Epoch 9/100\n",
      "1600/1600 [==============================] - 1s 862us/step - loss: 696.1978\n",
      "Epoch 10/100\n",
      "1600/1600 [==============================] - 1s 860us/step - loss: 681.2321\n",
      "Epoch 11/100\n",
      "1600/1600 [==============================] - 3s 2ms/step - loss: 731.0869\n",
      "Epoch 12/100\n",
      "1600/1600 [==============================] - 3s 2ms/step - loss: 699.3289\n",
      "Epoch 13/100\n",
      "1600/1600 [==============================] - 3s 2ms/step - loss: 709.2244\n",
      "Epoch 14/100\n",
      "1600/1600 [==============================] - 3s 2ms/step - loss: 701.3492\n",
      "Epoch 15/100\n",
      "1600/1600 [==============================] - 2s 1ms/step - loss: 710.0937\n",
      "Epoch 16/100\n",
      "1600/1600 [==============================] - 3s 2ms/step - loss: 717.5347\n",
      "Epoch 17/100\n",
      "1600/1600 [==============================] - 3s 2ms/step - loss: 704.3062\n",
      "Epoch 18/100\n",
      "1600/1600 [==============================] - 3s 2ms/step - loss: 749.4875\n",
      "Epoch 19/100\n",
      "1600/1600 [==============================] - 4s 2ms/step - loss: 731.1049\n",
      "Epoch 20/100\n",
      "1600/1600 [==============================] - 4s 2ms/step - loss: 706.5506A: 0s - loss: 7\n",
      "Epoch 21/100\n",
      "1600/1600 [==============================] - 4s 2ms/step - loss: 712.5212\n",
      "Epoch 22/100\n",
      "1600/1600 [==============================] - 4s 2ms/step - loss: 692.0747\n",
      "Epoch 23/100\n",
      "1600/1600 [==============================] - 4s 2ms/step - loss: 728.3920\n",
      "Epoch 24/100\n",
      "1600/1600 [==============================] - 3s 2ms/step - loss: 702.7286\n",
      "Epoch 25/100\n",
      "1600/1600 [==============================] - 2s 1ms/step - loss: 676.8897\n",
      "Epoch 26/100\n",
      "1600/1600 [==============================] - 2s 1ms/step - loss: 715.9123\n",
      "Epoch 27/100\n",
      "1600/1600 [==============================] - 2s 997us/step - loss: 718.4881\n",
      "Epoch 28/100\n",
      "1600/1600 [==============================] - 2s 1ms/step - loss: 702.1716\n",
      "Epoch 29/100\n",
      "1600/1600 [==============================] - 2s 1ms/step - loss: 707.7659\n",
      "Epoch 30/100\n",
      "1600/1600 [==============================] - 2s 962us/step - loss: 698.4491\n",
      "Epoch 31/100\n",
      "1600/1600 [==============================] - 1s 932us/step - loss: 704.0207\n",
      "Epoch 32/100\n",
      "1600/1600 [==============================] - 2s 944us/step - loss: 694.6029\n",
      "Epoch 33/100\n",
      "1600/1600 [==============================] - 2s 955us/step - loss: 714.2969\n",
      "Epoch 34/100\n",
      "1600/1600 [==============================] - 2s 992us/step - loss: 668.2410\n",
      "Epoch 35/100\n",
      "1600/1600 [==============================] - 2s 1ms/step - loss: 694.4614\n",
      "Epoch 36/100\n",
      "1600/1600 [==============================] - 2s 1ms/step - loss: 701.2230\n",
      "Epoch 37/100\n",
      "1600/1600 [==============================] - 2s 1ms/step - loss: 721.4562\n",
      "Epoch 38/100\n",
      "1600/1600 [==============================] - 2s 996us/step - loss: 699.7679\n",
      "Epoch 39/100\n",
      "1600/1600 [==============================] - 2s 943us/step - loss: 691.5913\n",
      "Epoch 40/100\n",
      "1600/1600 [==============================] - 1s 916us/step - loss: 708.3808\n",
      "Epoch 41/100\n",
      "1600/1600 [==============================] - 2s 941us/step - loss: 711.6491\n",
      "Epoch 42/100\n",
      "1600/1600 [==============================] - 2s 997us/step - loss: 688.0384\n",
      "Epoch 43/100\n",
      "1600/1600 [==============================] - 2s 1ms/step - loss: 672.1283\n",
      "Epoch 44/100\n",
      "1600/1600 [==============================] - 2s 997us/step - loss: 684.6991\n",
      "Epoch 45/100\n",
      "1600/1600 [==============================] - 1s 932us/step - loss: 673.1213\n",
      "Epoch 46/100\n",
      "1600/1600 [==============================] - 2s 974us/step - loss: 699.0083\n",
      "Epoch 47/100\n",
      "1600/1600 [==============================] - 2s 942us/step - loss: 684.6740\n",
      "Epoch 48/100\n",
      "1600/1600 [==============================] - 1s 918us/step - loss: 719.0965\n",
      "Epoch 49/100\n",
      "1600/1600 [==============================] - 2s 957us/step - loss: 691.4904\n",
      "Epoch 50/100\n",
      "1600/1600 [==============================] - 2s 1ms/step - loss: 670.2828\n",
      "Epoch 51/100\n",
      "1600/1600 [==============================] - 1s 910us/step - loss: 744.6549\n",
      "Epoch 52/100\n",
      "1600/1600 [==============================] - 1s 908us/step - loss: 691.6156\n",
      "Epoch 53/100\n",
      "1600/1600 [==============================] - 1s 881us/step - loss: 685.2654\n",
      "Epoch 54/100\n",
      "1600/1600 [==============================] - 1s 866us/step - loss: 663.3587\n",
      "Epoch 55/100\n",
      "1600/1600 [==============================] - 1s 923us/step - loss: 694.6264\n",
      "Epoch 56/100\n",
      "1600/1600 [==============================] - 2s 1ms/step - loss: 669.0448\n",
      "Epoch 57/100\n",
      "1600/1600 [==============================] - 1s 909us/step - loss: 705.6128\n",
      "Epoch 58/100\n",
      "1600/1600 [==============================] - 2s 950us/step - loss: 671.0843\n",
      "Epoch 59/100\n",
      "1600/1600 [==============================] - 1s 891us/step - loss: 678.2952\n",
      "Epoch 60/100\n",
      "1600/1600 [==============================] - 1s 875us/step - loss: 689.7306\n",
      "Epoch 61/100\n",
      "1600/1600 [==============================] - 1s 899us/step - loss: 709.5617\n",
      "Epoch 62/100\n",
      "1600/1600 [==============================] - 1s 881us/step - loss: 684.9181\n",
      "Epoch 63/100\n",
      "1600/1600 [==============================] - 1s 930us/step - loss: 679.9698\n",
      "Epoch 64/100\n",
      "1600/1600 [==============================] - 2s 1ms/step - loss: 697.3075\n",
      "Epoch 65/100\n",
      "1600/1600 [==============================] - 2s 946us/step - loss: 632.7805\n",
      "Epoch 66/100\n",
      "1600/1600 [==============================] - 1s 929us/step - loss: 746.3940\n",
      "Epoch 67/100\n",
      "1600/1600 [==============================] - 1s 907us/step - loss: 698.7987\n",
      "Epoch 68/100\n",
      "1600/1600 [==============================] - 1s 874us/step - loss: 658.8135\n",
      "Epoch 69/100\n",
      "1600/1600 [==============================] - 1s 900us/step - loss: 701.2048\n",
      "Epoch 70/100\n",
      "1600/1600 [==============================] - 1s 899us/step - loss: 669.9350\n",
      "Epoch 71/100\n",
      "1600/1600 [==============================] - 2s 1ms/step - loss: 644.2984\n",
      "Epoch 72/100\n",
      "1600/1600 [==============================] - 1s 912us/step - loss: 671.1280\n",
      "Epoch 73/100\n",
      "1600/1600 [==============================] - 1s 872us/step - loss: 682.2051\n",
      "Epoch 74/100\n",
      "1600/1600 [==============================] - 2s 1ms/step - loss: 667.5373\n",
      "Epoch 75/100\n",
      "1600/1600 [==============================] - 2s 2ms/step - loss: 673.8049\n",
      "Epoch 76/100\n",
      "1600/1600 [==============================] - 2s 1ms/step - loss: 662.0678\n",
      "Epoch 77/100\n",
      "1600/1600 [==============================] - 1s 887us/step - loss: 692.5092\n",
      "Epoch 78/100\n",
      "1600/1600 [==============================] - 2s 967us/step - loss: 660.4586\n",
      "Epoch 79/100\n",
      "1600/1600 [==============================] - 1s 910us/step - loss: 661.4641\n",
      "Epoch 80/100\n",
      "1600/1600 [==============================] - 2s 1ms/step - loss: 671.1193\n",
      "Epoch 81/100\n",
      "1600/1600 [==============================] - 2s 1ms/step - loss: 690.6246\n",
      "Epoch 82/100\n",
      "1600/1600 [==============================] - 2s 1ms/step - loss: 678.4308\n",
      "Epoch 83/100\n",
      "1600/1600 [==============================] - 2s 1ms/step - loss: 675.5755\n",
      "Epoch 84/100\n",
      "1600/1600 [==============================] - 2s 1ms/step - loss: 676.0429\n",
      "Epoch 85/100\n",
      "1600/1600 [==============================] - 2s 963us/step - loss: 688.0983 0s - loss: 688.52\n",
      "Epoch 86/100\n",
      "1600/1600 [==============================] - 2s 1ms/step - loss: 690.6985\n",
      "Epoch 87/100\n",
      "1600/1600 [==============================] - 2s 1ms/step - loss: 677.8407\n",
      "Epoch 88/100\n",
      "1600/1600 [==============================] - 2s 947us/step - loss: 684.6351\n",
      "Epoch 89/100\n",
      "1600/1600 [==============================] - 2s 1ms/step - loss: 683.4979\n",
      "Epoch 90/100\n",
      "1600/1600 [==============================] - 1s 877us/step - loss: 681.5680\n",
      "Epoch 91/100\n",
      "1600/1600 [==============================] - 2s 963us/step - loss: 689.5627\n",
      "Epoch 92/100\n",
      "1600/1600 [==============================] - 1s 923us/step - loss: 701.8186\n",
      "Epoch 93/100\n"
     ]
    },
    {
     "name": "stdout",
     "output_type": "stream",
     "text": [
      "1600/1600 [==============================] - 1s 919us/step - loss: 677.5767\n",
      "Epoch 94/100\n",
      "1600/1600 [==============================] - 1s 896us/step - loss: 684.7627\n",
      "Epoch 95/100\n",
      "1600/1600 [==============================] - 1s 885us/step - loss: 699.6927\n",
      "Epoch 96/100\n",
      "1600/1600 [==============================] - 2s 1ms/step - loss: 637.4092\n",
      "Epoch 97/100\n",
      "1600/1600 [==============================] - 1s 911us/step - loss: 673.2748\n",
      "Epoch 98/100\n",
      "1600/1600 [==============================] - 1s 931us/step - loss: 656.0662\n",
      "Epoch 99/100\n",
      "1600/1600 [==============================] - 2s 1ms/step - loss: 663.8746\n",
      "Epoch 100/100\n",
      "1600/1600 [==============================] - 2s 958us/step - loss: 685.8145\n"
     ]
    },
    {
     "data": {
      "text/plain": [
       "<tensorflow.python.keras.callbacks.History at 0x7fb72d73f400>"
      ]
     },
     "execution_count": 131,
     "metadata": {},
     "output_type": "execute_result"
    }
   ],
   "source": [
    "ann_regr.fit(X, y, batch_size=64, epochs=100)"
   ]
  },
  {
   "cell_type": "code",
   "execution_count": 134,
   "metadata": {},
   "outputs": [],
   "source": [
    "y_pred = ann_regr.predict(X_test)"
   ]
  },
  {
   "cell_type": "code",
   "execution_count": 140,
   "metadata": {},
   "outputs": [
    {
     "name": "stdout",
     "output_type": "stream",
     "text": [
      "25615     7.60\n",
      "5399     18.77\n",
      "996      14.43\n",
      "22372    21.73\n",
      "15922    26.40\n",
      "         ...  \n",
      "72521    19.93\n",
      "69082    20.60\n",
      "38973    90.53\n",
      "49274    28.90\n",
      "1818      8.00\n",
      "Name: P1, Length: 30711, dtype: float64\n"
     ]
    }
   ],
   "source": [
    "print(y_test)"
   ]
  },
  {
   "cell_type": "code",
   "execution_count": 145,
   "metadata": {},
   "outputs": [
    {
     "data": {
      "text/plain": [
       "array([[8.561745]], dtype=float32)"
      ]
     },
     "execution_count": 145,
     "metadata": {},
     "output_type": "execute_result"
    }
   ],
   "source": [
    "ann_regr.predict(today)"
   ]
  },
  {
   "cell_type": "markdown",
   "metadata": {},
   "source": [
    "Later training XGBoost"
   ]
  },
  {
   "cell_type": "code",
   "execution_count": 45,
   "metadata": {},
   "outputs": [],
   "source": [
    "df['HighP1'] = df['P1'].apply(is_p1_high)"
   ]
  },
  {
   "cell_type": "markdown",
   "metadata": {},
   "source": [
    "### Now I will run a classification RF model"
   ]
  },
  {
   "cell_type": "code",
   "execution_count": 46,
   "metadata": {},
   "outputs": [],
   "source": [
    "from sklearn.ensemble import RandomForestClassifier"
   ]
  },
  {
   "cell_type": "code",
   "execution_count": 107,
   "metadata": {},
   "outputs": [],
   "source": [
    "y = df['HighP1']"
   ]
  },
  {
   "cell_type": "code",
   "execution_count": 108,
   "metadata": {},
   "outputs": [],
   "source": [
    "X_train, X_test, y_train, y_test = train_test_split(X, y, test_size = 0.3)\n",
    "today = [1, 100, 0, 6, 1]"
   ]
  },
  {
   "cell_type": "code",
   "execution_count": 49,
   "metadata": {},
   "outputs": [],
   "source": [
    "classifier = RandomForestClassifier()"
   ]
  },
  {
   "cell_type": "code",
   "execution_count": 50,
   "metadata": {},
   "outputs": [
    {
     "data": {
      "text/plain": [
       "RandomForestClassifier()"
      ]
     },
     "execution_count": 50,
     "metadata": {},
     "output_type": "execute_result"
    }
   ],
   "source": [
    "classifier.fit(X_train, y_train)"
   ]
  },
  {
   "cell_type": "code",
   "execution_count": 51,
   "metadata": {},
   "outputs": [],
   "source": [
    "y_pred = classifier.predict(X_test)"
   ]
  },
  {
   "cell_type": "code",
   "execution_count": 52,
   "metadata": {},
   "outputs": [
    {
     "name": "stdout",
     "output_type": "stream",
     "text": [
      "0.8889648660089219\n"
     ]
    }
   ],
   "source": [
    "print(accuracy_score(y_test, y_pred))"
   ]
  },
  {
   "cell_type": "code",
   "execution_count": 53,
   "metadata": {},
   "outputs": [
    {
     "name": "stdout",
     "output_type": "stream",
     "text": [
      "[[24368  1445]\n",
      " [ 1965  2933]]\n"
     ]
    }
   ],
   "source": [
    "print(confusion_matrix(y_test,y_pred))"
   ]
  },
  {
   "cell_type": "code",
   "execution_count": 54,
   "metadata": {},
   "outputs": [
    {
     "name": "stdout",
     "output_type": "stream",
     "text": [
      "              precision    recall  f1-score   support\n",
      "\n",
      "           0       0.93      0.94      0.93     25813\n",
      "           1       0.67      0.60      0.63      4898\n",
      "\n",
      "    accuracy                           0.89     30711\n",
      "   macro avg       0.80      0.77      0.78     30711\n",
      "weighted avg       0.88      0.89      0.89     30711\n",
      "\n"
     ]
    }
   ],
   "source": [
    "print(classification_report(y_test, y_pred))"
   ]
  },
  {
   "cell_type": "code",
   "execution_count": 55,
   "metadata": {},
   "outputs": [
    {
     "data": {
      "text/plain": [
       "array([23.2853])"
      ]
     },
     "execution_count": 55,
     "metadata": {},
     "output_type": "execute_result"
    }
   ],
   "source": [
    "classifier.predict_proba([today])\n",
    "regr.predict([today])"
   ]
  },
  {
   "cell_type": "code",
   "execution_count": 56,
   "metadata": {},
   "outputs": [
    {
     "data": {
      "text/plain": [
       "array([5.76733791e-01, 2.21562407e-01, 5.10267119e-04, 1.33888042e-01,\n",
       "       6.73054924e-02])"
      ]
     },
     "execution_count": 56,
     "metadata": {},
     "output_type": "execute_result"
    }
   ],
   "source": [
    "regr.feature_importances_"
   ]
  },
  {
   "cell_type": "code",
   "execution_count": 57,
   "metadata": {},
   "outputs": [
    {
     "data": {
      "text/plain": [
       "array([0.56820542, 0.23534327, 0.00113369, 0.07553993, 0.11977769])"
      ]
     },
     "execution_count": 57,
     "metadata": {},
     "output_type": "execute_result"
    }
   ],
   "source": [
    "classifier.feature_importances_"
   ]
  },
  {
   "cell_type": "markdown",
   "metadata": {},
   "source": [
    "Results are not great - this may be due to overfitting of the clean air data as we have roughly 5 times more data for that case"
   ]
  },
  {
   "cell_type": "code",
   "execution_count": 58,
   "metadata": {},
   "outputs": [],
   "source": [
    "from sklearn.svm import SVC\n",
    "from sklearn.preprocessing import StandardScaler"
   ]
  },
  {
   "cell_type": "code",
   "execution_count": 109,
   "metadata": {},
   "outputs": [],
   "source": [
    "sc = StandardScaler()"
   ]
  },
  {
   "cell_type": "code",
   "execution_count": 60,
   "metadata": {},
   "outputs": [],
   "source": [
    "classifier_svc = SVC()"
   ]
  },
  {
   "cell_type": "code",
   "execution_count": 110,
   "metadata": {},
   "outputs": [],
   "source": [
    "X_train = sc.fit_transform(X_train)\n",
    "X_test = sc.transform(X_test)\n",
    "today = sc.transform([today])"
   ]
  },
  {
   "cell_type": "code",
   "execution_count": 62,
   "metadata": {},
   "outputs": [
    {
     "data": {
      "text/plain": [
       "SVC()"
      ]
     },
     "execution_count": 62,
     "metadata": {},
     "output_type": "execute_result"
    }
   ],
   "source": [
    "classifier_svc.fit(X_train, y_train)"
   ]
  },
  {
   "cell_type": "code",
   "execution_count": 63,
   "metadata": {
    "scrolled": true
   },
   "outputs": [],
   "source": [
    "y_pred_svc = classifier_svc.predict(X_test)"
   ]
  },
  {
   "cell_type": "code",
   "execution_count": 64,
   "metadata": {},
   "outputs": [
    {
     "name": "stdout",
     "output_type": "stream",
     "text": [
      "              precision    recall  f1-score   support\n",
      "\n",
      "           0       0.87      0.97      0.92     25813\n",
      "           1       0.58      0.24      0.34      4898\n",
      "\n",
      "    accuracy                           0.85     30711\n",
      "   macro avg       0.72      0.60      0.63     30711\n",
      "weighted avg       0.82      0.85      0.82     30711\n",
      "\n"
     ]
    }
   ],
   "source": [
    "print(classification_report(y_test, y_pred_svc))"
   ]
  },
  {
   "cell_type": "code",
   "execution_count": 65,
   "metadata": {},
   "outputs": [
    {
     "data": {
      "text/plain": [
       "array([0])"
      ]
     },
     "execution_count": 65,
     "metadata": {},
     "output_type": "execute_result"
    }
   ],
   "source": [
    "classifier_svc.predict(today)"
   ]
  },
  {
   "cell_type": "markdown",
   "metadata": {},
   "source": [
    "Now I will try with ANN regression/classification"
   ]
  },
  {
   "cell_type": "code",
   "execution_count": 66,
   "metadata": {},
   "outputs": [],
   "source": [
    "import tensorflow as tf"
   ]
  },
  {
   "cell_type": "code",
   "execution_count": 111,
   "metadata": {},
   "outputs": [],
   "source": [
    "ann = tf.keras.models.Sequential()"
   ]
  },
  {
   "cell_type": "code",
   "execution_count": 112,
   "metadata": {},
   "outputs": [],
   "source": [
    "ann.add(tf.keras.layers.Dense(units = 8, activation='relu'))\n",
    "ann.add(tf.keras.layers.Dense(units = 8, activation='relu'))"
   ]
  },
  {
   "cell_type": "code",
   "execution_count": 113,
   "metadata": {},
   "outputs": [],
   "source": [
    "ann.add(tf.keras.layers.Dense(units=1, activation='sigmoid'))"
   ]
  },
  {
   "cell_type": "code",
   "execution_count": 115,
   "metadata": {},
   "outputs": [],
   "source": [
    "ann.compile(optimizer='adam', loss='binary_crossentropy', metrics=['accuracy'])"
   ]
  },
  {
   "cell_type": "code",
   "execution_count": 116,
   "metadata": {},
   "outputs": [
    {
     "name": "stdout",
     "output_type": "stream",
     "text": [
      "Epoch 1/100\n",
      "1120/1120 [==============================] - 2s 1ms/step - loss: 0.4477 - accuracy: 0.7945: 0s - los\n",
      "Epoch 2/100\n",
      "1120/1120 [==============================] - 1s 1ms/step - loss: 0.3250 - accuracy: 0.8381\n",
      "Epoch 3/100\n",
      "1120/1120 [==============================] - 1s 1ms/step - loss: 0.3170 - accuracy: 0.8465\n",
      "Epoch 4/100\n",
      "1120/1120 [==============================] - 1s 1ms/step - loss: 0.3148 - accuracy: 0.8489\n",
      "Epoch 5/100\n",
      "1120/1120 [==============================] - 1s 1ms/step - loss: 0.3147 - accuracy: 0.8500\n",
      "Epoch 6/100\n",
      "1120/1120 [==============================] - 1s 1ms/step - loss: 0.3144 - accuracy: 0.8496: 0s - loss: 0.314\n",
      "Epoch 7/100\n",
      "1120/1120 [==============================] - 1s 1ms/step - loss: 0.3165 - accuracy: 0.8491\n",
      "Epoch 8/100\n",
      "1120/1120 [==============================] - 1s 1ms/step - loss: 0.3155 - accuracy: 0.8490\n",
      "Epoch 9/100\n",
      "1120/1120 [==============================] - 1s 1ms/step - loss: 0.3134 - accuracy: 0.8484\n",
      "Epoch 10/100\n",
      "1120/1120 [==============================] - 1s 1ms/step - loss: 0.3139 - accuracy: 0.8501\n",
      "Epoch 11/100\n",
      "1120/1120 [==============================] - 1s 1ms/step - loss: 0.3113 - accuracy: 0.8513\n",
      "Epoch 12/100\n",
      "1120/1120 [==============================] - 1s 1ms/step - loss: 0.3121 - accuracy: 0.8505\n",
      "Epoch 13/100\n",
      "1120/1120 [==============================] - 1s 1ms/step - loss: 0.3125 - accuracy: 0.8480\n",
      "Epoch 14/100\n",
      "1120/1120 [==============================] - 1s 1ms/step - loss: 0.3107 - accuracy: 0.8494\n",
      "Epoch 15/100\n",
      "1120/1120 [==============================] - 1s 1ms/step - loss: 0.3126 - accuracy: 0.8486\n",
      "Epoch 16/100\n",
      "1120/1120 [==============================] - 1s 1ms/step - loss: 0.3108 - accuracy: 0.8481\n",
      "Epoch 17/100\n",
      "1120/1120 [==============================] - 2s 1ms/step - loss: 0.3124 - accuracy: 0.8480\n",
      "Epoch 18/100\n",
      "1120/1120 [==============================] - 1s 1ms/step - loss: 0.3061 - accuracy: 0.8527\n",
      "Epoch 19/100\n",
      "1120/1120 [==============================] - 1s 1ms/step - loss: 0.3070 - accuracy: 0.8491\n",
      "Epoch 20/100\n",
      "1120/1120 [==============================] - 1s 1ms/step - loss: 0.3087 - accuracy: 0.8508\n",
      "Epoch 21/100\n",
      "1120/1120 [==============================] - 2s 1ms/step - loss: 0.3072 - accuracy: 0.8504\n",
      "Epoch 22/100\n",
      "1120/1120 [==============================] - 2s 1ms/step - loss: 0.3074 - accuracy: 0.8511\n",
      "Epoch 23/100\n",
      "1120/1120 [==============================] - 2s 1ms/step - loss: 0.3066 - accuracy: 0.8521\n",
      "Epoch 24/100\n",
      "1120/1120 [==============================] - 1s 1ms/step - loss: 0.3086 - accuracy: 0.8492\n",
      "Epoch 25/100\n",
      "1120/1120 [==============================] - 2s 1ms/step - loss: 0.3100 - accuracy: 0.8497\n",
      "Epoch 26/100\n",
      "1120/1120 [==============================] - 2s 1ms/step - loss: 0.3079 - accuracy: 0.8484\n",
      "Epoch 27/100\n",
      "1120/1120 [==============================] - 2s 1ms/step - loss: 0.3086 - accuracy: 0.8487\n",
      "Epoch 28/100\n",
      "1120/1120 [==============================] - 2s 2ms/step - loss: 0.3056 - accuracy: 0.8516\n",
      "Epoch 29/100\n",
      "1120/1120 [==============================] - 2s 1ms/step - loss: 0.3053 - accuracy: 0.8505\n",
      "Epoch 30/100\n",
      "1120/1120 [==============================] - 2s 1ms/step - loss: 0.3083 - accuracy: 0.8493: 0s - loss: 0.309\n",
      "Epoch 31/100\n",
      "1120/1120 [==============================] - 2s 1ms/step - loss: 0.3060 - accuracy: 0.8508\n",
      "Epoch 32/100\n",
      "1120/1120 [==============================] - 2s 1ms/step - loss: 0.3064 - accuracy: 0.8498\n",
      "Epoch 33/100\n",
      "1120/1120 [==============================] - 2s 1ms/step - loss: 0.3088 - accuracy: 0.8490\n",
      "Epoch 34/100\n",
      "1120/1120 [==============================] - 2s 1ms/step - loss: 0.3096 - accuracy: 0.8470\n",
      "Epoch 35/100\n",
      "1120/1120 [==============================] - 2s 1ms/step - loss: 0.3053 - accuracy: 0.8496\n",
      "Epoch 36/100\n",
      "1120/1120 [==============================] - 2s 2ms/step - loss: 0.3065 - accuracy: 0.8489\n",
      "Epoch 37/100\n",
      "1120/1120 [==============================] - 2s 2ms/step - loss: 0.3075 - accuracy: 0.8463\n",
      "Epoch 38/100\n",
      "1120/1120 [==============================] - 2s 1ms/step - loss: 0.3038 - accuracy: 0.8517\n",
      "Epoch 39/100\n",
      "1120/1120 [==============================] - 2s 1ms/step - loss: 0.3051 - accuracy: 0.8478\n",
      "Epoch 40/100\n",
      "1120/1120 [==============================] - 2s 1ms/step - loss: 0.3036 - accuracy: 0.8491\n",
      "Epoch 41/100\n",
      "1120/1120 [==============================] - 2s 1ms/step - loss: 0.3061 - accuracy: 0.8486\n",
      "Epoch 42/100\n",
      "1120/1120 [==============================] - 2s 2ms/step - loss: 0.3071 - accuracy: 0.8499\n",
      "Epoch 43/100\n",
      "1120/1120 [==============================] - 2s 2ms/step - loss: 0.3100 - accuracy: 0.8465\n",
      "Epoch 44/100\n",
      "1120/1120 [==============================] - 2s 1ms/step - loss: 0.3050 - accuracy: 0.8486\n",
      "Epoch 45/100\n",
      "1120/1120 [==============================] - 2s 1ms/step - loss: 0.3101 - accuracy: 0.8482\n",
      "Epoch 46/100\n",
      "1120/1120 [==============================] - 2s 1ms/step - loss: 0.3035 - accuracy: 0.8498\n",
      "Epoch 47/100\n",
      "1120/1120 [==============================] - 2s 1ms/step - loss: 0.3046 - accuracy: 0.8498\n",
      "Epoch 48/100\n",
      "1120/1120 [==============================] - 2s 1ms/step - loss: 0.3065 - accuracy: 0.8501\n",
      "Epoch 49/100\n",
      "1120/1120 [==============================] - 2s 1ms/step - loss: 0.3061 - accuracy: 0.8492\n",
      "Epoch 50/100\n",
      "1120/1120 [==============================] - 2s 1ms/step - loss: 0.3029 - accuracy: 0.8505\n",
      "Epoch 51/100\n",
      "1120/1120 [==============================] - 2s 1ms/step - loss: 0.3017 - accuracy: 0.8521\n",
      "Epoch 52/100\n",
      "1120/1120 [==============================] - 2s 1ms/step - loss: 0.3062 - accuracy: 0.8491\n",
      "Epoch 53/100\n",
      "1120/1120 [==============================] - 2s 1ms/step - loss: 0.3060 - accuracy: 0.8487\n",
      "Epoch 54/100\n",
      "1120/1120 [==============================] - 2s 1ms/step - loss: 0.3029 - accuracy: 0.8503\n",
      "Epoch 55/100\n",
      "1120/1120 [==============================] - 2s 1ms/step - loss: 0.3037 - accuracy: 0.8493\n",
      "Epoch 56/100\n",
      "1120/1120 [==============================] - 2s 1ms/step - loss: 0.3050 - accuracy: 0.8496\n",
      "Epoch 57/100\n",
      "1120/1120 [==============================] - 2s 1ms/step - loss: 0.3056 - accuracy: 0.8493\n",
      "Epoch 58/100\n",
      "1120/1120 [==============================] - 2s 1ms/step - loss: 0.3032 - accuracy: 0.8501: 0s - loss: 0\n",
      "Epoch 59/100\n",
      "1120/1120 [==============================] - 2s 1ms/step - loss: 0.3053 - accuracy: 0.8502\n",
      "Epoch 60/100\n",
      "1120/1120 [==============================] - 2s 1ms/step - loss: 0.3031 - accuracy: 0.8511\n",
      "Epoch 61/100\n",
      "1120/1120 [==============================] - 2s 1ms/step - loss: 0.3041 - accuracy: 0.8506\n",
      "Epoch 62/100\n",
      "1120/1120 [==============================] - 2s 1ms/step - loss: 0.3027 - accuracy: 0.8513\n",
      "Epoch 63/100\n",
      "1120/1120 [==============================] - 2s 1ms/step - loss: 0.3048 - accuracy: 0.8499\n",
      "Epoch 64/100\n",
      "1120/1120 [==============================] - 2s 1ms/step - loss: 0.3069 - accuracy: 0.8487\n",
      "Epoch 65/100\n",
      "1120/1120 [==============================] - 2s 2ms/step - loss: 0.3048 - accuracy: 0.8498\n",
      "Epoch 66/100\n",
      "1120/1120 [==============================] - 2s 1ms/step - loss: 0.3069 - accuracy: 0.8484\n",
      "Epoch 67/100\n",
      "1120/1120 [==============================] - 2s 2ms/step - loss: 0.3084 - accuracy: 0.8483\n",
      "Epoch 68/100\n",
      "1120/1120 [==============================] - 2s 2ms/step - loss: 0.3050 - accuracy: 0.8501\n",
      "Epoch 69/100\n",
      "1120/1120 [==============================] - 2s 1ms/step - loss: 0.3016 - accuracy: 0.8518\n",
      "Epoch 70/100\n",
      "1120/1120 [==============================] - 2s 1ms/step - loss: 0.3082 - accuracy: 0.8488\n",
      "Epoch 71/100\n",
      "1120/1120 [==============================] - 2s 1ms/step - loss: 0.3038 - accuracy: 0.8504\n",
      "Epoch 72/100\n",
      "1120/1120 [==============================] - 2s 1ms/step - loss: 0.3062 - accuracy: 0.8466\n",
      "Epoch 73/100\n",
      "1120/1120 [==============================] - 2s 1ms/step - loss: 0.3068 - accuracy: 0.8489\n",
      "Epoch 74/100\n",
      "1120/1120 [==============================] - 2s 1ms/step - loss: 0.3068 - accuracy: 0.8491\n",
      "Epoch 75/100\n",
      "1120/1120 [==============================] - 2s 1ms/step - loss: 0.3012 - accuracy: 0.8522\n",
      "Epoch 76/100\n",
      "1120/1120 [==============================] - 2s 1ms/step - loss: 0.3066 - accuracy: 0.8484\n",
      "Epoch 77/100\n",
      "1120/1120 [==============================] - 2s 1ms/step - loss: 0.3042 - accuracy: 0.8518\n",
      "Epoch 78/100\n",
      "1120/1120 [==============================] - 2s 2ms/step - loss: 0.3054 - accuracy: 0.8494\n",
      "Epoch 79/100\n"
     ]
    },
    {
     "name": "stdout",
     "output_type": "stream",
     "text": [
      "1120/1120 [==============================] - 1s 1ms/step - loss: 0.3043 - accuracy: 0.8496\n",
      "Epoch 80/100\n",
      "1120/1120 [==============================] - 1s 1ms/step - loss: 0.3062 - accuracy: 0.8499\n",
      "Epoch 81/100\n",
      "1120/1120 [==============================] - 1s 1ms/step - loss: 0.3056 - accuracy: 0.8489\n",
      "Epoch 82/100\n",
      "1120/1120 [==============================] - 1s 1ms/step - loss: 0.3029 - accuracy: 0.8510\n",
      "Epoch 83/100\n",
      "1120/1120 [==============================] - 1s 1ms/step - loss: 0.3041 - accuracy: 0.8507\n",
      "Epoch 84/100\n",
      "1120/1120 [==============================] - 1s 1ms/step - loss: 0.3066 - accuracy: 0.8477\n",
      "Epoch 85/100\n",
      "1120/1120 [==============================] - 2s 1ms/step - loss: 0.3025 - accuracy: 0.8513\n",
      "Epoch 86/100\n",
      "1120/1120 [==============================] - 2s 1ms/step - loss: 0.3027 - accuracy: 0.8503\n",
      "Epoch 87/100\n",
      "1120/1120 [==============================] - 1s 1ms/step - loss: 0.3033 - accuracy: 0.8498\n",
      "Epoch 88/100\n",
      "1120/1120 [==============================] - 1s 1ms/step - loss: 0.3016 - accuracy: 0.8525\n",
      "Epoch 89/100\n",
      "1120/1120 [==============================] - 2s 1ms/step - loss: 0.3045 - accuracy: 0.8501\n",
      "Epoch 90/100\n",
      "1120/1120 [==============================] - 1s 1ms/step - loss: 0.3061 - accuracy: 0.8506: \n",
      "Epoch 91/100\n",
      "1120/1120 [==============================] - 1s 1ms/step - loss: 0.3052 - accuracy: 0.8503\n",
      "Epoch 92/100\n",
      "1120/1120 [==============================] - 1s 1ms/step - loss: 0.3010 - accuracy: 0.8501\n",
      "Epoch 93/100\n",
      "1120/1120 [==============================] - 1s 1ms/step - loss: 0.3027 - accuracy: 0.8514\n",
      "Epoch 94/100\n",
      "1120/1120 [==============================] - 1s 1ms/step - loss: 0.3069 - accuracy: 0.8498\n",
      "Epoch 95/100\n",
      "1120/1120 [==============================] - 2s 1ms/step - loss: 0.3051 - accuracy: 0.8491\n",
      "Epoch 96/100\n",
      "1120/1120 [==============================] - 1s 1ms/step - loss: 0.3060 - accuracy: 0.8482\n",
      "Epoch 97/100\n",
      "1120/1120 [==============================] - 2s 1ms/step - loss: 0.3027 - accuracy: 0.8487\n",
      "Epoch 98/100\n",
      "1120/1120 [==============================] - 2s 1ms/step - loss: 0.3021 - accuracy: 0.8504\n",
      "Epoch 99/100\n",
      "1120/1120 [==============================] - 1s 1ms/step - loss: 0.3036 - accuracy: 0.8492\n",
      "Epoch 100/100\n",
      "1120/1120 [==============================] - 1s 1ms/step - loss: 0.3070 - accuracy: 0.8494\n"
     ]
    },
    {
     "data": {
      "text/plain": [
       "<tensorflow.python.keras.callbacks.History at 0x7fb71c300b80>"
      ]
     },
     "execution_count": 116,
     "metadata": {},
     "output_type": "execute_result"
    }
   ],
   "source": [
    "ann.fit(X_train, y_train, batch_size=64, epochs=100)"
   ]
  },
  {
   "cell_type": "code",
   "execution_count": 117,
   "metadata": {},
   "outputs": [],
   "source": [
    "y_pred = ann.predict(X_test)"
   ]
  },
  {
   "cell_type": "code",
   "execution_count": 118,
   "metadata": {},
   "outputs": [
    {
     "data": {
      "text/plain": [
       "array([[0.5626948]], dtype=float32)"
      ]
     },
     "execution_count": 118,
     "metadata": {},
     "output_type": "execute_result"
    }
   ],
   "source": [
    "ann.predict(today)"
   ]
  },
  {
   "cell_type": "code",
   "execution_count": 122,
   "metadata": {},
   "outputs": [],
   "source": [
    "y_pred = (y_pred > 0.5)"
   ]
  },
  {
   "cell_type": "code",
   "execution_count": 123,
   "metadata": {},
   "outputs": [
    {
     "name": "stdout",
     "output_type": "stream",
     "text": [
      "              precision    recall  f1-score   support\n",
      "\n",
      "           0       0.87      0.95      0.91     25629\n",
      "           1       0.55      0.29      0.38      5082\n",
      "\n",
      "    accuracy                           0.84     30711\n",
      "   macro avg       0.71      0.62      0.65     30711\n",
      "weighted avg       0.82      0.84      0.82     30711\n",
      "\n"
     ]
    }
   ],
   "source": [
    "print(classification_report(y_test, y_pred))"
   ]
  },
  {
   "cell_type": "code",
   "execution_count": 121,
   "metadata": {},
   "outputs": [
    {
     "data": {
      "text/plain": [
       "array([[0.00494426],\n",
       "       [0.3015668 ],\n",
       "       [0.38078123],\n",
       "       ...,\n",
       "       [0.32857865],\n",
       "       [0.36339432],\n",
       "       [0.00449431]], dtype=float32)"
      ]
     },
     "execution_count": 121,
     "metadata": {},
     "output_type": "execute_result"
    }
   ],
   "source": []
  },
  {
   "cell_type": "code",
   "execution_count": null,
   "metadata": {},
   "outputs": [],
   "source": []
  }
 ],
 "metadata": {
  "kernelspec": {
   "display_name": "Python 3",
   "language": "python",
   "name": "python3"
  },
  "language_info": {
   "codemirror_mode": {
    "name": "ipython",
    "version": 3
   },
   "file_extension": ".py",
   "mimetype": "text/x-python",
   "name": "python",
   "nbconvert_exporter": "python",
   "pygments_lexer": "ipython3",
   "version": "3.8.5"
  }
 },
 "nbformat": 4,
 "nbformat_minor": 4
}
