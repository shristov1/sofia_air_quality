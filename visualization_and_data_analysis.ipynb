{
 "cells": [
  {
   "cell_type": "code",
   "execution_count": 1,
   "metadata": {},
   "outputs": [],
   "source": [
    "import pandas as pd\n",
    "import seaborn as sns\n",
    "import matplotlib.pyplot as plt\n",
    "from download_climate_data import download_data\n",
    "import os\n",
    "import datetime\n",
    "import weathercom"
   ]
  },
  {
   "cell_type": "markdown",
   "metadata": {},
   "source": [
    "We are only interested in sensors with the following parameters: (sensor_name = sds011, sensor_id = 6127) and (sensor_name = bme280, sensor_id = 6128)."
   ]
  },
  {
   "cell_type": "code",
   "execution_count": 2,
   "metadata": {},
   "outputs": [],
   "source": [
    "def part_day(x):\n",
    "    \"\"\" Returns part of day based on the timestamp hour \"\"\"\n",
    "    x = x.hour\n",
    "    if (x > 4) and (x <= 8):\n",
    "        return 1\n",
    "    elif (x > 8) and (x <= 12):\n",
    "        return 2\n",
    "    elif (x > 12) and (x <= 14):\n",
    "        return 3\n",
    "    elif (x > 14) and (x <= 18):\n",
    "        return 4\n",
    "    elif (x > 18) and (x <= 22):\n",
    "        return 5\n",
    "    else:\n",
    "        return 6"
   ]
  },
  {
   "cell_type": "code",
   "execution_count": 3,
   "metadata": {},
   "outputs": [],
   "source": [
    "def season(x):\n",
    "    \"\"\"Returns season based on month\"\"\"\n",
    "    x = x.month\n",
    "    if (x > 3) and (x <= 6):\n",
    "        return 1\n",
    "    elif (x > 6) and (x <= 9):\n",
    "        return 2\n",
    "    elif (x > 9) and (x <= 11):\n",
    "        return 3\n",
    "    else:\n",
    "        return 4"
   ]
  },
  {
   "cell_type": "code",
   "execution_count": 4,
   "metadata": {},
   "outputs": [],
   "source": [
    "def is_workday(x):\n",
    "    \"\"\" Returns if day is workday\"\"\"\n",
    "    if x <= 4:\n",
    "        return 1\n",
    "    else:\n",
    "        return 0"
   ]
  },
  {
   "cell_type": "code",
   "execution_count": 5,
   "metadata": {},
   "outputs": [],
   "source": [
    "def mean_print_plot(df, category: str, data_col1: str, data_col2: str) -> None:\n",
    "    \"\"\"Function which prints the mean of each category in a data column and plots the difference between the 2 datasets\n",
    "    \n",
    "    Parameters: \n",
    "    df: data frame\n",
    "    category: category name\n",
    "    data_col1: data to calculate mean on\n",
    "    data_col2: data to calculate mean on\n",
    "    \n",
    "    Returns: \n",
    "    None\n",
    "    \n",
    "    \"\"\"\n",
    "    \n",
    "    print(f\"P1 data stats: {df.groupby([category]).mean()[data_col1].sort_index()}\")\n",
    "    print('------------------------------------------------')\n",
    "    print(f\"P2 data stats: {df.groupby([category]).mean()[data_col2].sort_index()}\")\n",
    "    \n",
    "    plt.plot(df.groupby([category]).mean()[data_col1].sort_index(), label='P1')\n",
    "    plt.plot(df.groupby([category]).mean()[data_col2].sort_index(), label='P2')\n",
    "    plt.title(f'Mean of {data_col1} and {data_col2} per {category} category')\n",
    "    plt.legend()\n",
    "    plt.grid()"
   ]
  },
  {
   "cell_type": "code",
   "execution_count": 6,
   "metadata": {},
   "outputs": [],
   "source": [
    "def is_p1_high(x):\n",
    "    if x > 35:\n",
    "        return 1\n",
    "    else:\n",
    "        return 0"
   ]
  },
  {
   "cell_type": "code",
   "execution_count": 7,
   "metadata": {},
   "outputs": [],
   "source": [
    "def is_holiday(x):\n",
    "    \"\"\" Returns if it is holiday if date is 3 days around a holiday\"\"\"\n",
    "    for holiday in HOLIDAYS:\n",
    "        if (x >= holiday-datetime.timedelta(days=3)) and (x <= holiday + datetime.timedelta(days=3)):\n",
    "            return 1\n",
    "        else:\n",
    "            return 0"
   ]
  },
  {
   "cell_type": "markdown",
   "metadata": {},
   "source": [
    "Also, we are going to create a list with all public holidays:  \n",
    "Date\tHoliday\tOfficial Name  \n",
    "1 January\tNew Year's Day   \n",
    "3 March\tLiberation Day  \n",
    "1 May\tInternational Workers' Day  \n",
    "6 May\tSaint George's Day  \n",
    "24 May\tBulgarian Education and Culture and Slavonic Literature Day  \n",
    "6 September\tUnification Day  \n",
    "22 September\tIndependence Day  \n",
    "24 December\tChristmas Eve  \n",
    "25 & 26 December\tChristmas Day  \n",
    "Moveable\tOrthodox Good Friday, Holy Saturday & Easter  "
   ]
  },
  {
   "cell_type": "code",
   "execution_count": 8,
   "metadata": {},
   "outputs": [],
   "source": [
    "# TODO: Automatically take it from G calendar API\n",
    "HOLIDAYS = [datetime.date(2020,4,19), datetime.date(2021,1,1), datetime.date(2021,3,3),datetime.date(2020,5,1),\n",
    "            datetime.date(2020,5,6),datetime.date(2020,5,24),datetime.date(2020,9,6),\n",
    "            datetime.date(2020,9,22),datetime.date(2020,12,24),datetime.date(2020,12,25),datetime.date(2020,12,26)]"
   ]
  },
  {
   "cell_type": "code",
   "execution_count": 9,
   "metadata": {},
   "outputs": [],
   "source": [
    "START_DATE = datetime.date(2020,4,1)   # start time for the analysis"
   ]
  },
  {
   "cell_type": "markdown",
   "metadata": {},
   "source": [
    "### Data download now"
   ]
  },
  {
   "cell_type": "code",
   "execution_count": 10,
   "metadata": {},
   "outputs": [
    {
     "name": "stdout",
     "output_type": "stream",
     "text": [
      "Downloading: 2020-04-01\n",
      "Downloading: 2020-04-02\n",
      "Downloading: 2020-04-03\n",
      "Downloading: 2020-04-04\n",
      "Downloading: 2020-04-05\n",
      "Downloading: 2020-04-06\n",
      "Downloading: 2020-04-07\n",
      "Downloading: 2020-04-08\n",
      "Downloading: 2020-04-09\n",
      "Downloading: 2020-04-10\n",
      "Downloading: 2020-04-11\n",
      "Downloading: 2020-04-12\n",
      "Downloading: 2020-04-13\n",
      "Downloading: 2020-04-14\n",
      "Downloading: 2020-04-15\n",
      "Downloading: 2020-04-16\n",
      "Downloading: 2020-04-17\n",
      "Downloading: 2020-04-18\n",
      "Downloading: 2020-04-19\n",
      "Downloading: 2020-04-20\n",
      "Downloading: 2020-04-21\n",
      "Downloading: 2020-04-22\n",
      "Downloading: 2020-04-23\n",
      "Downloading: 2020-04-24\n",
      "Downloading: 2020-04-25\n",
      "Downloading: 2020-04-26\n",
      "Downloading: 2020-04-27\n",
      "Downloading: 2020-04-28\n",
      "Downloading: 2020-04-29\n",
      "Downloading: 2020-04-30\n",
      "Downloading: 2020-05-01\n",
      "Downloading: 2020-05-02\n",
      "Downloading: 2020-05-03\n",
      "Downloading: 2020-05-04\n",
      "Downloading: 2020-05-05\n",
      "Downloading: 2020-05-06\n",
      "Downloading: 2020-05-07\n",
      "Downloading: 2020-05-08\n",
      "Downloading: 2020-05-09\n",
      "Downloading: 2020-05-10\n",
      "Downloading: 2020-05-11\n",
      "Downloading: 2020-05-12\n",
      "Downloading: 2020-05-13\n",
      "Downloading: 2020-05-14\n",
      "Downloading: 2020-05-15\n",
      "Downloading: 2020-05-16\n",
      "Downloading: 2020-05-17\n",
      "Downloading: 2020-05-18\n",
      "Downloading: 2020-05-19\n",
      "Downloading: 2020-05-20\n",
      "Downloading: 2020-05-21\n",
      "Downloading: 2020-05-22\n",
      "Downloading: 2020-05-23\n",
      "Downloading: 2020-05-24\n",
      "Downloading: 2020-05-25\n",
      "Downloading: 2020-05-26\n",
      "Downloading: 2020-05-27\n",
      "Downloading: 2020-05-28\n",
      "Downloading: 2020-05-29\n",
      "Downloading: 2020-05-30\n",
      "Downloading: 2020-05-31\n",
      "Downloading: 2020-06-01\n",
      "Downloading: 2020-06-02\n",
      "Downloading: 2020-06-03\n",
      "Downloading: 2020-06-04\n",
      "Downloading: 2020-06-05\n",
      "Downloading: 2020-06-06\n",
      "Downloading: 2020-06-07\n",
      "Downloading: 2020-06-08\n",
      "Downloading: 2020-06-09\n",
      "Downloading: 2020-06-10\n",
      "Downloading: 2020-06-11\n",
      "Downloading: 2020-06-12\n",
      "Downloading: 2020-06-13\n",
      "Downloading: 2020-06-14\n",
      "Downloading: 2020-06-15\n",
      "Downloading: 2020-06-16\n",
      "Downloading: 2020-06-17\n",
      "Downloading: 2020-06-18\n",
      "Downloading: 2020-06-19\n",
      "Downloading: 2020-06-20\n",
      "Downloading: 2020-06-21\n",
      "Downloading: 2020-06-22\n",
      "Downloading: 2020-06-23\n",
      "Downloading: 2020-06-24\n",
      "Downloading: 2020-06-25\n",
      "Downloading: 2020-06-26\n",
      "Downloading: 2020-06-27\n",
      "Downloading: 2020-06-28\n",
      "Downloading: 2020-06-29\n",
      "Downloading: 2020-06-30\n",
      "Downloading: 2020-07-01\n",
      "Downloading: 2020-07-02\n",
      "Downloading: 2020-07-03\n",
      "Downloading: 2020-07-04\n",
      "Downloading: 2020-07-05\n",
      "Downloading: 2020-07-06\n",
      "Downloading: 2020-07-07\n",
      "Downloading: 2020-07-08\n",
      "Downloading: 2020-07-09\n",
      "Downloading: 2020-07-10\n",
      "Downloading: 2020-07-11\n",
      "Downloading: 2020-07-12\n",
      "Downloading: 2020-07-13\n",
      "Downloading: 2020-07-14\n",
      "Downloading: 2020-07-15\n",
      "Downloading: 2020-07-16\n",
      "Downloading: 2020-07-17\n",
      "Downloading: 2020-07-18\n",
      "Downloading: 2020-07-19\n",
      "Downloading: 2020-07-20\n",
      "Downloading: 2020-07-21\n",
      "Downloading: 2020-07-22\n",
      "Downloading: 2020-07-23\n",
      "Downloading: 2020-07-24\n",
      "Downloading: 2020-07-25\n",
      "Downloading: 2020-07-26\n",
      "Downloading: 2020-07-27\n",
      "Downloading: 2020-07-28\n",
      "Downloading: 2020-07-29\n",
      "Downloading: 2020-07-30\n",
      "Downloading: 2020-07-31\n",
      "Downloading: 2020-08-01\n",
      "Downloading: 2020-08-02\n",
      "Downloading: 2020-08-03\n",
      "Downloading: 2020-08-04\n",
      "Downloading: 2020-08-05\n",
      "Downloading: 2020-08-06\n",
      "Downloading: 2020-08-07\n",
      "Downloading: 2020-08-08\n",
      "Downloading: 2020-08-09\n",
      "Downloading: 2020-08-10\n",
      "Downloading: 2020-08-11\n",
      "Downloading: 2020-08-12\n",
      "Downloading: 2020-08-13\n",
      "Downloading: 2020-08-14\n",
      "Downloading: 2020-08-15\n",
      "Downloading: 2020-08-16\n",
      "Downloading: 2020-08-17\n",
      "Downloading: 2020-08-18\n",
      "Downloading: 2020-08-19\n",
      "Downloading: 2020-08-20\n",
      "Downloading: 2020-08-21\n",
      "Downloading: 2020-08-22\n",
      "Downloading: 2020-08-23\n",
      "Downloading: 2020-08-24\n",
      "Downloading: 2020-08-25\n",
      "Downloading: 2020-08-26\n",
      "Downloading: 2020-08-27\n",
      "Downloading: 2020-08-28\n",
      "Downloading: 2020-08-29\n",
      "Downloading: 2020-08-30\n",
      "Downloading: 2020-08-31\n",
      "Downloading: 2020-09-01\n",
      "Downloading: 2020-09-02\n",
      "Downloading: 2020-09-03\n",
      "Downloading: 2020-09-04\n",
      "Downloading: 2020-09-05\n",
      "Downloading: 2020-09-06\n",
      "Downloading: 2020-09-07\n",
      "Downloading: 2020-09-08\n",
      "Downloading: 2020-09-09\n",
      "Downloading: 2020-09-10\n",
      "Downloading: 2020-09-11\n",
      "Downloading: 2020-09-12\n",
      "Downloading: 2020-09-13\n",
      "Downloading: 2020-09-14\n",
      "Downloading: 2020-09-15\n",
      "Downloading: 2020-09-16\n",
      "Downloading: 2020-09-17\n",
      "Downloading: 2020-09-18\n",
      "Downloading: 2020-09-19\n",
      "Downloading: 2020-09-20\n",
      "Downloading: 2020-09-21\n",
      "Downloading: 2020-09-22\n",
      "Downloading: 2020-09-23\n",
      "Downloading: 2020-09-24\n",
      "Downloading: 2020-09-25\n",
      "Downloading: 2020-09-26\n",
      "Downloading: 2020-09-27\n",
      "Downloading: 2020-09-28\n",
      "Downloading: 2020-09-29\n",
      "Downloading: 2020-09-30\n",
      "Downloading: 2020-10-01\n",
      "Downloading: 2020-10-02\n",
      "Downloading: 2020-10-03\n",
      "Downloading: 2020-10-04\n",
      "Downloading: 2020-10-05\n",
      "Downloading: 2020-10-06\n",
      "Downloading: 2020-10-07\n",
      "Downloading: 2020-10-08\n",
      "Downloading: 2020-10-09\n",
      "Downloading: 2020-10-10\n",
      "Downloading: 2020-10-11\n",
      "Downloading: 2020-10-12\n",
      "Downloading: 2020-10-13\n",
      "Downloading: 2020-10-14\n",
      "Downloading: 2020-10-15\n",
      "Downloading: 2020-10-16\n",
      "Downloading: 2020-10-17\n",
      "Downloading: 2020-10-18\n",
      "Downloading: 2020-10-19\n",
      "Downloading: 2020-10-20\n",
      "Downloading: 2020-10-21\n",
      "Downloading: 2020-10-22\n",
      "Downloading: 2020-10-23\n",
      "Downloading: 2020-10-24\n",
      "Downloading: 2020-10-25\n",
      "Downloading: 2020-10-26\n",
      "Downloading: 2020-10-27\n",
      "Downloading: 2020-10-28\n",
      "Downloading: 2020-10-29\n",
      "Downloading: 2020-10-30\n",
      "Downloading: 2020-10-31\n",
      "Downloading: 2020-11-01\n",
      "Downloading: 2020-11-02\n",
      "Downloading: 2020-11-03\n",
      "Downloading: 2020-11-04\n",
      "Downloading: 2020-11-05\n",
      "Downloading: 2020-11-06\n",
      "Downloading: 2020-11-07\n",
      "Downloading: 2020-11-08\n",
      "Downloading: 2020-11-09\n",
      "Downloading: 2020-11-10\n",
      "Downloading: 2020-11-11\n",
      "Downloading: 2020-11-12\n",
      "Downloading: 2020-11-13\n",
      "Downloading: 2020-11-14\n",
      "Downloading: 2020-11-15\n",
      "Downloading: 2020-11-16\n",
      "Downloading: 2020-11-17\n",
      "Downloading: 2020-11-18\n",
      "Downloading: 2020-11-19\n",
      "Downloading: 2020-11-20\n",
      "Downloading: 2020-11-21\n",
      "Downloading: 2020-11-22\n",
      "Downloading: 2020-11-23\n",
      "Downloading: 2020-11-24\n",
      "Downloading: 2020-11-25\n",
      "Downloading: 2020-11-26\n",
      "Downloading: 2020-11-27\n",
      "Downloading: 2020-11-28\n",
      "Downloading: 2020-11-29\n",
      "Downloading: 2020-11-30\n",
      "Downloading: 2020-12-01\n",
      "Downloading: 2020-12-02\n",
      "Downloading: 2020-12-03\n",
      "Downloading: 2020-12-04\n",
      "Downloading: 2020-12-05\n",
      "Downloading: 2020-12-06\n",
      "Downloading: 2020-12-07\n",
      "Downloading: 2020-12-08\n",
      "Downloading: 2020-12-09\n",
      "Downloading: 2020-12-10\n",
      "Downloading: 2020-12-11\n",
      "Downloading: 2020-12-12\n",
      "Downloading: 2020-12-13\n",
      "Downloading: 2020-12-14\n",
      "Downloading: 2020-12-15\n",
      "Downloading: 2020-12-16\n",
      "Downloading: 2020-12-17\n",
      "Downloading: 2020-12-18\n",
      "Downloading: 2020-12-19\n",
      "Downloading: 2020-12-20\n",
      "Downloading: 2020-12-21\n",
      "Downloading: 2020-12-22\n",
      "Downloading: 2020-12-23\n",
      "Downloading: 2020-12-24\n",
      "Downloading: 2020-12-25\n",
      "Downloading: 2020-12-26\n",
      "Downloading: 2020-12-27\n",
      "Downloading: 2020-12-28\n",
      "Downloading: 2020-12-29\n",
      "Downloading: 2020-12-30\n",
      "Downloading: 2020-12-31\n",
      "Downloading: 2021-01-01\n",
      "Downloading: 2021-01-02\n",
      "Downloading: 2021-01-03\n",
      "Downloading: 2021-01-04\n",
      "Downloading: 2021-01-05\n",
      "Downloading: 2021-01-06\n",
      "Downloading: 2021-01-07\n",
      "Downloading: 2021-01-08\n",
      "Downloading: 2021-01-09\n",
      "Downloading: 2021-01-10\n",
      "Downloading: 2021-01-11\n",
      "Downloading: 2021-01-12\n",
      "Downloading: 2021-01-13\n",
      "Downloading: 2021-01-14\n",
      "Downloading: 2021-01-15\n",
      "Downloading: 2021-01-16\n",
      "Downloading: 2021-01-17\n",
      "Downloading: 2021-01-18\n",
      "Downloading: 2021-01-19\n",
      "Downloading: 2021-01-20\n",
      "Downloading: 2021-01-21\n",
      "Downloading: 2021-01-22\n",
      "Downloading: 2021-01-23\n",
      "Downloading: 2021-01-24\n",
      "Downloading: 2021-01-25\n",
      "Downloading: 2021-01-26\n",
      "Downloading: 2021-01-27\n",
      "Downloading: 2021-01-28\n",
      "Downloading: 2021-01-29\n",
      "Downloading: 2021-01-30\n",
      "Downloading: 2021-01-31\n",
      "Downloading: 2021-02-01\n",
      "Downloading: 2021-02-02\n",
      "Downloading: 2021-02-03\n",
      "Downloading: 2021-02-04\n",
      "Downloading: 2021-02-05\n",
      "Downloading: 2021-02-06\n",
      "Downloading: 2021-02-07\n",
      "Downloading: 2021-02-08\n",
      "Downloading: 2021-02-09\n",
      "Downloading: 2021-02-10\n",
      "Downloading: 2021-02-11\n",
      "Downloading: 2021-02-12\n",
      "Downloading: 2021-02-13\n",
      "Downloading: 2021-02-14\n",
      "Downloading: 2021-02-15\n",
      "Downloading: 2021-02-16\n",
      "Downloading: 2021-02-17\n",
      "Downloading: 2021-02-18\n",
      "Downloading: 2021-02-19\n",
      "Downloading: 2021-02-20\n",
      "Downloading: 2021-02-21\n",
      "Downloading: 2021-02-22\n",
      "Downloading: 2021-02-23\n",
      "Downloading: 2021-02-24\n",
      "Downloading: 2021-02-25\n",
      "Downloading: 2021-02-26\n",
      "Downloading: 2021-02-27\n",
      "Downloading: 2021-02-28\n",
      "Downloading: 2021-03-01\n",
      "Downloading: 2021-03-02\n",
      "Downloading: 2021-03-03\n",
      "Downloading: 2021-03-04\n",
      "Downloading: 2021-03-05\n",
      "Downloading: 2021-03-06\n",
      "Downloading: 2021-03-07\n",
      "Downloading: 2021-03-08\n"
     ]
    },
    {
     "name": "stdout",
     "output_type": "stream",
     "text": [
      "Downloading: 2021-03-09\n",
      "Downloading: 2021-03-10\n",
      "Downloading: 2021-03-11\n",
      "Downloading: 2021-03-12\n",
      "Downloading: 2021-03-13\n",
      "Downloading: 2021-03-14\n",
      "Downloading: 2021-03-15\n",
      "Downloading: 2021-03-16\n",
      "Downloading: 2021-03-17\n",
      "Downloading: 2021-03-18\n",
      "Downloading: 2021-03-19\n",
      "Downloading: 2021-03-20\n",
      "Downloading: 2021-03-21\n",
      "Downloading: 2021-03-22\n",
      "Downloading: 2021-03-23\n",
      "Downloading: 2021-03-24\n",
      "Downloading: 2021-03-25\n",
      "Downloading: 2021-03-26\n",
      "Downloading: 2021-03-27\n",
      "Downloading: 2021-03-28\n",
      "Downloading: 2021-03-29\n",
      "Downloading: 2021-03-30\n",
      "Downloading: 2021-03-31\n",
      "Downloading: 2021-04-01\n",
      "Downloading: 2021-04-02\n",
      "Downloading: 2021-04-03\n",
      "Downloading: 2021-04-04\n",
      "Downloading: 2021-04-05\n",
      "Downloading: 2021-04-06\n",
      "Downloading: 2021-04-07\n",
      "Downloading: 2021-04-08\n",
      "Downloading: 2021-04-09\n",
      "Downloading: 2021-04-10\n",
      "Downloading: 2021-04-11\n",
      "Downloading: 2021-04-12\n",
      "Downloading: 2021-04-13\n",
      "Downloading: 2021-04-14\n",
      "Downloading: 2021-04-15\n",
      "Downloading: 2021-04-16\n",
      "Downloading: 2021-04-17\n",
      "Downloading: 2021-04-18\n",
      "Downloading: 2021-04-19\n",
      "Downloading: 2021-04-20\n",
      "Downloading: 2021-04-21\n",
      "Downloading: 2021-04-22\n",
      "Downloading: 2020-04-01\n",
      "Downloading: 2020-04-02\n",
      "Downloading: 2020-04-03\n",
      "Downloading: 2020-04-04\n",
      "Downloading: 2020-04-05\n",
      "Downloading: 2020-04-06\n",
      "Downloading: 2020-04-07\n",
      "Downloading: 2020-04-08\n",
      "Downloading: 2020-04-09\n",
      "Downloading: 2020-04-10\n",
      "Downloading: 2020-04-11\n",
      "Downloading: 2020-04-12\n",
      "Downloading: 2020-04-13\n",
      "Downloading: 2020-04-14\n",
      "Downloading: 2020-04-15\n",
      "Downloading: 2020-04-16\n",
      "Downloading: 2020-04-17\n",
      "Downloading: 2020-04-18\n",
      "Downloading: 2020-04-19\n",
      "Downloading: 2020-04-20\n",
      "Downloading: 2020-04-21\n",
      "Downloading: 2020-04-22\n",
      "Downloading: 2020-04-23\n",
      "Downloading: 2020-04-24\n",
      "Downloading: 2020-04-25\n",
      "Downloading: 2020-04-26\n",
      "Downloading: 2020-04-27\n",
      "Downloading: 2020-04-28\n",
      "Downloading: 2020-04-29\n",
      "Downloading: 2020-04-30\n",
      "Downloading: 2020-05-01\n",
      "Downloading: 2020-05-02\n",
      "Downloading: 2020-05-03\n",
      "Downloading: 2020-05-04\n",
      "Downloading: 2020-05-05\n",
      "Downloading: 2020-05-06\n",
      "Downloading: 2020-05-07\n",
      "Downloading: 2020-05-08\n",
      "Downloading: 2020-05-09\n",
      "Downloading: 2020-05-10\n",
      "Downloading: 2020-05-11\n",
      "Downloading: 2020-05-12\n",
      "Downloading: 2020-05-13\n",
      "Downloading: 2020-05-14\n",
      "Downloading: 2020-05-15\n",
      "Downloading: 2020-05-16\n",
      "Downloading: 2020-05-17\n",
      "Downloading: 2020-05-18\n",
      "Downloading: 2020-05-19\n",
      "Downloading: 2020-05-20\n",
      "Downloading: 2020-05-21\n",
      "Downloading: 2020-05-22\n",
      "Downloading: 2020-05-23\n",
      "Downloading: 2020-05-24\n",
      "Downloading: 2020-05-25\n",
      "Downloading: 2020-05-26\n",
      "Downloading: 2020-05-27\n",
      "Downloading: 2020-05-28\n",
      "Downloading: 2020-05-29\n",
      "Downloading: 2020-05-30\n",
      "Downloading: 2020-05-31\n",
      "Downloading: 2020-06-01\n",
      "Downloading: 2020-06-02\n",
      "Downloading: 2020-06-03\n",
      "Downloading: 2020-06-04\n",
      "Downloading: 2020-06-05\n",
      "Downloading: 2020-06-06\n",
      "Downloading: 2020-06-07\n",
      "Downloading: 2020-06-08\n",
      "Downloading: 2020-06-09\n",
      "Downloading: 2020-06-10\n",
      "Downloading: 2020-06-11\n",
      "Downloading: 2020-06-12\n",
      "Downloading: 2020-06-13\n",
      "Downloading: 2020-06-14\n",
      "Downloading: 2020-06-15\n",
      "Downloading: 2020-06-16\n",
      "Downloading: 2020-06-17\n",
      "Downloading: 2020-06-18\n",
      "Downloading: 2020-06-19\n",
      "Downloading: 2020-06-20\n",
      "Downloading: 2020-06-21\n",
      "Downloading: 2020-06-22\n",
      "Downloading: 2020-06-23\n",
      "Downloading: 2020-06-24\n",
      "Downloading: 2020-06-25\n",
      "Downloading: 2020-06-26\n",
      "Downloading: 2020-06-27\n",
      "Downloading: 2020-06-28\n",
      "Downloading: 2020-06-29\n",
      "Downloading: 2020-06-30\n",
      "Downloading: 2020-07-01\n",
      "Downloading: 2020-07-02\n",
      "Downloading: 2020-07-03\n",
      "Downloading: 2020-07-04\n",
      "Downloading: 2020-07-05\n",
      "Downloading: 2020-07-06\n",
      "Downloading: 2020-07-07\n",
      "Downloading: 2020-07-08\n",
      "Downloading: 2020-07-09\n",
      "Downloading: 2020-07-10\n",
      "Downloading: 2020-07-11\n",
      "Downloading: 2020-07-12\n",
      "Downloading: 2020-07-13\n",
      "Downloading: 2020-07-14\n",
      "Downloading: 2020-07-15\n",
      "Downloading: 2020-07-16\n",
      "Downloading: 2020-07-17\n",
      "Downloading: 2020-07-18\n",
      "Downloading: 2020-07-19\n",
      "Downloading: 2020-07-20\n",
      "Downloading: 2020-07-21\n",
      "Downloading: 2020-07-22\n",
      "Downloading: 2020-07-23\n",
      "Downloading: 2020-07-24\n",
      "Downloading: 2020-07-25\n",
      "Downloading: 2020-07-26\n",
      "Downloading: 2020-07-27\n",
      "Downloading: 2020-07-28\n",
      "Downloading: 2020-07-29\n",
      "Downloading: 2020-07-30\n",
      "Downloading: 2020-07-31\n",
      "Downloading: 2020-08-01\n",
      "Downloading: 2020-08-02\n",
      "Downloading: 2020-08-03\n",
      "Downloading: 2020-08-04\n",
      "Downloading: 2020-08-05\n",
      "Downloading: 2020-08-06\n",
      "Downloading: 2020-08-07\n",
      "Downloading: 2020-08-08\n",
      "Downloading: 2020-08-09\n",
      "Downloading: 2020-08-10\n",
      "Downloading: 2020-08-11\n",
      "Downloading: 2020-08-12\n",
      "Downloading: 2020-08-13\n",
      "Downloading: 2020-08-14\n",
      "Downloading: 2020-08-15\n",
      "Downloading: 2020-08-16\n",
      "Downloading: 2020-08-17\n",
      "Downloading: 2020-08-18\n",
      "Downloading: 2020-08-19\n",
      "Downloading: 2020-08-20\n",
      "Downloading: 2020-08-21\n",
      "Downloading: 2020-08-22\n",
      "Downloading: 2020-08-23\n",
      "Downloading: 2020-08-24\n",
      "Downloading: 2020-08-25\n",
      "Downloading: 2020-08-26\n",
      "Downloading: 2020-08-27\n",
      "Downloading: 2020-08-28\n",
      "Downloading: 2020-08-29\n",
      "Downloading: 2020-08-30\n",
      "Downloading: 2020-08-31\n",
      "Downloading: 2020-09-01\n",
      "Downloading: 2020-09-02\n",
      "Downloading: 2020-09-03\n",
      "Downloading: 2020-09-04\n",
      "Downloading: 2020-09-05\n",
      "Downloading: 2020-09-06\n",
      "Downloading: 2020-09-07\n",
      "Downloading: 2020-09-08\n",
      "Downloading: 2020-09-09\n",
      "Downloading: 2020-09-10\n",
      "Downloading: 2020-09-11\n",
      "Downloading: 2020-09-12\n",
      "Downloading: 2020-09-13\n",
      "Downloading: 2020-09-14\n",
      "Downloading: 2020-09-15\n",
      "Downloading: 2020-09-16\n",
      "Downloading: 2020-09-17\n",
      "Downloading: 2020-09-18\n",
      "Downloading: 2020-09-19\n",
      "Downloading: 2020-09-20\n",
      "Downloading: 2020-09-21\n",
      "Downloading: 2020-09-22\n",
      "Downloading: 2020-09-23\n",
      "Downloading: 2020-09-24\n",
      "Downloading: 2020-09-25\n",
      "Downloading: 2020-09-26\n",
      "Downloading: 2020-09-27\n",
      "Downloading: 2020-09-28\n",
      "Downloading: 2020-09-29\n",
      "Downloading: 2020-09-30\n",
      "Downloading: 2020-10-01\n",
      "Downloading: 2020-10-02\n",
      "Downloading: 2020-10-03\n",
      "Downloading: 2020-10-04\n",
      "Downloading: 2020-10-05\n",
      "Downloading: 2020-10-06\n",
      "Downloading: 2020-10-07\n",
      "Downloading: 2020-10-08\n",
      "Downloading: 2020-10-09\n",
      "Downloading: 2020-10-10\n",
      "Downloading: 2020-10-11\n",
      "Downloading: 2020-10-12\n",
      "Downloading: 2020-10-13\n",
      "Downloading: 2020-10-14\n",
      "Downloading: 2020-10-15\n",
      "Downloading: 2020-10-16\n",
      "Downloading: 2020-10-17\n",
      "Downloading: 2020-10-18\n",
      "Downloading: 2020-10-19\n",
      "Downloading: 2020-10-20\n",
      "Downloading: 2020-10-21\n",
      "Downloading: 2020-10-22\n",
      "Downloading: 2020-10-23\n",
      "Downloading: 2020-10-24\n",
      "Downloading: 2020-10-25\n",
      "Downloading: 2020-10-26\n",
      "Downloading: 2020-10-27\n",
      "Downloading: 2020-10-28\n",
      "Downloading: 2020-10-29\n",
      "Downloading: 2020-10-30\n",
      "Downloading: 2020-10-31\n",
      "Downloading: 2020-11-01\n",
      "Downloading: 2020-11-02\n",
      "Downloading: 2020-11-03\n",
      "Downloading: 2020-11-04\n",
      "Downloading: 2020-11-05\n",
      "Downloading: 2020-11-06\n",
      "Downloading: 2020-11-07\n",
      "Downloading: 2020-11-08\n",
      "Downloading: 2020-11-09\n",
      "Downloading: 2020-11-10\n",
      "Downloading: 2020-11-11\n",
      "Downloading: 2020-11-12\n",
      "Downloading: 2020-11-13\n",
      "Downloading: 2020-11-14\n",
      "Downloading: 2020-11-15\n",
      "Downloading: 2020-11-16\n",
      "Downloading: 2020-11-17\n",
      "Downloading: 2020-11-18\n",
      "Downloading: 2020-11-19\n",
      "Downloading: 2020-11-20\n",
      "Downloading: 2020-11-21\n",
      "Downloading: 2020-11-22\n",
      "Downloading: 2020-11-23\n",
      "Downloading: 2020-11-24\n",
      "Downloading: 2020-11-25\n",
      "Downloading: 2020-11-26\n",
      "Downloading: 2020-11-27\n",
      "Downloading: 2020-11-28\n",
      "Downloading: 2020-11-29\n",
      "Downloading: 2020-11-30\n",
      "Downloading: 2020-12-01\n",
      "Downloading: 2020-12-02\n",
      "Downloading: 2020-12-03\n",
      "Downloading: 2020-12-04\n",
      "Downloading: 2020-12-05\n",
      "Downloading: 2020-12-06\n",
      "Downloading: 2020-12-07\n",
      "Downloading: 2020-12-08\n",
      "Downloading: 2020-12-09\n",
      "Downloading: 2020-12-10\n",
      "Downloading: 2020-12-11\n",
      "Downloading: 2020-12-12\n",
      "Downloading: 2020-12-13\n",
      "Downloading: 2020-12-14\n",
      "Downloading: 2020-12-15\n",
      "Downloading: 2020-12-16\n",
      "Downloading: 2020-12-17\n",
      "Downloading: 2020-12-18\n",
      "Downloading: 2020-12-19\n",
      "Downloading: 2020-12-20\n",
      "Downloading: 2020-12-21\n",
      "Downloading: 2020-12-22\n",
      "Downloading: 2020-12-23\n",
      "Downloading: 2020-12-24\n",
      "Downloading: 2020-12-25\n",
      "Downloading: 2020-12-26\n",
      "Downloading: 2020-12-27\n",
      "Downloading: 2020-12-28\n",
      "Downloading: 2020-12-29\n",
      "Downloading: 2020-12-30\n",
      "Downloading: 2020-12-31\n",
      "Downloading: 2021-01-01\n",
      "Downloading: 2021-01-02\n",
      "Downloading: 2021-01-03\n",
      "Downloading: 2021-01-04\n",
      "Downloading: 2021-01-05\n",
      "Downloading: 2021-01-06\n",
      "Downloading: 2021-01-07\n",
      "Downloading: 2021-01-08\n",
      "Downloading: 2021-01-09\n",
      "Downloading: 2021-01-10\n",
      "Downloading: 2021-01-11\n",
      "Downloading: 2021-01-12\n",
      "Downloading: 2021-01-13\n",
      "Downloading: 2021-01-14\n",
      "Downloading: 2021-01-15\n",
      "Downloading: 2021-01-16\n",
      "Downloading: 2021-01-17\n",
      "Downloading: 2021-01-18\n",
      "Downloading: 2021-01-19\n",
      "Downloading: 2021-01-20\n",
      "Downloading: 2021-01-21\n",
      "Downloading: 2021-01-22\n"
     ]
    },
    {
     "name": "stdout",
     "output_type": "stream",
     "text": [
      "Downloading: 2021-01-23\n",
      "Downloading: 2021-01-24\n",
      "Downloading: 2021-01-25\n",
      "Downloading: 2021-01-26\n",
      "Downloading: 2021-01-27\n",
      "Downloading: 2021-01-28\n",
      "Downloading: 2021-01-29\n",
      "Downloading: 2021-01-30\n",
      "Downloading: 2021-01-31\n",
      "Downloading: 2021-02-01\n",
      "Downloading: 2021-02-02\n",
      "Downloading: 2021-02-03\n",
      "Downloading: 2021-02-04\n",
      "Downloading: 2021-02-05\n",
      "Downloading: 2021-02-06\n",
      "Downloading: 2021-02-07\n",
      "Downloading: 2021-02-08\n",
      "Downloading: 2021-02-09\n",
      "Downloading: 2021-02-10\n",
      "Downloading: 2021-02-11\n",
      "Downloading: 2021-02-12\n",
      "Downloading: 2021-02-13\n",
      "Downloading: 2021-02-14\n",
      "Downloading: 2021-02-15\n",
      "Downloading: 2021-02-16\n",
      "Downloading: 2021-02-17\n",
      "Downloading: 2021-02-18\n",
      "Downloading: 2021-02-19\n",
      "Downloading: 2021-02-20\n",
      "Downloading: 2021-02-21\n",
      "Downloading: 2021-02-22\n",
      "Downloading: 2021-02-23\n",
      "Downloading: 2021-02-24\n",
      "Downloading: 2021-02-25\n",
      "Downloading: 2021-02-26\n",
      "Downloading: 2021-02-27\n",
      "Downloading: 2021-02-28\n",
      "Downloading: 2021-03-01\n",
      "Downloading: 2021-03-02\n",
      "Downloading: 2021-03-03\n",
      "Downloading: 2021-03-04\n",
      "Downloading: 2021-03-05\n",
      "Downloading: 2021-03-06\n",
      "Downloading: 2021-03-07\n",
      "Downloading: 2021-03-08\n",
      "Downloading: 2021-03-09\n",
      "Downloading: 2021-03-10\n",
      "Downloading: 2021-03-11\n",
      "Downloading: 2021-03-12\n",
      "Downloading: 2021-03-13\n",
      "Downloading: 2021-03-14\n",
      "Downloading: 2021-03-15\n",
      "Downloading: 2021-03-16\n",
      "Downloading: 2021-03-17\n",
      "Downloading: 2021-03-18\n",
      "Downloading: 2021-03-19\n",
      "Downloading: 2021-03-20\n",
      "Downloading: 2021-03-21\n",
      "Downloading: 2021-03-22\n",
      "Downloading: 2021-03-23\n",
      "Downloading: 2021-03-24\n",
      "Downloading: 2021-03-25\n",
      "Downloading: 2021-03-26\n",
      "Downloading: 2021-03-27\n",
      "Downloading: 2021-03-28\n",
      "Downloading: 2021-03-29\n",
      "Downloading: 2021-03-30\n",
      "Downloading: 2021-03-31\n",
      "Downloading: 2021-04-01\n",
      "Downloading: 2021-04-02\n",
      "Downloading: 2021-04-03\n",
      "Downloading: 2021-04-04\n",
      "Downloading: 2021-04-05\n",
      "Downloading: 2021-04-06\n",
      "Downloading: 2021-04-07\n",
      "Downloading: 2021-04-08\n",
      "Downloading: 2021-04-09\n",
      "Downloading: 2021-04-10\n",
      "Downloading: 2021-04-11\n",
      "Downloading: 2021-04-12\n",
      "Downloading: 2021-04-13\n",
      "Downloading: 2021-04-14\n",
      "Downloading: 2021-04-15\n",
      "Downloading: 2021-04-16\n",
      "Downloading: 2021-04-17\n",
      "Downloading: 2021-04-18\n",
      "Downloading: 2021-04-19\n",
      "Downloading: 2021-04-20\n",
      "Downloading: 2021-04-21\n",
      "Downloading: 2021-04-22\n"
     ]
    }
   ],
   "source": [
    "download_data(sensor_name='sds011', sensor_id=6127)\n",
    "download_data(sensor_name='bme280', sensor_id=6128)"
   ]
  },
  {
   "cell_type": "markdown",
   "metadata": {},
   "source": [
    "#### We have all the data, let us now load the data in dataframe"
   ]
  },
  {
   "cell_type": "code",
   "execution_count": 11,
   "metadata": {},
   "outputs": [],
   "source": [
    "file_list = os.listdir('./data/')"
   ]
  },
  {
   "cell_type": "code",
   "execution_count": 12,
   "metadata": {},
   "outputs": [],
   "source": [
    "date_list = set([file.split('_')[0] for file in file_list]) # get unique dates"
   ]
  },
  {
   "cell_type": "code",
   "execution_count": 13,
   "metadata": {},
   "outputs": [],
   "source": [
    "df = pd.DataFrame()"
   ]
  },
  {
   "cell_type": "code",
   "execution_count": 16,
   "metadata": {},
   "outputs": [],
   "source": [
    "for date in date_list:\n",
    "    for file in file_list:\n",
    "        if file.find(date) != -1:\n",
    "            if file.find('bme280') != -1:\n",
    "                df_temp_1 = pd.read_csv('./data/'+file, sep=';')\n",
    "                df_temp_1.timestamp = pd.to_datetime(df_temp_1.timestamp, errors='ignore', infer_datetime_format=True)\n",
    "            elif file.find('sds011') != -1:\n",
    "                df_temp_2 = pd.read_csv('./data/'+file, sep=';')\n",
    "                df_temp_2.timestamp = pd.to_datetime(df_temp_2.timestamp, errors='ignore', infer_datetime_format=True)\n",
    "            \n",
    "        df_1 = pd.merge_asof(df_temp_1, df_temp_2, on='timestamp', direction='nearest', tolerance=datetime.timedelta(seconds=20), allow_exact_matches=False)\n",
    "        df_1.drop(['altitude', 'pressure', 'durP2', 'ratioP2', 'durP1', 'ratioP1', \"ratioP2\",\n",
    "                  'sensor_id_x', 'sensor_type_x', 'location_x', 'lat_x', 'lon_x', 'pressure_sealevel',\n",
    "                  'sensor_id_y', 'sensor_type_y', 'location_y', 'lat_y','lon_y'], axis=1, inplace=True);\n",
    "        df_1.dropna(inplace=True)\n",
    "    df = pd.concat([df, df_1])"
   ]
  },
  {
   "cell_type": "code",
   "execution_count": 17,
   "metadata": {},
   "outputs": [],
   "source": [
    "df.reset_index(inplace=True)\n",
    "df.drop('index', axis=1, inplace=True)"
   ]
  },
  {
   "cell_type": "code",
   "execution_count": 18,
   "metadata": {},
   "outputs": [],
   "source": [
    "df['IsHoliday'] = df['timestamp'].apply(is_holiday) \n",
    "df['PartDay'] = df['timestamp'].apply(part_day)"
   ]
  },
  {
   "cell_type": "code",
   "execution_count": 19,
   "metadata": {},
   "outputs": [],
   "source": [
    "df['WeekDay'] = df['timestamp'].dt.dayofweek"
   ]
  },
  {
   "cell_type": "code",
   "execution_count": 20,
   "metadata": {},
   "outputs": [],
   "source": [
    "df['IsWorking'] = df['WeekDay'].apply(is_workday)"
   ]
  },
  {
   "cell_type": "code",
   "execution_count": 21,
   "metadata": {},
   "outputs": [],
   "source": [
    "df['Season'] = df['timestamp'].apply(season)"
   ]
  },
  {
   "cell_type": "markdown",
   "metadata": {},
   "source": [
    "Check if the P1 and P2 values are higher in any part of the day or if it is a holiday."
   ]
  },
  {
   "cell_type": "code",
   "execution_count": 22,
   "metadata": {},
   "outputs": [
    {
     "name": "stdout",
     "output_type": "stream",
     "text": [
      "P1 data stats: IsHoliday\n",
      "0    21.827079\n",
      "1    11.290025\n",
      "Name: P1, dtype: float64\n",
      "------------------------------------------------\n",
      "P2 data stats: IsHoliday\n",
      "0    10.937051\n",
      "1     6.689738\n",
      "Name: P2, dtype: float64\n"
     ]
    },
    {
     "data": {
      "text/plain": [
       "([<matplotlib.axis.XTick at 0x2234dc66250>,\n",
       "  <matplotlib.axis.XTick at 0x2234dc661c0>],\n",
       " [Text(0.0, 0, 'Normal day'), Text(1.0000000000000002, 0, 'Holiday')])"
      ]
     },
     "execution_count": 22,
     "metadata": {},
     "output_type": "execute_result"
    },
    {
     "data": {
      "image/png": "[encoded data removed]",
      "text/plain": [
       "<Figure size 432x288 with 1 Axes>"
      ]
     },
     "metadata": {
      "needs_background": "light"
     },
     "output_type": "display_data"
    }
   ],
   "source": [
    "mean_print_plot(df, category='IsHoliday', data_col1='P1', data_col2='P2')\n",
    "locs, ticks = plt.xticks()\n",
    "plt.xticks([locs[1], locs[-2]], ['Normal day', 'Holiday'])"
   ]
  },
  {
   "cell_type": "code",
   "execution_count": 23,
   "metadata": {},
   "outputs": [
    {
     "name": "stdout",
     "output_type": "stream",
     "text": [
      "P1 data stats: WeekDay\n",
      "0    21.014056\n",
      "1    21.728988\n",
      "2    22.097306\n",
      "3    19.003289\n",
      "4    22.818081\n",
      "5    24.521938\n",
      "6    20.779478\n",
      "Name: P1, dtype: float64\n",
      "------------------------------------------------\n",
      "P2 data stats: WeekDay\n",
      "0    10.831553\n",
      "1    10.854371\n",
      "2    10.756217\n",
      "3     9.595621\n",
      "4    11.364189\n",
      "5    12.019899\n",
      "6    10.807247\n",
      "Name: P2, dtype: float64\n"
     ]
    },
    {
     "data": {
      "text/plain": [
       "([<matplotlib.axis.XTick at 0x2234e082340>,\n",
       "  <matplotlib.axis.XTick at 0x2234e082310>,\n",
       "  <matplotlib.axis.XTick at 0x2234dd8aa00>,\n",
       "  <matplotlib.axis.XTick at 0x2234e0ba400>,\n",
       "  <matplotlib.axis.XTick at 0x2234e0ba910>,\n",
       "  <matplotlib.axis.XTick at 0x2234e0bae20>,\n",
       "  <matplotlib.axis.XTick at 0x2234e0ba4c0>,\n",
       "  <matplotlib.axis.XTick at 0x2234e0c1130>,\n",
       "  <matplotlib.axis.XTick at 0x2234e0c1640>],\n",
       " [Text(-1.0, 0, ''),\n",
       "  Text(0.0, 0, 'Mon'),\n",
       "  Text(1.0, 0, 'Tue'),\n",
       "  Text(2.0, 0, 'Wed'),\n",
       "  Text(3.0, 0, 'Thu'),\n",
       "  Text(4.0, 0, 'Fri'),\n",
       "  Text(5.0, 0, 'Sat'),\n",
       "  Text(6.0, 0, 'Sun'),\n",
       "  Text(7.0, 0, '')])"
      ]
     },
     "execution_count": 23,
     "metadata": {},
     "output_type": "execute_result"
    },
    {
     "data": {
      "image/png": "[encoded data removed]",
      "text/plain": [
       "<Figure size 432x288 with 1 Axes>"
      ]
     },
     "metadata": {
      "needs_background": "light"
     },
     "output_type": "display_data"
    }
   ],
   "source": [
    "mean_print_plot(df, category='WeekDay', data_col1='P1', data_col2='P2')\n",
    "locs, ticks = plt.xticks()\n",
    "plt.xticks(locs, ['', 'Mon','Tue', 'Wed', 'Thu', 'Fri', 'Sat', 'Sun', ''])"
   ]
  },
  {
   "cell_type": "code",
   "execution_count": 24,
   "metadata": {},
   "outputs": [
    {
     "name": "stdout",
     "output_type": "stream",
     "text": [
      "P1 data stats: Season\n",
      "1    14.023063\n",
      "2    11.637685\n",
      "3    24.443991\n",
      "4    29.279461\n",
      "Name: P1, dtype: float64\n",
      "------------------------------------------------\n",
      "P2 data stats: Season\n",
      "1     7.370824\n",
      "2     7.707919\n",
      "3    11.423877\n",
      "4    12.849945\n",
      "Name: P2, dtype: float64\n"
     ]
    },
    {
     "data": {
      "image/png": "[encoded data removed]",
      "text/plain": [
       "<Figure size 432x288 with 1 Axes>"
      ]
     },
     "metadata": {
      "needs_background": "light"
     },
     "output_type": "display_data"
    }
   ],
   "source": [
    "df_blah = df.loc[df['PartDay']==6]\n",
    "mean_print_plot(df_blah, category='Season', data_col1='P1', data_col2 = 'P2')"
   ]
  },
  {
   "cell_type": "code",
   "execution_count": 25,
   "metadata": {},
   "outputs": [
    {
     "name": "stdout",
     "output_type": "stream",
     "text": [
      "P1 data stats: PartDay\n",
      "1    26.283621\n",
      "2    17.715138\n",
      "3    15.988206\n",
      "4    24.590820\n",
      "5    23.613574\n",
      "6    19.668615\n",
      "Name: P1, dtype: float64\n",
      "------------------------------------------------\n",
      "P2 data stats: PartDay\n",
      "1    12.828904\n",
      "2     9.623795\n",
      "3     8.638217\n",
      "4    12.061610\n",
      "5    11.576594\n",
      "6     9.786040\n",
      "Name: P2, dtype: float64\n"
     ]
    },
    {
     "data": {
      "text/plain": [
       "([<matplotlib.axis.XTick at 0x2234e0d9190>,\n",
       "  <matplotlib.axis.XTick at 0x2234e175580>,\n",
       "  <matplotlib.axis.XTick at 0x2234e119220>,\n",
       "  <matplotlib.axis.XTick at 0x2234e1355e0>,\n",
       "  <matplotlib.axis.XTick at 0x2234e135310>,\n",
       "  <matplotlib.axis.XTick at 0x2234e135250>,\n",
       "  <matplotlib.axis.XTick at 0x2234e1358b0>,\n",
       "  <matplotlib.axis.XTick at 0x2234e13b3d0>],\n",
       " [Text(0.0, 0, ' '),\n",
       "  Text(1.0, 0, 'Early Morning'),\n",
       "  Text(2.0, 0, 'Morning'),\n",
       "  Text(3.0, 0, 'Noon'),\n",
       "  Text(4.0, 0, 'Afternoon'),\n",
       "  Text(5.0, 0, 'Evening'),\n",
       "  Text(6.0, 0, 'Night'),\n",
       "  Text(7.0, 0, '')])"
      ]
     },
     "execution_count": 25,
     "metadata": {},
     "output_type": "execute_result"
    },
    {
     "data": {
      "image/png": "[encoded data removed]",
      "text/plain": [
       "<Figure size 432x288 with 1 Axes>"
      ]
     },
     "metadata": {
      "needs_background": "light"
     },
     "output_type": "display_data"
    }
   ],
   "source": [
    "mean_print_plot(df, category='PartDay', data_col1='P1', data_col2='P2')\n",
    "locs, ticks = plt.xticks()\n",
    "plt.xticks(locs, [' ','Early Morning', 'Morning', 'Noon', 'Afternoon', 'Evening', 'Night', ''])"
   ]
  },
  {
   "cell_type": "code",
   "execution_count": null,
   "metadata": {},
   "outputs": [],
   "source": []
  },
  {
   "cell_type": "code",
   "execution_count": 26,
   "metadata": {},
   "outputs": [
    {
     "name": "stdout",
     "output_type": "stream",
     "text": [
      "P1 data stats: Season\n",
      "1    13.790710\n",
      "2    10.960895\n",
      "3    30.822060\n",
      "4    33.120027\n",
      "Name: P1, dtype: float64\n",
      "------------------------------------------------\n",
      "P2 data stats: Season\n",
      "1     7.414766\n",
      "2     7.603711\n",
      "3    14.641096\n",
      "4    14.769914\n",
      "Name: P2, dtype: float64\n"
     ]
    },
    {
     "data": {
      "text/plain": [
       "([<matplotlib.axis.XTick at 0x2234e0f5eb0>,\n",
       "  <matplotlib.axis.XTick at 0x2234e0f5f70>,\n",
       "  <matplotlib.axis.XTick at 0x2234e0c99a0>,\n",
       "  <matplotlib.axis.XTick at 0x2234e1a5850>],\n",
       " [Text(1.0, 0, 'Spring'),\n",
       "  Text(2.0, 0, 'Summer'),\n",
       "  Text(3.0, 0, 'Autumn'),\n",
       "  Text(4.0, 0, 'Winter')])"
      ]
     },
     "execution_count": 26,
     "metadata": {},
     "output_type": "execute_result"
    },
    {
     "data": {
      "image/png": "[encoded data removed]",
      "text/plain": [
       "<Figure size 432x288 with 1 Axes>"
      ]
     },
     "metadata": {
      "needs_background": "light"
     },
     "output_type": "display_data"
    }
   ],
   "source": [
    "mean_print_plot(df, category='Season', data_col1='P1', data_col2='P2')\n",
    "locs, ticks = plt.xticks()\n",
    "plt.xticks(locs[1:-1:2], ['Spring', 'Summer', 'Autumn', 'Winter'])"
   ]
  },
  {
   "cell_type": "markdown",
   "metadata": {},
   "source": [
    "### As we see there are correlations between the season, week day, time of day and holidays and the air quality. \n",
    "##### I will now check with a seaborn correlation plot"
   ]
  },
  {
   "cell_type": "code",
   "execution_count": 27,
   "metadata": {},
   "outputs": [
    {
     "data": {
      "text/plain": [
       "<AxesSubplot:>"
      ]
     },
     "execution_count": 27,
     "metadata": {},
     "output_type": "execute_result"
    },
    {
     "data": {
      "image/png": "[encoded data removed]",
      "text/plain": [
       "<Figure size 432x288 with 2 Axes>"
      ]
     },
     "metadata": {
      "needs_background": "light"
     },
     "output_type": "display_data"
    }
   ],
   "source": [
    "sns.heatmap(df.corr(), annot=True)"
   ]
  },
  {
   "cell_type": "markdown",
   "metadata": {},
   "source": [
    "Strangly enough there seems to be a correlation also between the humidity and the air quality, but not that much with temperature."
   ]
  },
  {
   "cell_type": "markdown",
   "metadata": {},
   "source": [
    "### Regression\n",
    "##### I think that this problem may be best generalized with a random forest model. First I will start with a regressor, then I will use a classifier"
   ]
  },
  {
   "cell_type": "code",
   "execution_count": 28,
   "metadata": {},
   "outputs": [],
   "source": [
    "from sklearn.ensemble import RandomForestRegressor\n",
    "from sklearn.svm import SVR\n",
    "from sklearn.model_selection import train_test_split\n",
    "from sklearn.metrics import accuracy_score, classification_report, confusion_matrix\n",
    "from sklearn.preprocessing import StandardScaler"
   ]
  },
  {
   "cell_type": "code",
   "execution_count": 29,
   "metadata": {},
   "outputs": [],
   "source": [
    "X = df[['temperature', 'humidity', 'IsHoliday', 'WeekDay', 'Season']]\n",
    "y = df['P1']\n",
    "today = [12, 47, 0, 1, 1]"
   ]
  },
  {
   "cell_type": "code",
   "execution_count": 30,
   "metadata": {},
   "outputs": [],
   "source": [
    "X_train, X_test, y_train, y_test = train_test_split(X, y, test_size = 0.3)"
   ]
  },
  {
   "cell_type": "code",
   "execution_count": 31,
   "metadata": {},
   "outputs": [],
   "source": [
    "sc_regr = StandardScaler()\n",
    "X_train = sc_regr.fit_transform(X_train)\n",
    "X_test = sc_regr.transform(X_test)\n"
   ]
  },
  {
   "cell_type": "code",
   "execution_count": 32,
   "metadata": {},
   "outputs": [],
   "source": [
    "today = sc_regr.transform([today])"
   ]
  },
  {
   "cell_type": "code",
   "execution_count": 33,
   "metadata": {},
   "outputs": [],
   "source": [
    "regr = RandomForestRegressor()\n",
    "regr_svm = SVR()"
   ]
  },
  {
   "cell_type": "code",
   "execution_count": 34,
   "metadata": {},
   "outputs": [
    {
     "data": {
      "text/plain": [
       "SVR()"
      ]
     },
     "execution_count": 34,
     "metadata": {},
     "output_type": "execute_result"
    }
   ],
   "source": [
    "regr.fit(X_train, y_train)\n",
    "regr_svm.fit(X_train, y_train)"
   ]
  },
  {
   "cell_type": "code",
   "execution_count": 35,
   "metadata": {},
   "outputs": [
    {
     "data": {
      "text/plain": [
       "array([17.3627])"
      ]
     },
     "execution_count": 35,
     "metadata": {},
     "output_type": "execute_result"
    }
   ],
   "source": [
    "regr.predict(today)"
   ]
  },
  {
   "cell_type": "code",
   "execution_count": 36,
   "metadata": {},
   "outputs": [
    {
     "data": {
      "text/plain": [
       "array([11.86382638])"
      ]
     },
     "execution_count": 36,
     "metadata": {},
     "output_type": "execute_result"
    }
   ],
   "source": [
    "regr_svm.predict(today)"
   ]
  },
  {
   "cell_type": "code",
   "execution_count": 37,
   "metadata": {},
   "outputs": [],
   "source": [
    "y_pred_svm = regr_svm.predict(X_test)"
   ]
  },
  {
   "cell_type": "markdown",
   "metadata": {},
   "source": [
    "Regression ANN:"
   ]
  },
  {
   "cell_type": "code",
   "execution_count": 38,
   "metadata": {},
   "outputs": [],
   "source": [
    "import tensorflow as tf"
   ]
  },
  {
   "cell_type": "code",
   "execution_count": 39,
   "metadata": {},
   "outputs": [],
   "source": [
    "ann_regr = tf.keras.models.Sequential()"
   ]
  },
  {
   "cell_type": "code",
   "execution_count": 40,
   "metadata": {},
   "outputs": [],
   "source": [
    "ann_regr.add(tf.keras.layers.Dense(units = 5, activation='relu'))\n",
    "ann_regr.add(tf.keras.layers.Dense(units = 8, activation='relu'))\n",
    "ann_regr.add(tf.keras.layers.Dense(units=1))"
   ]
  },
  {
   "cell_type": "code",
   "execution_count": 41,
   "metadata": {},
   "outputs": [],
   "source": [
    "ann_regr.compile(optimizer='adam', loss='mean_squared_error')"
   ]
  },
  {
   "cell_type": "code",
   "execution_count": 42,
   "metadata": {},
   "outputs": [
    {
     "name": "stdout",
     "output_type": "stream",
     "text": [
      "Epoch 1/100\n",
      "1618/1618 [==============================] - 1s 453us/step - loss: 777.8249\n",
      "Epoch 2/100\n",
      "1618/1618 [==============================] - 1s 462us/step - loss: 727.9202\n",
      "Epoch 3/100\n",
      "1618/1618 [==============================] - 1s 482us/step - loss: 690.1241\n",
      "Epoch 4/100\n",
      "1618/1618 [==============================] - 1s 429us/step - loss: 696.0460\n",
      "Epoch 5/100\n",
      "1618/1618 [==============================] - 1s 433us/step - loss: 704.2265\n",
      "Epoch 6/100\n",
      "1618/1618 [==============================] - 1s 436us/step - loss: 729.4254\n",
      "Epoch 7/100\n",
      "1618/1618 [==============================] - 1s 433us/step - loss: 703.8093\n",
      "Epoch 8/100\n",
      "1618/1618 [==============================] - 1s 433us/step - loss: 687.1679\n",
      "Epoch 9/100\n",
      "1618/1618 [==============================] - 1s 430us/step - loss: 718.8100\n",
      "Epoch 10/100\n",
      "1618/1618 [==============================] - 1s 431us/step - loss: 675.8840\n",
      "Epoch 11/100\n",
      "1618/1618 [==============================] - 1s 434us/step - loss: 671.3752\n",
      "Epoch 12/100\n",
      "1618/1618 [==============================] - 1s 433us/step - loss: 677.0082\n",
      "Epoch 13/100\n",
      "1618/1618 [==============================] - 1s 435us/step - loss: 679.1954\n",
      "Epoch 14/100\n",
      "1618/1618 [==============================] - 1s 432us/step - loss: 666.2768\n",
      "Epoch 15/100\n",
      "1618/1618 [==============================] - 1s 451us/step - loss: 706.8109\n",
      "Epoch 16/100\n",
      "1618/1618 [==============================] - 1s 435us/step - loss: 661.9141\n",
      "Epoch 17/100\n",
      "1618/1618 [==============================] - 1s 429us/step - loss: 681.7704\n",
      "Epoch 18/100\n",
      "1618/1618 [==============================] - 1s 438us/step - loss: 666.7078\n",
      "Epoch 19/100\n",
      "1618/1618 [==============================] - 1s 434us/step - loss: 659.1422\n",
      "Epoch 20/100\n",
      "1618/1618 [==============================] - 1s 435us/step - loss: 676.6334\n",
      "Epoch 21/100\n",
      "1618/1618 [==============================] - 1s 432us/step - loss: 675.3141\n",
      "Epoch 22/100\n",
      "1618/1618 [==============================] - 1s 434us/step - loss: 691.5604\n",
      "Epoch 23/100\n",
      "1618/1618 [==============================] - 1s 430us/step - loss: 690.9014\n",
      "Epoch 24/100\n",
      "1618/1618 [==============================] - 1s 434us/step - loss: 660.1801\n",
      "Epoch 25/100\n",
      "1618/1618 [==============================] - 1s 507us/step - loss: 704.2369\n",
      "Epoch 26/100\n",
      "1618/1618 [==============================] - 1s 444us/step - loss: 655.6075\n",
      "Epoch 27/100\n",
      "1618/1618 [==============================] - 1s 443us/step - loss: 704.9289\n",
      "Epoch 28/100\n",
      "1618/1618 [==============================] - 1s 429us/step - loss: 693.5998\n",
      "Epoch 29/100\n",
      "1618/1618 [==============================] - 1s 432us/step - loss: 672.2805\n",
      "Epoch 30/100\n",
      "1618/1618 [==============================] - 1s 446us/step - loss: 650.3108\n",
      "Epoch 31/100\n",
      "1618/1618 [==============================] - 1s 459us/step - loss: 678.6779\n",
      "Epoch 32/100\n",
      "1618/1618 [==============================] - 1s 466us/step - loss: 692.3760\n",
      "Epoch 33/100\n",
      "1618/1618 [==============================] - 1s 466us/step - loss: 660.2786\n",
      "Epoch 34/100\n",
      "1618/1618 [==============================] - 1s 475us/step - loss: 674.6208\n",
      "Epoch 35/100\n",
      "1618/1618 [==============================] - 1s 459us/step - loss: 667.5065\n",
      "Epoch 36/100\n",
      "1618/1618 [==============================] - 1s 477us/step - loss: 692.7806\n",
      "Epoch 37/100\n",
      "1618/1618 [==============================] - 1s 457us/step - loss: 676.2740\n",
      "Epoch 38/100\n",
      "1618/1618 [==============================] - 1s 466us/step - loss: 674.0814\n",
      "Epoch 39/100\n",
      "1618/1618 [==============================] - 1s 460us/step - loss: 697.9200\n",
      "Epoch 40/100\n",
      "1618/1618 [==============================] - 1s 468us/step - loss: 666.8452\n",
      "Epoch 41/100\n",
      "1618/1618 [==============================] - 1s 454us/step - loss: 662.2043\n",
      "Epoch 42/100\n",
      "1618/1618 [==============================] - 1s 457us/step - loss: 707.1455\n",
      "Epoch 43/100\n",
      "1618/1618 [==============================] - 1s 461us/step - loss: 672.4473\n",
      "Epoch 44/100\n",
      "1618/1618 [==============================] - 1s 470us/step - loss: 670.4387\n",
      "Epoch 45/100\n",
      "1618/1618 [==============================] - 1s 585us/step - loss: 669.2296\n",
      "Epoch 46/100\n",
      "1618/1618 [==============================] - 1s 697us/step - loss: 694.2714\n",
      "Epoch 47/100\n",
      "1618/1618 [==============================] - 1s 484us/step - loss: 700.7028\n",
      "Epoch 48/100\n",
      "1618/1618 [==============================] - 1s 462us/step - loss: 666.8667\n",
      "Epoch 49/100\n",
      "1618/1618 [==============================] - 1s 460us/step - loss: 673.3628\n",
      "Epoch 50/100\n",
      "1618/1618 [==============================] - 1s 460us/step - loss: 694.1927\n",
      "Epoch 51/100\n",
      "1618/1618 [==============================] - 1s 470us/step - loss: 703.5481\n",
      "Epoch 52/100\n",
      "1618/1618 [==============================] - 1s 467us/step - loss: 678.8846\n",
      "Epoch 53/100\n",
      "1618/1618 [==============================] - 1s 462us/step - loss: 690.2074\n",
      "Epoch 54/100\n",
      "1618/1618 [==============================] - 1s 467us/step - loss: 687.1372\n",
      "Epoch 55/100\n",
      "1618/1618 [==============================] - 1s 497us/step - loss: 671.3037\n",
      "Epoch 56/100\n",
      "1618/1618 [==============================] - 1s 471us/step - loss: 681.0741\n",
      "Epoch 57/100\n",
      "1618/1618 [==============================] - 1s 461us/step - loss: 695.5099\n",
      "Epoch 58/100\n",
      "1618/1618 [==============================] - 1s 476us/step - loss: 664.8538\n",
      "Epoch 59/100\n",
      "1618/1618 [==============================] - 1s 464us/step - loss: 678.6013\n",
      "Epoch 60/100\n",
      "1618/1618 [==============================] - 1s 461us/step - loss: 683.6022\n",
      "Epoch 61/100\n",
      "1618/1618 [==============================] - 1s 462us/step - loss: 666.6508\n",
      "Epoch 62/100\n",
      "1618/1618 [==============================] - 1s 466us/step - loss: 657.5541\n",
      "Epoch 63/100\n",
      "1618/1618 [==============================] - 1s 474us/step - loss: 686.4212\n",
      "Epoch 64/100\n",
      "1618/1618 [==============================] - 1s 462us/step - loss: 678.4522\n",
      "Epoch 65/100\n",
      "1618/1618 [==============================] - 1s 466us/step - loss: 705.0253\n",
      "Epoch 66/100\n",
      "1618/1618 [==============================] - 1s 483us/step - loss: 699.5581\n",
      "Epoch 67/100\n",
      "1618/1618 [==============================] - 1s 579us/step - loss: 692.0401\n",
      "Epoch 68/100\n",
      "1618/1618 [==============================] - 1s 469us/step - loss: 707.9666\n",
      "Epoch 69/100\n",
      "1618/1618 [==============================] - 1s 461us/step - loss: 679.3964\n",
      "Epoch 70/100\n",
      "1618/1618 [==============================] - 1s 457us/step - loss: 694.8508\n",
      "Epoch 71/100\n",
      "1618/1618 [==============================] - 1s 464us/step - loss: 679.2803\n",
      "Epoch 72/100\n",
      "1618/1618 [==============================] - 1s 467us/step - loss: 681.8463\n",
      "Epoch 73/100\n",
      "1618/1618 [==============================] - 1s 458us/step - loss: 661.4174\n",
      "Epoch 74/100\n",
      "1618/1618 [==============================] - 1s 533us/step - loss: 694.6900\n",
      "Epoch 75/100\n",
      "1618/1618 [==============================] - 1s 476us/step - loss: 649.1317\n",
      "Epoch 76/100\n",
      "1618/1618 [==============================] - 1s 467us/step - loss: 654.5701\n",
      "Epoch 77/100\n",
      "1618/1618 [==============================] - 1s 465us/step - loss: 657.6535\n",
      "Epoch 78/100\n",
      "1618/1618 [==============================] - 1s 463us/step - loss: 656.3798\n",
      "Epoch 79/100\n",
      "1618/1618 [==============================] - 1s 465us/step - loss: 641.6480\n",
      "Epoch 80/100\n",
      "1618/1618 [==============================] - 1s 461us/step - loss: 669.8272\n",
      "Epoch 81/100\n",
      "1618/1618 [==============================] - 1s 469us/step - loss: 701.3378\n",
      "Epoch 82/100\n",
      "1618/1618 [==============================] - 1s 463us/step - loss: 641.0956\n",
      "Epoch 83/100\n",
      "1618/1618 [==============================] - 1s 462us/step - loss: 681.6040\n",
      "Epoch 84/100\n",
      "1618/1618 [==============================] - 1s 465us/step - loss: 674.2979\n",
      "Epoch 85/100\n",
      "1618/1618 [==============================] - 1s 460us/step - loss: 686.8111\n",
      "Epoch 86/100\n",
      "1618/1618 [==============================] - 1s 459us/step - loss: 668.8847\n",
      "Epoch 87/100\n",
      "1618/1618 [==============================] - 1s 477us/step - loss: 692.3615\n",
      "Epoch 88/100\n",
      "1618/1618 [==============================] - 1s 562us/step - loss: 687.4694\n",
      "Epoch 89/100\n",
      "1618/1618 [==============================] - 1s 467us/step - loss: 683.7358\n",
      "Epoch 90/100\n",
      "1618/1618 [==============================] - 1s 466us/step - loss: 694.0958\n",
      "Epoch 91/100\n",
      "1618/1618 [==============================] - 1s 509us/step - loss: 678.9522\n",
      "Epoch 92/100\n",
      "1618/1618 [==============================] - 1s 473us/step - loss: 674.3267\n",
      "Epoch 93/100\n"
     ]
    },
    {
     "name": "stdout",
     "output_type": "stream",
     "text": [
      "1618/1618 [==============================] - 1s 476us/step - loss: 691.2195\n",
      "Epoch 94/100\n",
      "1618/1618 [==============================] - 1s 481us/step - loss: 681.9622\n",
      "Epoch 95/100\n",
      "1618/1618 [==============================] - 1s 457us/step - loss: 696.4977\n",
      "Epoch 96/100\n",
      "1618/1618 [==============================] - 1s 459us/step - loss: 676.3839\n",
      "Epoch 97/100\n",
      "1618/1618 [==============================] - 1s 466us/step - loss: 666.1094\n",
      "Epoch 98/100\n",
      "1618/1618 [==============================] - 1s 459us/step - loss: 654.3423\n",
      "Epoch 99/100\n",
      "1618/1618 [==============================] - 1s 458us/step - loss: 676.7068\n",
      "Epoch 100/100\n",
      "1618/1618 [==============================] - 1s 465us/step - loss: 651.4336\n"
     ]
    },
    {
     "data": {
      "text/plain": [
       "<tensorflow.python.keras.callbacks.History at 0x223158911c0>"
      ]
     },
     "execution_count": 42,
     "metadata": {},
     "output_type": "execute_result"
    }
   ],
   "source": [
    "ann_regr.fit(X, y, batch_size=64, epochs=100)"
   ]
  },
  {
   "cell_type": "code",
   "execution_count": 43,
   "metadata": {},
   "outputs": [],
   "source": [
    "y_pred = ann_regr.predict(X_test)"
   ]
  },
  {
   "cell_type": "code",
   "execution_count": 44,
   "metadata": {},
   "outputs": [
    {
     "name": "stdout",
     "output_type": "stream",
     "text": [
      "21299      5.23\n",
      "46765     31.80\n",
      "61847      9.80\n",
      "22409     54.80\n",
      "83732     14.07\n",
      "          ...  \n",
      "83489      5.03\n",
      "101649     4.50\n",
      "75516     31.23\n",
      "101481     7.50\n",
      "32904      3.30\n",
      "Name: P1, Length: 31059, dtype: float64\n"
     ]
    }
   ],
   "source": [
    "print(y_test)"
   ]
  },
  {
   "cell_type": "code",
   "execution_count": 45,
   "metadata": {},
   "outputs": [
    {
     "data": {
      "text/plain": [
       "array([[10.207802]], dtype=float32)"
      ]
     },
     "execution_count": 45,
     "metadata": {},
     "output_type": "execute_result"
    }
   ],
   "source": [
    "ann_regr.predict(today)"
   ]
  },
  {
   "cell_type": "markdown",
   "metadata": {},
   "source": [
    "Later training XGBoost"
   ]
  },
  {
   "cell_type": "code",
   "execution_count": 46,
   "metadata": {},
   "outputs": [],
   "source": [
    "df['HighP1'] = df['P1'].apply(is_p1_high)"
   ]
  },
  {
   "cell_type": "markdown",
   "metadata": {},
   "source": [
    "### Now I will run a classification RF model"
   ]
  },
  {
   "cell_type": "code",
   "execution_count": 47,
   "metadata": {},
   "outputs": [],
   "source": [
    "from sklearn.ensemble import RandomForestClassifier"
   ]
  },
  {
   "cell_type": "code",
   "execution_count": 48,
   "metadata": {},
   "outputs": [],
   "source": [
    "y = df['HighP1']"
   ]
  },
  {
   "cell_type": "code",
   "execution_count": 49,
   "metadata": {},
   "outputs": [],
   "source": [
    "X_train, X_test, y_train, y_test = train_test_split(X, y, test_size = 0.3)\n",
    "today = [1, 100, 0, 6, 1]"
   ]
  },
  {
   "cell_type": "code",
   "execution_count": 50,
   "metadata": {},
   "outputs": [],
   "source": [
    "classifier = RandomForestClassifier()"
   ]
  },
  {
   "cell_type": "code",
   "execution_count": 51,
   "metadata": {},
   "outputs": [
    {
     "data": {
      "text/plain": [
       "RandomForestClassifier()"
      ]
     },
     "execution_count": 51,
     "metadata": {},
     "output_type": "execute_result"
    }
   ],
   "source": [
    "classifier.fit(X_train, y_train)"
   ]
  },
  {
   "cell_type": "code",
   "execution_count": 52,
   "metadata": {},
   "outputs": [],
   "source": [
    "y_pred = classifier.predict(X_test)"
   ]
  },
  {
   "cell_type": "code",
   "execution_count": 53,
   "metadata": {},
   "outputs": [
    {
     "name": "stdout",
     "output_type": "stream",
     "text": [
      "0.8872146559773335\n"
     ]
    }
   ],
   "source": [
    "print(accuracy_score(y_test, y_pred))"
   ]
  },
  {
   "cell_type": "code",
   "execution_count": 54,
   "metadata": {},
   "outputs": [
    {
     "name": "stdout",
     "output_type": "stream",
     "text": [
      "[[24694  1519]\n",
      " [ 1984  2862]]\n"
     ]
    }
   ],
   "source": [
    "print(confusion_matrix(y_test,y_pred))"
   ]
  },
  {
   "cell_type": "code",
   "execution_count": 55,
   "metadata": {},
   "outputs": [
    {
     "name": "stdout",
     "output_type": "stream",
     "text": [
      "              precision    recall  f1-score   support\n",
      "\n",
      "           0       0.93      0.94      0.93     26213\n",
      "           1       0.65      0.59      0.62      4846\n",
      "\n",
      "    accuracy                           0.89     31059\n",
      "   macro avg       0.79      0.77      0.78     31059\n",
      "weighted avg       0.88      0.89      0.88     31059\n",
      "\n"
     ]
    }
   ],
   "source": [
    "print(classification_report(y_test, y_pred))"
   ]
  },
  {
   "cell_type": "code",
   "execution_count": 56,
   "metadata": {},
   "outputs": [
    {
     "data": {
      "text/plain": [
       "array([23.9643])"
      ]
     },
     "execution_count": 56,
     "metadata": {},
     "output_type": "execute_result"
    }
   ],
   "source": [
    "classifier.predict_proba([today])\n",
    "regr.predict([today])"
   ]
  },
  {
   "cell_type": "code",
   "execution_count": 57,
   "metadata": {},
   "outputs": [
    {
     "data": {
      "text/plain": [
       "array([0.5678878 , 0.2270516 , 0.00064802, 0.14033457, 0.06407801])"
      ]
     },
     "execution_count": 57,
     "metadata": {},
     "output_type": "execute_result"
    }
   ],
   "source": [
    "regr.feature_importances_"
   ]
  },
  {
   "cell_type": "code",
   "execution_count": 58,
   "metadata": {},
   "outputs": [
    {
     "data": {
      "text/plain": [
       "array([0.56852997, 0.23193755, 0.00104011, 0.07856513, 0.11992724])"
      ]
     },
     "execution_count": 58,
     "metadata": {},
     "output_type": "execute_result"
    }
   ],
   "source": [
    "classifier.feature_importances_"
   ]
  },
  {
   "cell_type": "markdown",
   "metadata": {},
   "source": [
    "Results are not great - this may be due to overfitting of the clean air data as we have roughly 5 times more data for that case"
   ]
  },
  {
   "cell_type": "code",
   "execution_count": 59,
   "metadata": {},
   "outputs": [],
   "source": [
    "from sklearn.svm import SVC\n",
    "from sklearn.preprocessing import StandardScaler"
   ]
  },
  {
   "cell_type": "code",
   "execution_count": 60,
   "metadata": {},
   "outputs": [],
   "source": [
    "sc = StandardScaler()"
   ]
  },
  {
   "cell_type": "code",
   "execution_count": 61,
   "metadata": {},
   "outputs": [],
   "source": [
    "classifier_svc = SVC()"
   ]
  },
  {
   "cell_type": "code",
   "execution_count": 62,
   "metadata": {},
   "outputs": [],
   "source": [
    "X_train = sc.fit_transform(X_train)\n",
    "X_test = sc.transform(X_test)\n",
    "today = sc.transform([today])"
   ]
  },
  {
   "cell_type": "code",
   "execution_count": 63,
   "metadata": {},
   "outputs": [
    {
     "data": {
      "text/plain": [
       "SVC()"
      ]
     },
     "execution_count": 63,
     "metadata": {},
     "output_type": "execute_result"
    }
   ],
   "source": [
    "classifier_svc.fit(X_train, y_train)"
   ]
  },
  {
   "cell_type": "code",
   "execution_count": 64,
   "metadata": {
    "scrolled": true
   },
   "outputs": [],
   "source": [
    "y_pred_svc = classifier_svc.predict(X_test)"
   ]
  },
  {
   "cell_type": "code",
   "execution_count": 65,
   "metadata": {},
   "outputs": [
    {
     "name": "stdout",
     "output_type": "stream",
     "text": [
      "              precision    recall  f1-score   support\n",
      "\n",
      "           0       0.87      0.97      0.92     26213\n",
      "           1       0.59      0.24      0.34      4846\n",
      "\n",
      "    accuracy                           0.86     31059\n",
      "   macro avg       0.73      0.60      0.63     31059\n",
      "weighted avg       0.83      0.86      0.83     31059\n",
      "\n"
     ]
    }
   ],
   "source": [
    "print(classification_report(y_test, y_pred_svc))"
   ]
  },
  {
   "cell_type": "code",
   "execution_count": 66,
   "metadata": {},
   "outputs": [
    {
     "data": {
      "text/plain": [
       "array([0], dtype=int64)"
      ]
     },
     "execution_count": 66,
     "metadata": {},
     "output_type": "execute_result"
    }
   ],
   "source": [
    "classifier_svc.predict(today)"
   ]
  },
  {
   "cell_type": "markdown",
   "metadata": {},
   "source": [
    "Now I will try with ANN regression/classification"
   ]
  },
  {
   "cell_type": "code",
   "execution_count": 67,
   "metadata": {},
   "outputs": [],
   "source": [
    "import tensorflow as tf"
   ]
  },
  {
   "cell_type": "code",
   "execution_count": 68,
   "metadata": {},
   "outputs": [],
   "source": [
    "ann = tf.keras.models.Sequential()"
   ]
  },
  {
   "cell_type": "code",
   "execution_count": 69,
   "metadata": {},
   "outputs": [],
   "source": [
    "ann.add(tf.keras.layers.Dense(units = 8, activation='relu'))\n",
    "ann.add(tf.keras.layers.Dense(units = 8, activation='relu'))"
   ]
  },
  {
   "cell_type": "code",
   "execution_count": 70,
   "metadata": {},
   "outputs": [],
   "source": [
    "ann.add(tf.keras.layers.Dense(units=1, activation='sigmoid'))"
   ]
  },
  {
   "cell_type": "code",
   "execution_count": 71,
   "metadata": {},
   "outputs": [],
   "source": [
    "ann.compile(optimizer='adam', loss='binary_crossentropy', metrics=['accuracy'])"
   ]
  },
  {
   "cell_type": "code",
   "execution_count": 72,
   "metadata": {},
   "outputs": [
    {
     "name": "stdout",
     "output_type": "stream",
     "text": [
      "Epoch 1/100\n",
      "1133/1133 [==============================] - 1s 526us/step - loss: 0.4369 - accuracy: 0.7975\n",
      "Epoch 2/100\n",
      "1133/1133 [==============================] - 1s 497us/step - loss: 0.3257 - accuracy: 0.8367\n",
      "Epoch 3/100\n",
      "1133/1133 [==============================] - 1s 504us/step - loss: 0.3192 - accuracy: 0.8415\n",
      "Epoch 4/100\n",
      "1133/1133 [==============================] - 1s 498us/step - loss: 0.3167 - accuracy: 0.8452\n",
      "Epoch 5/100\n",
      "1133/1133 [==============================] - 1s 499us/step - loss: 0.3170 - accuracy: 0.8428\n",
      "Epoch 6/100\n",
      "1133/1133 [==============================] - 1s 506us/step - loss: 0.3160 - accuracy: 0.8413\n",
      "Epoch 7/100\n",
      "1133/1133 [==============================] - 1s 497us/step - loss: 0.3136 - accuracy: 0.8435\n",
      "Epoch 8/100\n",
      "1133/1133 [==============================] - 1s 504us/step - loss: 0.3137 - accuracy: 0.8436\n",
      "Epoch 9/100\n",
      "1133/1133 [==============================] - 1s 500us/step - loss: 0.3124 - accuracy: 0.8460\n",
      "Epoch 10/100\n",
      "1133/1133 [==============================] - 1s 507us/step - loss: 0.3127 - accuracy: 0.8429\n",
      "Epoch 11/100\n",
      "1133/1133 [==============================] - 1s 497us/step - loss: 0.3053 - accuracy: 0.8498\n",
      "Epoch 12/100\n",
      "1133/1133 [==============================] - 1s 510us/step - loss: 0.3112 - accuracy: 0.8475\n",
      "Epoch 13/100\n",
      "1133/1133 [==============================] - 1s 505us/step - loss: 0.3098 - accuracy: 0.8479\n",
      "Epoch 14/100\n",
      "1133/1133 [==============================] - 1s 517us/step - loss: 0.3077 - accuracy: 0.8490\n",
      "Epoch 15/100\n",
      "1133/1133 [==============================] - 1s 506us/step - loss: 0.3086 - accuracy: 0.8508\n",
      "Epoch 16/100\n",
      "1133/1133 [==============================] - 1s 507us/step - loss: 0.3065 - accuracy: 0.8515\n",
      "Epoch 17/100\n",
      "1133/1133 [==============================] - 1s 503us/step - loss: 0.3125 - accuracy: 0.8492\n",
      "Epoch 18/100\n",
      "1133/1133 [==============================] - 1s 501us/step - loss: 0.3065 - accuracy: 0.8498\n",
      "Epoch 19/100\n",
      "1133/1133 [==============================] - 1s 502us/step - loss: 0.3035 - accuracy: 0.8536\n",
      "Epoch 20/100\n",
      "1133/1133 [==============================] - 1s 504us/step - loss: 0.3041 - accuracy: 0.8530\n",
      "Epoch 21/100\n",
      "1133/1133 [==============================] - 1s 483us/step - loss: 0.3053 - accuracy: 0.8524\n",
      "Epoch 22/100\n",
      "1133/1133 [==============================] - 1s 535us/step - loss: 0.3065 - accuracy: 0.8527\n",
      "Epoch 23/100\n",
      "1133/1133 [==============================] - 1s 519us/step - loss: 0.3040 - accuracy: 0.8533\n",
      "Epoch 24/100\n",
      "1133/1133 [==============================] - ETA: 0s - loss: 0.3077 - accuracy: 0.85 - 1s 592us/step - loss: 0.3076 - accuracy: 0.8504\n",
      "Epoch 25/100\n",
      "1133/1133 [==============================] - 1s 540us/step - loss: 0.2999 - accuracy: 0.8552\n",
      "Epoch 26/100\n",
      "1133/1133 [==============================] - 1s 498us/step - loss: 0.3028 - accuracy: 0.8538\n",
      "Epoch 27/100\n",
      "1133/1133 [==============================] - 1s 501us/step - loss: 0.3035 - accuracy: 0.8551\n",
      "Epoch 28/100\n",
      "1133/1133 [==============================] - 1s 505us/step - loss: 0.3037 - accuracy: 0.8539\n",
      "Epoch 29/100\n",
      "1133/1133 [==============================] - 1s 504us/step - loss: 0.3010 - accuracy: 0.8576\n",
      "Epoch 30/100\n",
      "1133/1133 [==============================] - 1s 498us/step - loss: 0.3029 - accuracy: 0.8571\n",
      "Epoch 31/100\n",
      "1133/1133 [==============================] - 1s 506us/step - loss: 0.3010 - accuracy: 0.8565\n",
      "Epoch 32/100\n",
      "1133/1133 [==============================] - 1s 509us/step - loss: 0.2987 - accuracy: 0.8578\n",
      "Epoch 33/100\n",
      "1133/1133 [==============================] - 1s 534us/step - loss: 0.3024 - accuracy: 0.8572\n",
      "Epoch 34/100\n",
      "1133/1133 [==============================] - 1s 537us/step - loss: 0.3013 - accuracy: 0.8588\n",
      "Epoch 35/100\n",
      "1133/1133 [==============================] - 1s 532us/step - loss: 0.2999 - accuracy: 0.8582\n",
      "Epoch 36/100\n",
      "1133/1133 [==============================] - 1s 545us/step - loss: 0.2990 - accuracy: 0.8586\n",
      "Epoch 37/100\n",
      "1133/1133 [==============================] - 1s 531us/step - loss: 0.2992 - accuracy: 0.8594\n",
      "Epoch 38/100\n",
      "1133/1133 [==============================] - 1s 528us/step - loss: 0.2999 - accuracy: 0.8573\n",
      "Epoch 39/100\n",
      "1133/1133 [==============================] - 1s 534us/step - loss: 0.2980 - accuracy: 0.8585\n",
      "Epoch 40/100\n",
      "1133/1133 [==============================] - 1s 527us/step - loss: 0.2990 - accuracy: 0.8588\n",
      "Epoch 41/100\n",
      "1133/1133 [==============================] - 1s 533us/step - loss: 0.2976 - accuracy: 0.8588\n",
      "Epoch 42/100\n",
      "1133/1133 [==============================] - 1s 530us/step - loss: 0.2966 - accuracy: 0.8591\n",
      "Epoch 43/100\n",
      "1133/1133 [==============================] - 1s 531us/step - loss: 0.3003 - accuracy: 0.8586\n",
      "Epoch 44/100\n",
      "1133/1133 [==============================] - 1s 543us/step - loss: 0.2979 - accuracy: 0.8585\n",
      "Epoch 45/100\n",
      "1133/1133 [==============================] - 1s 529us/step - loss: 0.2955 - accuracy: 0.8597\n",
      "Epoch 46/100\n",
      "1133/1133 [==============================] - 1s 548us/step - loss: 0.2956 - accuracy: 0.8618\n",
      "Epoch 47/100\n",
      "1133/1133 [==============================] - 1s 585us/step - loss: 0.2963 - accuracy: 0.8619\n",
      "Epoch 48/100\n",
      "1133/1133 [==============================] - 1s 558us/step - loss: 0.2954 - accuracy: 0.8610\n",
      "Epoch 49/100\n",
      "1133/1133 [==============================] - 1s 539us/step - loss: 0.2962 - accuracy: 0.8599\n",
      "Epoch 50/100\n",
      "1133/1133 [==============================] - 1s 583us/step - loss: 0.2956 - accuracy: 0.8604\n",
      "Epoch 51/100\n",
      "1133/1133 [==============================] - 1s 659us/step - loss: 0.2969 - accuracy: 0.8591\n",
      "Epoch 52/100\n",
      "1133/1133 [==============================] - 1s 551us/step - loss: 0.2986 - accuracy: 0.8615\n",
      "Epoch 53/100\n",
      "1133/1133 [==============================] - 1s 540us/step - loss: 0.2965 - accuracy: 0.8605\n",
      "Epoch 54/100\n",
      "1133/1133 [==============================] - 1s 527us/step - loss: 0.2965 - accuracy: 0.8613\n",
      "Epoch 55/100\n",
      "1133/1133 [==============================] - 1s 534us/step - loss: 0.2971 - accuracy: 0.8604\n",
      "Epoch 56/100\n",
      "1133/1133 [==============================] - 1s 530us/step - loss: 0.2956 - accuracy: 0.8598\n",
      "Epoch 57/100\n",
      "1133/1133 [==============================] - 1s 525us/step - loss: 0.2968 - accuracy: 0.8605\n",
      "Epoch 58/100\n",
      "1133/1133 [==============================] - 1s 526us/step - loss: 0.2903 - accuracy: 0.8630\n",
      "Epoch 59/100\n",
      "1133/1133 [==============================] - 1s 525us/step - loss: 0.2964 - accuracy: 0.8597\n",
      "Epoch 60/100\n",
      "1133/1133 [==============================] - 1s 535us/step - loss: 0.2942 - accuracy: 0.8604\n",
      "Epoch 61/100\n",
      "1133/1133 [==============================] - 1s 529us/step - loss: 0.2952 - accuracy: 0.8617\n",
      "Epoch 62/100\n",
      "1133/1133 [==============================] - 1s 533us/step - loss: 0.2971 - accuracy: 0.8615\n",
      "Epoch 63/100\n",
      "1133/1133 [==============================] - 1s 527us/step - loss: 0.2975 - accuracy: 0.8605\n",
      "Epoch 64/100\n",
      "1133/1133 [==============================] - 1s 539us/step - loss: 0.2935 - accuracy: 0.8620\n",
      "Epoch 65/100\n",
      "1133/1133 [==============================] - 1s 537us/step - loss: 0.2950 - accuracy: 0.8616\n",
      "Epoch 66/100\n",
      "1133/1133 [==============================] - 1s 531us/step - loss: 0.2921 - accuracy: 0.8639\n",
      "Epoch 67/100\n",
      "1133/1133 [==============================] - 1s 595us/step - loss: 0.2948 - accuracy: 0.8627\n",
      "Epoch 68/100\n",
      "1133/1133 [==============================] - 1s 579us/step - loss: 0.2946 - accuracy: 0.8595\n",
      "Epoch 69/100\n",
      "1133/1133 [==============================] - 1s 541us/step - loss: 0.2944 - accuracy: 0.8600\n",
      "Epoch 70/100\n",
      "1133/1133 [==============================] - 1s 529us/step - loss: 0.2951 - accuracy: 0.8615\n",
      "Epoch 71/100\n",
      "1133/1133 [==============================] - 1s 543us/step - loss: 0.2914 - accuracy: 0.8630\n",
      "Epoch 72/100\n",
      "1133/1133 [==============================] - 1s 562us/step - loss: 0.2912 - accuracy: 0.8646\n",
      "Epoch 73/100\n",
      "1133/1133 [==============================] - 1s 532us/step - loss: 0.2922 - accuracy: 0.8630\n",
      "Epoch 74/100\n",
      "1133/1133 [==============================] - 1s 526us/step - loss: 0.2928 - accuracy: 0.8628\n",
      "Epoch 75/100\n",
      "1133/1133 [==============================] - 1s 532us/step - loss: 0.2923 - accuracy: 0.8626\n",
      "Epoch 76/100\n",
      "1133/1133 [==============================] - 1s 600us/step - loss: 0.2924 - accuracy: 0.8623\n",
      "Epoch 77/100\n",
      "1133/1133 [==============================] - 1s 642us/step - loss: 0.2893 - accuracy: 0.8653\n"
     ]
    },
    {
     "name": "stdout",
     "output_type": "stream",
     "text": [
      "Epoch 78/100\n",
      "1133/1133 [==============================] - 1s 534us/step - loss: 0.2931 - accuracy: 0.8618\n",
      "Epoch 79/100\n",
      "1133/1133 [==============================] - 1s 524us/step - loss: 0.2930 - accuracy: 0.8620\n",
      "Epoch 80/100\n",
      "1133/1133 [==============================] - 1s 560us/step - loss: 0.2907 - accuracy: 0.8624\n",
      "Epoch 81/100\n",
      "1133/1133 [==============================] - 1s 629us/step - loss: 0.2905 - accuracy: 0.8643\n",
      "Epoch 82/100\n",
      "1133/1133 [==============================] - 1s 532us/step - loss: 0.2906 - accuracy: 0.8621\n",
      "Epoch 83/100\n",
      "1133/1133 [==============================] - 1s 526us/step - loss: 0.2891 - accuracy: 0.8643\n",
      "Epoch 84/100\n",
      "1133/1133 [==============================] - 1s 527us/step - loss: 0.2874 - accuracy: 0.8631\n",
      "Epoch 85/100\n",
      "1133/1133 [==============================] - 1s 529us/step - loss: 0.2887 - accuracy: 0.8645\n",
      "Epoch 86/100\n",
      "1133/1133 [==============================] - 1s 531us/step - loss: 0.2920 - accuracy: 0.8613\n",
      "Epoch 87/100\n",
      "1133/1133 [==============================] - 1s 528us/step - loss: 0.2939 - accuracy: 0.8620\n",
      "Epoch 88/100\n",
      "1133/1133 [==============================] - 1s 578us/step - loss: 0.2893 - accuracy: 0.8640\n",
      "Epoch 89/100\n",
      "1133/1133 [==============================] - 1s 525us/step - loss: 0.2866 - accuracy: 0.8644\n",
      "Epoch 90/100\n",
      "1133/1133 [==============================] - 1s 527us/step - loss: 0.2904 - accuracy: 0.8612\n",
      "Epoch 91/100\n",
      "1133/1133 [==============================] - 1s 553us/step - loss: 0.2902 - accuracy: 0.8618\n",
      "Epoch 92/100\n",
      "1133/1133 [==============================] - 1s 534us/step - loss: 0.2926 - accuracy: 0.8621\n",
      "Epoch 93/100\n",
      "1133/1133 [==============================] - 1s 546us/step - loss: 0.2897 - accuracy: 0.8647\n",
      "Epoch 94/100\n",
      "1133/1133 [==============================] - 1s 528us/step - loss: 0.2885 - accuracy: 0.8633\n",
      "Epoch 95/100\n",
      "1133/1133 [==============================] - 1s 524us/step - loss: 0.2903 - accuracy: 0.8627\n",
      "Epoch 96/100\n",
      "1133/1133 [==============================] - 1s 552us/step - loss: 0.2925 - accuracy: 0.8615\n",
      "Epoch 97/100\n",
      "1133/1133 [==============================] - 1s 539us/step - loss: 0.2936 - accuracy: 0.8607\n",
      "Epoch 98/100\n",
      "1133/1133 [==============================] - 1s 538us/step - loss: 0.2892 - accuracy: 0.8610\n",
      "Epoch 99/100\n",
      "1133/1133 [==============================] - 1s 526us/step - loss: 0.2872 - accuracy: 0.8633\n",
      "Epoch 100/100\n",
      "1133/1133 [==============================] - 1s 525us/step - loss: 0.2888 - accuracy: 0.8623\n"
     ]
    },
    {
     "data": {
      "text/plain": [
       "<tensorflow.python.keras.callbacks.History at 0x2231631ed90>"
      ]
     },
     "execution_count": 72,
     "metadata": {},
     "output_type": "execute_result"
    }
   ],
   "source": [
    "ann.fit(X_train, y_train, batch_size=64, epochs=100)"
   ]
  },
  {
   "cell_type": "code",
   "execution_count": 73,
   "metadata": {},
   "outputs": [],
   "source": [
    "y_pred = ann.predict(X_test)"
   ]
  },
  {
   "cell_type": "code",
   "execution_count": 74,
   "metadata": {},
   "outputs": [
    {
     "data": {
      "text/plain": [
       "array([[0.07344437]], dtype=float32)"
      ]
     },
     "execution_count": 74,
     "metadata": {},
     "output_type": "execute_result"
    }
   ],
   "source": [
    "ann.predict(today)"
   ]
  },
  {
   "cell_type": "code",
   "execution_count": 75,
   "metadata": {},
   "outputs": [],
   "source": [
    "y_pred = (y_pred > 0.5)"
   ]
  },
  {
   "cell_type": "code",
   "execution_count": 76,
   "metadata": {},
   "outputs": [
    {
     "name": "stdout",
     "output_type": "stream",
     "text": [
      "              precision    recall  f1-score   support\n",
      "\n",
      "           0       0.90      0.94      0.92     26213\n",
      "           1       0.60      0.44      0.51      4846\n",
      "\n",
      "    accuracy                           0.87     31059\n",
      "   macro avg       0.75      0.69      0.72     31059\n",
      "weighted avg       0.85      0.87      0.86     31059\n",
      "\n"
     ]
    }
   ],
   "source": [
    "print(classification_report(y_test, y_pred))"
   ]
  },
  {
   "cell_type": "code",
   "execution_count": 77,
   "metadata": {},
   "outputs": [],
   "source": [
    "data = weathercom.getCityWeatherDetails(city='Sofia',queryType=\"ten-days-data\")\n",
    "df = pd.read_json(data)\n",
    "weather = pd.DataFrame()\n",
    "date = pd.DataFrame()"
   ]
  },
  {
   "cell_type": "code",
   "execution_count": 78,
   "metadata": {},
   "outputs": [],
   "source": [
    "weather['Temperature'] = df['vt1dailyForecast']['day']['temperature']\n",
    "weather['Humidity'] = df['vt1dailyForecast']['day']['humidityPct']"
   ]
  },
  {
   "cell_type": "code",
   "execution_count": 79,
   "metadata": {},
   "outputs": [],
   "source": [
    "date['Date'] = pd.to_datetime(df['vt1dailyForecast']['validDate'])"
   ]
  },
  {
   "cell_type": "code",
   "execution_count": 80,
   "metadata": {},
   "outputs": [],
   "source": [
    "weather['IsHoliday'] = date['Date'].apply(is_holiday)\n",
    "weather['Weekday'] = date['Date'].dt.dayofweek\n",
    "weather['Season'] = date['Date'].apply(season)"
   ]
  },
  {
   "cell_type": "code",
   "execution_count": 81,
   "metadata": {},
   "outputs": [],
   "source": [
    "weather = sc_regr.transform(weather)"
   ]
  },
  {
   "cell_type": "code",
   "execution_count": 82,
   "metadata": {},
   "outputs": [
    {
     "data": {
      "text/plain": [
       "array([[ 9.536899 ],\n",
       "       [ 9.470142 ],\n",
       "       [10.731634 ],\n",
       "       [10.163251 ],\n",
       "       [ 9.602299 ],\n",
       "       [ 9.25119  ],\n",
       "       [ 9.090693 ],\n",
       "       [ 9.579494 ],\n",
       "       [ 9.484379 ],\n",
       "       [10.692276 ],\n",
       "       [10.163251 ],\n",
       "       [ 9.616421 ],\n",
       "       [ 9.197155 ],\n",
       "       [ 9.2212715],\n",
       "       [ 9.584774 ]], dtype=float32)"
      ]
     },
     "execution_count": 82,
     "metadata": {},
     "output_type": "execute_result"
    }
   ],
   "source": [
    "ann_regr.predict(weather)"
   ]
  },
  {
   "cell_type": "markdown",
   "metadata": {},
   "source": [
    "Saving the model so it can be reused"
   ]
  },
  {
   "cell_type": "code",
   "execution_count": 88,
   "metadata": {},
   "outputs": [
    {
     "data": {
      "text/plain": [
       "array([10.9926853 ,  9.35739567,  8.79661261,  7.20804322,  5.55358888,\n",
       "        5.60462497,  5.91590952,  6.45808598,  7.25833107,  8.15680595,\n",
       "        7.20804322,  5.78379189,  5.63670194,  6.26993954,  6.58208697])"
      ]
     },
     "execution_count": 88,
     "metadata": {},
     "output_type": "execute_result"
    }
   ],
   "source": [
    "regr_svm.predict(weather)"
   ]
  },
  {
   "cell_type": "code",
   "execution_count": 83,
   "metadata": {},
   "outputs": [],
   "source": [
    "import joblib"
   ]
  },
  {
   "cell_type": "code",
   "execution_count": 89,
   "metadata": {},
   "outputs": [
    {
     "data": {
      "text/plain": [
       "['svm_regr.bin']"
      ]
     },
     "execution_count": 89,
     "metadata": {},
     "output_type": "execute_result"
    }
   ],
   "source": [
    "joblib.dump(regr_svm, 'svm_regr.bin', compress=True)"
   ]
  },
  {
   "cell_type": "code",
   "execution_count": 84,
   "metadata": {},
   "outputs": [
    {
     "data": {
      "text/plain": [
       "['std_scaler.bin']"
      ]
     },
     "execution_count": 84,
     "metadata": {},
     "output_type": "execute_result"
    }
   ],
   "source": [
    "joblib.dump(sc_regr, 'std_scaler.bin', compress=True)"
   ]
  },
  {
   "cell_type": "code",
   "execution_count": 85,
   "metadata": {},
   "outputs": [],
   "source": [
    "ann_regr.save('ann_regr_weather.h5')"
   ]
  }
 ],
 "metadata": {
  "kernelspec": {
   "display_name": "Python 3",
   "language": "python",
   "name": "python3"
  },
  "language_info": {
   "codemirror_mode": {
    "name": "ipython",
    "version": 3
   },
   "file_extension": ".py",
   "mimetype": "text/x-python",
   "name": "python",
   "nbconvert_exporter": "python",
   "pygments_lexer": "ipython3",
   "version": "3.8.5"
  }
 },
 "nbformat": 4,
 "nbformat_minor": 4
}
